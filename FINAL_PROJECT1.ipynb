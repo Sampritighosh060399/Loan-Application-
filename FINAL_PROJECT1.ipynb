{
 "cells": [
  {
   "cell_type": "markdown",
   "metadata": {},
   "source": [
    "### Loan Application Project : By Group 5"
   ]
  },
  {
   "cell_type": "markdown",
   "metadata": {},
   "source": [
    "### Analysing of the given dataset:-"
   ]
  },
  {
   "cell_type": "raw",
   "metadata": {},
   "source": [
    "we have been provided with two datstesets of loan application data one is training dataset and other is test dataset. "
   ]
  },
  {
   "cell_type": "raw",
   "metadata": {},
   "source": [
    "The datasets contains these variables:-\n",
    "\n",
    "Application Id:The applicatant no.\n",
    "Gender: The gender of the applicant\n",
    "Married: The marital status of the applicant\n",
    "Dependent: If there are any other person present in the applicants family\n",
    "Education: The educational qualification of the aplicant\n",
    "Self-employed: The employement status of the applicant\n",
    "Applicant Income: The income status of the applicant\n",
    "Co-applicant income: the income status of the guarantor\n",
    "Loan amount: The total loan amount \n",
    "Credit History  (1 if present, 0  or blank if not): If the applicant is applicable for loan\n",
    "Property area: The assets present with the applicant at the time of the issue of the loan\n",
    "Loan status : It is the outcome column which tells whether the loan application is accepted or rejected\n",
    "\n",
    "Goal: Predict whether a loan application will be accepted based upon applicant data"
   ]
  },
  {
   "cell_type": "code",
   "execution_count": 1,
   "metadata": {},
   "outputs": [],
   "source": [
    "# importing the modules\n",
    "import pandas as pd\n",
    "import numpy as np"
   ]
  },
  {
   "cell_type": "code",
   "execution_count": 2,
   "metadata": {},
   "outputs": [
    {
     "data": {
      "text/html": [
       "<div>\n",
       "<style scoped>\n",
       "    .dataframe tbody tr th:only-of-type {\n",
       "        vertical-align: middle;\n",
       "    }\n",
       "\n",
       "    .dataframe tbody tr th {\n",
       "        vertical-align: top;\n",
       "    }\n",
       "\n",
       "    .dataframe thead th {\n",
       "        text-align: right;\n",
       "    }\n",
       "</style>\n",
       "<table border=\"1\" class=\"dataframe\">\n",
       "  <thead>\n",
       "    <tr style=\"text-align: right;\">\n",
       "      <th></th>\n",
       "      <th>Application_ID</th>\n",
       "      <th>Gender</th>\n",
       "      <th>Married</th>\n",
       "      <th>Dependents</th>\n",
       "      <th>Education</th>\n",
       "      <th>Self_Employed</th>\n",
       "      <th>ApplicantIncome</th>\n",
       "      <th>CoapplicantIncome</th>\n",
       "      <th>LoanAmount</th>\n",
       "      <th>Loan_Amount_Term</th>\n",
       "      <th>Credit_History</th>\n",
       "      <th>Property_Area</th>\n",
       "      <th>Loan_Status</th>\n",
       "    </tr>\n",
       "  </thead>\n",
       "  <tbody>\n",
       "    <tr>\n",
       "      <th>0</th>\n",
       "      <td>1002</td>\n",
       "      <td>M</td>\n",
       "      <td>No</td>\n",
       "      <td>0</td>\n",
       "      <td>Graduate</td>\n",
       "      <td>No</td>\n",
       "      <td>5849</td>\n",
       "      <td>0</td>\n",
       "      <td>NaN</td>\n",
       "      <td>360.0</td>\n",
       "      <td>1.0</td>\n",
       "      <td>Urban</td>\n",
       "      <td>Y</td>\n",
       "    </tr>\n",
       "    <tr>\n",
       "      <th>1</th>\n",
       "      <td>1003</td>\n",
       "      <td>M</td>\n",
       "      <td>Yes</td>\n",
       "      <td>1</td>\n",
       "      <td>Graduate</td>\n",
       "      <td>No</td>\n",
       "      <td>4583</td>\n",
       "      <td>1508</td>\n",
       "      <td>128.0</td>\n",
       "      <td>360.0</td>\n",
       "      <td>1.0</td>\n",
       "      <td>Rural</td>\n",
       "      <td>N</td>\n",
       "    </tr>\n",
       "    <tr>\n",
       "      <th>2</th>\n",
       "      <td>1005</td>\n",
       "      <td>M</td>\n",
       "      <td>Yes</td>\n",
       "      <td>0</td>\n",
       "      <td>Graduate</td>\n",
       "      <td>Yes</td>\n",
       "      <td>3000</td>\n",
       "      <td>0</td>\n",
       "      <td>66.0</td>\n",
       "      <td>360.0</td>\n",
       "      <td>1.0</td>\n",
       "      <td>Urban</td>\n",
       "      <td>Y</td>\n",
       "    </tr>\n",
       "    <tr>\n",
       "      <th>3</th>\n",
       "      <td>1006</td>\n",
       "      <td>M</td>\n",
       "      <td>Yes</td>\n",
       "      <td>0</td>\n",
       "      <td>Not Graduate</td>\n",
       "      <td>No</td>\n",
       "      <td>2583</td>\n",
       "      <td>2358</td>\n",
       "      <td>120.0</td>\n",
       "      <td>360.0</td>\n",
       "      <td>1.0</td>\n",
       "      <td>Urban</td>\n",
       "      <td>Y</td>\n",
       "    </tr>\n",
       "    <tr>\n",
       "      <th>4</th>\n",
       "      <td>1008</td>\n",
       "      <td>M</td>\n",
       "      <td>No</td>\n",
       "      <td>0</td>\n",
       "      <td>Graduate</td>\n",
       "      <td>No</td>\n",
       "      <td>6000</td>\n",
       "      <td>0</td>\n",
       "      <td>141.0</td>\n",
       "      <td>360.0</td>\n",
       "      <td>1.0</td>\n",
       "      <td>Urban</td>\n",
       "      <td>Y</td>\n",
       "    </tr>\n",
       "  </tbody>\n",
       "</table>\n",
       "</div>"
      ],
      "text/plain": [
       "   Application_ID Gender Married Dependents     Education Self_Employed  \\\n",
       "0            1002      M      No          0      Graduate            No   \n",
       "1            1003      M     Yes          1      Graduate            No   \n",
       "2            1005      M     Yes          0      Graduate           Yes   \n",
       "3            1006      M     Yes          0  Not Graduate            No   \n",
       "4            1008      M      No          0      Graduate            No   \n",
       "\n",
       "   ApplicantIncome  CoapplicantIncome  LoanAmount  Loan_Amount_Term  \\\n",
       "0             5849                  0         NaN             360.0   \n",
       "1             4583               1508       128.0             360.0   \n",
       "2             3000                  0        66.0             360.0   \n",
       "3             2583               2358       120.0             360.0   \n",
       "4             6000                  0       141.0             360.0   \n",
       "\n",
       "   Credit_History Property_Area Loan_Status  \n",
       "0             1.0         Urban           Y  \n",
       "1             1.0         Rural           N  \n",
       "2             1.0         Urban           Y  \n",
       "3             1.0         Urban           Y  \n",
       "4             1.0         Urban           Y  "
      ]
     },
     "execution_count": 2,
     "metadata": {},
     "output_type": "execute_result"
    }
   ],
   "source": [
    "# loading the dataset\n",
    "try:\n",
    "    train=pd.read_csv(\"loan_dataset_train.csv\")\n",
    "except:\n",
    "    print(\"file acess error...\")\n",
    "# print the first five rows    \n",
    "train.head()"
   ]
  },
  {
   "cell_type": "code",
   "execution_count": 3,
   "metadata": {},
   "outputs": [
    {
     "data": {
      "text/html": [
       "<div>\n",
       "<style scoped>\n",
       "    .dataframe tbody tr th:only-of-type {\n",
       "        vertical-align: middle;\n",
       "    }\n",
       "\n",
       "    .dataframe tbody tr th {\n",
       "        vertical-align: top;\n",
       "    }\n",
       "\n",
       "    .dataframe thead th {\n",
       "        text-align: right;\n",
       "    }\n",
       "</style>\n",
       "<table border=\"1\" class=\"dataframe\">\n",
       "  <thead>\n",
       "    <tr style=\"text-align: right;\">\n",
       "      <th></th>\n",
       "      <th>Application_ID</th>\n",
       "      <th>Gender</th>\n",
       "      <th>Married</th>\n",
       "      <th>Dependents</th>\n",
       "      <th>Education</th>\n",
       "      <th>Self_Employed</th>\n",
       "      <th>ApplicantIncome</th>\n",
       "      <th>CoapplicantIncome</th>\n",
       "      <th>LoanAmount</th>\n",
       "      <th>Loan_Amount_Term</th>\n",
       "      <th>Credit_History</th>\n",
       "      <th>Property_Area</th>\n",
       "    </tr>\n",
       "  </thead>\n",
       "  <tbody>\n",
       "    <tr>\n",
       "      <th>0</th>\n",
       "      <td>1345</td>\n",
       "      <td>M</td>\n",
       "      <td>Yes</td>\n",
       "      <td>2</td>\n",
       "      <td>Not Graduate</td>\n",
       "      <td>No</td>\n",
       "      <td>4288</td>\n",
       "      <td>3263.0</td>\n",
       "      <td>133.0</td>\n",
       "      <td>180.0</td>\n",
       "      <td>1.0</td>\n",
       "      <td>Urban</td>\n",
       "    </tr>\n",
       "    <tr>\n",
       "      <th>1</th>\n",
       "      <td>1349</td>\n",
       "      <td>M</td>\n",
       "      <td>No</td>\n",
       "      <td>0</td>\n",
       "      <td>Graduate</td>\n",
       "      <td>No</td>\n",
       "      <td>4843</td>\n",
       "      <td>3806.0</td>\n",
       "      <td>151.0</td>\n",
       "      <td>360.0</td>\n",
       "      <td>1.0</td>\n",
       "      <td>Semiurban</td>\n",
       "    </tr>\n",
       "    <tr>\n",
       "      <th>2</th>\n",
       "      <td>1350</td>\n",
       "      <td>M</td>\n",
       "      <td>Yes</td>\n",
       "      <td>NaN</td>\n",
       "      <td>Graduate</td>\n",
       "      <td>No</td>\n",
       "      <td>13650</td>\n",
       "      <td>0.0</td>\n",
       "      <td>NaN</td>\n",
       "      <td>360.0</td>\n",
       "      <td>1.0</td>\n",
       "      <td>Urban</td>\n",
       "    </tr>\n",
       "    <tr>\n",
       "      <th>3</th>\n",
       "      <td>1356</td>\n",
       "      <td>M</td>\n",
       "      <td>Yes</td>\n",
       "      <td>0</td>\n",
       "      <td>Graduate</td>\n",
       "      <td>No</td>\n",
       "      <td>4652</td>\n",
       "      <td>3583.0</td>\n",
       "      <td>NaN</td>\n",
       "      <td>360.0</td>\n",
       "      <td>1.0</td>\n",
       "      <td>Semiurban</td>\n",
       "    </tr>\n",
       "    <tr>\n",
       "      <th>4</th>\n",
       "      <td>1357</td>\n",
       "      <td>M</td>\n",
       "      <td>NaN</td>\n",
       "      <td>NaN</td>\n",
       "      <td>Graduate</td>\n",
       "      <td>No</td>\n",
       "      <td>3816</td>\n",
       "      <td>754.0</td>\n",
       "      <td>160.0</td>\n",
       "      <td>360.0</td>\n",
       "      <td>1.0</td>\n",
       "      <td>Urban</td>\n",
       "    </tr>\n",
       "  </tbody>\n",
       "</table>\n",
       "</div>"
      ],
      "text/plain": [
       "   Application_ID Gender Married Dependents     Education Self_Employed  \\\n",
       "0            1345      M     Yes          2  Not Graduate            No   \n",
       "1            1349      M      No          0      Graduate            No   \n",
       "2            1350      M     Yes        NaN      Graduate            No   \n",
       "3            1356      M     Yes          0      Graduate            No   \n",
       "4            1357      M     NaN        NaN      Graduate            No   \n",
       "\n",
       "   ApplicantIncome  CoapplicantIncome  LoanAmount  Loan_Amount_Term  \\\n",
       "0             4288             3263.0       133.0             180.0   \n",
       "1             4843             3806.0       151.0             360.0   \n",
       "2            13650                0.0         NaN             360.0   \n",
       "3             4652             3583.0         NaN             360.0   \n",
       "4             3816              754.0       160.0             360.0   \n",
       "\n",
       "   Credit_History Property_Area  \n",
       "0             1.0         Urban  \n",
       "1             1.0     Semiurban  \n",
       "2             1.0         Urban  \n",
       "3             1.0     Semiurban  \n",
       "4             1.0         Urban  "
      ]
     },
     "execution_count": 3,
     "metadata": {},
     "output_type": "execute_result"
    }
   ],
   "source": [
    "# loading the datasets\n",
    "try:\n",
    "    test=pd.read_csv(\"loan_dataset_test.csv\")\n",
    "except:\n",
    "    print(\"file acess error...\")\n",
    "# print the first 5 rows    \n",
    "test.head()"
   ]
  },
  {
   "cell_type": "markdown",
   "metadata": {},
   "source": [
    "### Ploting the datasets on Map"
   ]
  },
  {
   "cell_type": "code",
   "execution_count": 4,
   "metadata": {},
   "outputs": [],
   "source": [
    "# importing modules\n",
    "import seaborn as sns"
   ]
  },
  {
   "cell_type": "code",
   "execution_count": 5,
   "metadata": {},
   "outputs": [
    {
     "data": {
      "text/plain": [
       "<matplotlib.axes._subplots.AxesSubplot at 0x1ba7fd86400>"
      ]
     },
     "execution_count": 5,
     "metadata": {},
     "output_type": "execute_result"
    },
    {
     "data": {
      "image/png": "[encoded data removed]",
      "text/plain": [
       "<Figure size 432x288 with 2 Axes>"
      ]
     },
     "metadata": {
      "needs_background": "light"
     },
     "output_type": "display_data"
    }
   ],
   "source": [
    "sns.heatmap(train.isnull(),yticklabels=False,cbar=True,cmap='viridis')\n",
    "# here, cbar: boolean, new matplotlib default colormap is \"viridis\"\n",
    "# it represents the above data in a graphical form"
   ]
  },
  {
   "cell_type": "code",
   "execution_count": 6,
   "metadata": {},
   "outputs": [
    {
     "data": {
      "text/plain": [
       "<matplotlib.axes._subplots.AxesSubplot at 0x1ba00104358>"
      ]
     },
     "execution_count": 6,
     "metadata": {},
     "output_type": "execute_result"
    },
    {
     "data": {
      "image/png": "[encoded data removed]",
      "text/plain": [
       "<Figure size 432x288 with 2 Axes>"
      ]
     },
     "metadata": {
      "needs_background": "light"
     },
     "output_type": "display_data"
    }
   ],
   "source": [
    "sns.heatmap(test.isnull(),yticklabels=False,cbar=True,cmap='viridis')\n",
    "# here, cbar: boolean, new matplotlib default colormap is \"viridis\"\n",
    "# it represents the above data in a graphical form"
   ]
  },
  {
   "cell_type": "code",
   "execution_count": 7,
   "metadata": {},
   "outputs": [
    {
     "data": {
      "text/html": [
       "<div>\n",
       "<style scoped>\n",
       "    .dataframe tbody tr th:only-of-type {\n",
       "        vertical-align: middle;\n",
       "    }\n",
       "\n",
       "    .dataframe tbody tr th {\n",
       "        vertical-align: top;\n",
       "    }\n",
       "\n",
       "    .dataframe thead th {\n",
       "        text-align: right;\n",
       "    }\n",
       "</style>\n",
       "<table border=\"1\" class=\"dataframe\">\n",
       "  <thead>\n",
       "    <tr style=\"text-align: right;\">\n",
       "      <th></th>\n",
       "      <th>Application_ID</th>\n",
       "      <th>ApplicantIncome</th>\n",
       "      <th>CoapplicantIncome</th>\n",
       "      <th>LoanAmount</th>\n",
       "      <th>Loan_Amount_Term</th>\n",
       "      <th>Credit_History</th>\n",
       "    </tr>\n",
       "  </thead>\n",
       "  <tbody>\n",
       "    <tr>\n",
       "      <th>Application_ID</th>\n",
       "      <td>1.000000</td>\n",
       "      <td>-0.045150</td>\n",
       "      <td>-0.066051</td>\n",
       "      <td>-0.016617</td>\n",
       "      <td>-0.176387</td>\n",
       "      <td>0.035868</td>\n",
       "    </tr>\n",
       "    <tr>\n",
       "      <th>ApplicantIncome</th>\n",
       "      <td>-0.045150</td>\n",
       "      <td>1.000000</td>\n",
       "      <td>0.073848</td>\n",
       "      <td>0.702441</td>\n",
       "      <td>0.010537</td>\n",
       "      <td>-0.019123</td>\n",
       "    </tr>\n",
       "    <tr>\n",
       "      <th>CoapplicantIncome</th>\n",
       "      <td>-0.066051</td>\n",
       "      <td>0.073848</td>\n",
       "      <td>1.000000</td>\n",
       "      <td>0.548988</td>\n",
       "      <td>0.042480</td>\n",
       "      <td>0.071932</td>\n",
       "    </tr>\n",
       "    <tr>\n",
       "      <th>LoanAmount</th>\n",
       "      <td>-0.016617</td>\n",
       "      <td>0.702441</td>\n",
       "      <td>0.548988</td>\n",
       "      <td>1.000000</td>\n",
       "      <td>0.172583</td>\n",
       "      <td>-0.011745</td>\n",
       "    </tr>\n",
       "    <tr>\n",
       "      <th>Loan_Amount_Term</th>\n",
       "      <td>-0.176387</td>\n",
       "      <td>0.010537</td>\n",
       "      <td>0.042480</td>\n",
       "      <td>0.172583</td>\n",
       "      <td>1.000000</td>\n",
       "      <td>0.091681</td>\n",
       "    </tr>\n",
       "    <tr>\n",
       "      <th>Credit_History</th>\n",
       "      <td>0.035868</td>\n",
       "      <td>-0.019123</td>\n",
       "      <td>0.071932</td>\n",
       "      <td>-0.011745</td>\n",
       "      <td>0.091681</td>\n",
       "      <td>1.000000</td>\n",
       "    </tr>\n",
       "  </tbody>\n",
       "</table>\n",
       "</div>"
      ],
      "text/plain": [
       "                   Application_ID  ApplicantIncome  CoapplicantIncome  \\\n",
       "Application_ID           1.000000        -0.045150          -0.066051   \n",
       "ApplicantIncome         -0.045150         1.000000           0.073848   \n",
       "CoapplicantIncome       -0.066051         0.073848           1.000000   \n",
       "LoanAmount              -0.016617         0.702441           0.548988   \n",
       "Loan_Amount_Term        -0.176387         0.010537           0.042480   \n",
       "Credit_History           0.035868        -0.019123           0.071932   \n",
       "\n",
       "                   LoanAmount  Loan_Amount_Term  Credit_History  \n",
       "Application_ID      -0.016617         -0.176387        0.035868  \n",
       "ApplicantIncome      0.702441          0.010537       -0.019123  \n",
       "CoapplicantIncome    0.548988          0.042480        0.071932  \n",
       "LoanAmount           1.000000          0.172583       -0.011745  \n",
       "Loan_Amount_Term     0.172583          1.000000        0.091681  \n",
       "Credit_History      -0.011745          0.091681        1.000000  "
      ]
     },
     "execution_count": 7,
     "metadata": {},
     "output_type": "execute_result"
    }
   ],
   "source": [
    "# To find the corelation of the dataset\n",
    "train.corr()"
   ]
  },
  {
   "cell_type": "markdown",
   "metadata": {},
   "source": [
    "### Droping the unwanted columns of both datasets"
   ]
  },
  {
   "cell_type": "code",
   "execution_count": 8,
   "metadata": {},
   "outputs": [
    {
     "data": {
      "text/html": [
       "<div>\n",
       "<style scoped>\n",
       "    .dataframe tbody tr th:only-of-type {\n",
       "        vertical-align: middle;\n",
       "    }\n",
       "\n",
       "    .dataframe tbody tr th {\n",
       "        vertical-align: top;\n",
       "    }\n",
       "\n",
       "    .dataframe thead th {\n",
       "        text-align: right;\n",
       "    }\n",
       "</style>\n",
       "<table border=\"1\" class=\"dataframe\">\n",
       "  <thead>\n",
       "    <tr style=\"text-align: right;\">\n",
       "      <th></th>\n",
       "      <th>Application_ID</th>\n",
       "      <th>Gender</th>\n",
       "      <th>Married</th>\n",
       "      <th>Dependents</th>\n",
       "      <th>Education</th>\n",
       "      <th>Self_Employed</th>\n",
       "      <th>ApplicantIncome</th>\n",
       "      <th>CoapplicantIncome</th>\n",
       "      <th>LoanAmount</th>\n",
       "      <th>Loan_Amount_Term</th>\n",
       "      <th>Credit_History</th>\n",
       "      <th>Property_Area</th>\n",
       "      <th>Loan_Status</th>\n",
       "    </tr>\n",
       "  </thead>\n",
       "  <tbody>\n",
       "    <tr>\n",
       "      <th>0</th>\n",
       "      <td>1002</td>\n",
       "      <td>M</td>\n",
       "      <td>No</td>\n",
       "      <td>0</td>\n",
       "      <td>Graduate</td>\n",
       "      <td>No</td>\n",
       "      <td>5849</td>\n",
       "      <td>0</td>\n",
       "      <td>NaN</td>\n",
       "      <td>360.0</td>\n",
       "      <td>1.0</td>\n",
       "      <td>Urban</td>\n",
       "      <td>Y</td>\n",
       "    </tr>\n",
       "    <tr>\n",
       "      <th>1</th>\n",
       "      <td>1003</td>\n",
       "      <td>M</td>\n",
       "      <td>Yes</td>\n",
       "      <td>1</td>\n",
       "      <td>Graduate</td>\n",
       "      <td>No</td>\n",
       "      <td>4583</td>\n",
       "      <td>1508</td>\n",
       "      <td>128.0</td>\n",
       "      <td>360.0</td>\n",
       "      <td>1.0</td>\n",
       "      <td>Rural</td>\n",
       "      <td>N</td>\n",
       "    </tr>\n",
       "    <tr>\n",
       "      <th>2</th>\n",
       "      <td>1005</td>\n",
       "      <td>M</td>\n",
       "      <td>Yes</td>\n",
       "      <td>0</td>\n",
       "      <td>Graduate</td>\n",
       "      <td>Yes</td>\n",
       "      <td>3000</td>\n",
       "      <td>0</td>\n",
       "      <td>66.0</td>\n",
       "      <td>360.0</td>\n",
       "      <td>1.0</td>\n",
       "      <td>Urban</td>\n",
       "      <td>Y</td>\n",
       "    </tr>\n",
       "    <tr>\n",
       "      <th>3</th>\n",
       "      <td>1006</td>\n",
       "      <td>M</td>\n",
       "      <td>Yes</td>\n",
       "      <td>0</td>\n",
       "      <td>Not Graduate</td>\n",
       "      <td>No</td>\n",
       "      <td>2583</td>\n",
       "      <td>2358</td>\n",
       "      <td>120.0</td>\n",
       "      <td>360.0</td>\n",
       "      <td>1.0</td>\n",
       "      <td>Urban</td>\n",
       "      <td>Y</td>\n",
       "    </tr>\n",
       "    <tr>\n",
       "      <th>4</th>\n",
       "      <td>1008</td>\n",
       "      <td>M</td>\n",
       "      <td>No</td>\n",
       "      <td>0</td>\n",
       "      <td>Graduate</td>\n",
       "      <td>No</td>\n",
       "      <td>6000</td>\n",
       "      <td>0</td>\n",
       "      <td>141.0</td>\n",
       "      <td>360.0</td>\n",
       "      <td>1.0</td>\n",
       "      <td>Urban</td>\n",
       "      <td>Y</td>\n",
       "    </tr>\n",
       "  </tbody>\n",
       "</table>\n",
       "</div>"
      ],
      "text/plain": [
       "   Application_ID Gender Married Dependents     Education Self_Employed  \\\n",
       "0            1002      M      No          0      Graduate            No   \n",
       "1            1003      M     Yes          1      Graduate            No   \n",
       "2            1005      M     Yes          0      Graduate           Yes   \n",
       "3            1006      M     Yes          0  Not Graduate            No   \n",
       "4            1008      M      No          0      Graduate            No   \n",
       "\n",
       "   ApplicantIncome  CoapplicantIncome  LoanAmount  Loan_Amount_Term  \\\n",
       "0             5849                  0         NaN             360.0   \n",
       "1             4583               1508       128.0             360.0   \n",
       "2             3000                  0        66.0             360.0   \n",
       "3             2583               2358       120.0             360.0   \n",
       "4             6000                  0       141.0             360.0   \n",
       "\n",
       "   Credit_History Property_Area Loan_Status  \n",
       "0             1.0         Urban           Y  \n",
       "1             1.0         Rural           N  \n",
       "2             1.0         Urban           Y  \n",
       "3             1.0         Urban           Y  \n",
       "4             1.0         Urban           Y  "
      ]
     },
     "execution_count": 8,
     "metadata": {},
     "output_type": "execute_result"
    }
   ],
   "source": [
    "# importing the modules\n",
    "import pandas as pd\n",
    "binary_train=pd.read_csv(\"loan_dataset_train.csv\")\n",
    "binary_train.head()"
   ]
  },
  {
   "cell_type": "code",
   "execution_count": 9,
   "metadata": {},
   "outputs": [
    {
     "data": {
      "text/plain": [
       "Index(['Application_ID', 'Gender', 'Married', 'Education', 'Self_Employed',\n",
       "       'ApplicantIncome', 'CoapplicantIncome', 'LoanAmount',\n",
       "       'Loan_Amount_Term', 'Credit_History', 'Property_Area', 'Loan_Status'],\n",
       "      dtype='object')"
      ]
     },
     "execution_count": 9,
     "metadata": {},
     "output_type": "execute_result"
    }
   ],
   "source": [
    "# dropping the columns\n",
    "binary_train.drop('Dependents',axis=1,inplace=True)\n",
    "binary_train.dtypes.index"
   ]
  },
  {
   "cell_type": "code",
   "execution_count": 10,
   "metadata": {},
   "outputs": [
    {
     "data": {
      "text/plain": [
       "Index(['Application_ID', 'Gender', 'Married', 'Self_Employed',\n",
       "       'ApplicantIncome', 'CoapplicantIncome', 'LoanAmount',\n",
       "       'Loan_Amount_Term', 'Credit_History', 'Property_Area', 'Loan_Status'],\n",
       "      dtype='object')"
      ]
     },
     "execution_count": 10,
     "metadata": {},
     "output_type": "execute_result"
    }
   ],
   "source": [
    "# dropping the columns\n",
    "binary_train.drop('Education',axis=1,inplace=True)\n",
    "binary_train.dtypes.index"
   ]
  },
  {
   "cell_type": "code",
   "execution_count": 11,
   "metadata": {},
   "outputs": [
    {
     "data": {
      "text/html": [
       "<div>\n",
       "<style scoped>\n",
       "    .dataframe tbody tr th:only-of-type {\n",
       "        vertical-align: middle;\n",
       "    }\n",
       "\n",
       "    .dataframe tbody tr th {\n",
       "        vertical-align: top;\n",
       "    }\n",
       "\n",
       "    .dataframe thead th {\n",
       "        text-align: right;\n",
       "    }\n",
       "</style>\n",
       "<table border=\"1\" class=\"dataframe\">\n",
       "  <thead>\n",
       "    <tr style=\"text-align: right;\">\n",
       "      <th></th>\n",
       "      <th>Application_ID</th>\n",
       "      <th>Gender</th>\n",
       "      <th>Married</th>\n",
       "      <th>Self_Employed</th>\n",
       "      <th>ApplicantIncome</th>\n",
       "      <th>CoapplicantIncome</th>\n",
       "      <th>LoanAmount</th>\n",
       "      <th>Loan_Amount_Term</th>\n",
       "      <th>Credit_History</th>\n",
       "      <th>Property_Area</th>\n",
       "      <th>Loan_Status</th>\n",
       "    </tr>\n",
       "  </thead>\n",
       "  <tbody>\n",
       "    <tr>\n",
       "      <th>0</th>\n",
       "      <td>1002</td>\n",
       "      <td>M</td>\n",
       "      <td>No</td>\n",
       "      <td>No</td>\n",
       "      <td>5849</td>\n",
       "      <td>0</td>\n",
       "      <td>NaN</td>\n",
       "      <td>360.0</td>\n",
       "      <td>1.0</td>\n",
       "      <td>Urban</td>\n",
       "      <td>Y</td>\n",
       "    </tr>\n",
       "    <tr>\n",
       "      <th>1</th>\n",
       "      <td>1003</td>\n",
       "      <td>M</td>\n",
       "      <td>Yes</td>\n",
       "      <td>No</td>\n",
       "      <td>4583</td>\n",
       "      <td>1508</td>\n",
       "      <td>128.0</td>\n",
       "      <td>360.0</td>\n",
       "      <td>1.0</td>\n",
       "      <td>Rural</td>\n",
       "      <td>N</td>\n",
       "    </tr>\n",
       "    <tr>\n",
       "      <th>2</th>\n",
       "      <td>1005</td>\n",
       "      <td>M</td>\n",
       "      <td>Yes</td>\n",
       "      <td>Yes</td>\n",
       "      <td>3000</td>\n",
       "      <td>0</td>\n",
       "      <td>66.0</td>\n",
       "      <td>360.0</td>\n",
       "      <td>1.0</td>\n",
       "      <td>Urban</td>\n",
       "      <td>Y</td>\n",
       "    </tr>\n",
       "    <tr>\n",
       "      <th>3</th>\n",
       "      <td>1006</td>\n",
       "      <td>M</td>\n",
       "      <td>Yes</td>\n",
       "      <td>No</td>\n",
       "      <td>2583</td>\n",
       "      <td>2358</td>\n",
       "      <td>120.0</td>\n",
       "      <td>360.0</td>\n",
       "      <td>1.0</td>\n",
       "      <td>Urban</td>\n",
       "      <td>Y</td>\n",
       "    </tr>\n",
       "    <tr>\n",
       "      <th>4</th>\n",
       "      <td>1008</td>\n",
       "      <td>M</td>\n",
       "      <td>No</td>\n",
       "      <td>No</td>\n",
       "      <td>6000</td>\n",
       "      <td>0</td>\n",
       "      <td>141.0</td>\n",
       "      <td>360.0</td>\n",
       "      <td>1.0</td>\n",
       "      <td>Urban</td>\n",
       "      <td>Y</td>\n",
       "    </tr>\n",
       "  </tbody>\n",
       "</table>\n",
       "</div>"
      ],
      "text/plain": [
       "   Application_ID Gender Married Self_Employed  ApplicantIncome  \\\n",
       "0            1002      M      No            No             5849   \n",
       "1            1003      M     Yes            No             4583   \n",
       "2            1005      M     Yes           Yes             3000   \n",
       "3            1006      M     Yes            No             2583   \n",
       "4            1008      M      No            No             6000   \n",
       "\n",
       "   CoapplicantIncome  LoanAmount  Loan_Amount_Term  Credit_History  \\\n",
       "0                  0         NaN             360.0             1.0   \n",
       "1               1508       128.0             360.0             1.0   \n",
       "2                  0        66.0             360.0             1.0   \n",
       "3               2358       120.0             360.0             1.0   \n",
       "4                  0       141.0             360.0             1.0   \n",
       "\n",
       "  Property_Area Loan_Status  \n",
       "0         Urban           Y  \n",
       "1         Rural           N  \n",
       "2         Urban           Y  \n",
       "3         Urban           Y  \n",
       "4         Urban           Y  "
      ]
     },
     "execution_count": 11,
     "metadata": {},
     "output_type": "execute_result"
    }
   ],
   "source": [
    "# print the first 5 rows\n",
    "binary_train.head()"
   ]
  },
  {
   "cell_type": "code",
   "execution_count": 12,
   "metadata": {},
   "outputs": [
    {
     "data": {
      "text/html": [
       "<div>\n",
       "<style scoped>\n",
       "    .dataframe tbody tr th:only-of-type {\n",
       "        vertical-align: middle;\n",
       "    }\n",
       "\n",
       "    .dataframe tbody tr th {\n",
       "        vertical-align: top;\n",
       "    }\n",
       "\n",
       "    .dataframe thead th {\n",
       "        text-align: right;\n",
       "    }\n",
       "</style>\n",
       "<table border=\"1\" class=\"dataframe\">\n",
       "  <thead>\n",
       "    <tr style=\"text-align: right;\">\n",
       "      <th></th>\n",
       "      <th>Application_ID</th>\n",
       "      <th>Gender</th>\n",
       "      <th>Married</th>\n",
       "      <th>Dependents</th>\n",
       "      <th>Education</th>\n",
       "      <th>Self_Employed</th>\n",
       "      <th>ApplicantIncome</th>\n",
       "      <th>CoapplicantIncome</th>\n",
       "      <th>LoanAmount</th>\n",
       "      <th>Loan_Amount_Term</th>\n",
       "      <th>Credit_History</th>\n",
       "      <th>Property_Area</th>\n",
       "    </tr>\n",
       "  </thead>\n",
       "  <tbody>\n",
       "    <tr>\n",
       "      <th>0</th>\n",
       "      <td>1345</td>\n",
       "      <td>M</td>\n",
       "      <td>Yes</td>\n",
       "      <td>2</td>\n",
       "      <td>Not Graduate</td>\n",
       "      <td>No</td>\n",
       "      <td>4288</td>\n",
       "      <td>3263.0</td>\n",
       "      <td>133.0</td>\n",
       "      <td>180.0</td>\n",
       "      <td>1.0</td>\n",
       "      <td>Urban</td>\n",
       "    </tr>\n",
       "    <tr>\n",
       "      <th>1</th>\n",
       "      <td>1349</td>\n",
       "      <td>M</td>\n",
       "      <td>No</td>\n",
       "      <td>0</td>\n",
       "      <td>Graduate</td>\n",
       "      <td>No</td>\n",
       "      <td>4843</td>\n",
       "      <td>3806.0</td>\n",
       "      <td>151.0</td>\n",
       "      <td>360.0</td>\n",
       "      <td>1.0</td>\n",
       "      <td>Semiurban</td>\n",
       "    </tr>\n",
       "    <tr>\n",
       "      <th>2</th>\n",
       "      <td>1350</td>\n",
       "      <td>M</td>\n",
       "      <td>Yes</td>\n",
       "      <td>NaN</td>\n",
       "      <td>Graduate</td>\n",
       "      <td>No</td>\n",
       "      <td>13650</td>\n",
       "      <td>0.0</td>\n",
       "      <td>NaN</td>\n",
       "      <td>360.0</td>\n",
       "      <td>1.0</td>\n",
       "      <td>Urban</td>\n",
       "    </tr>\n",
       "    <tr>\n",
       "      <th>3</th>\n",
       "      <td>1356</td>\n",
       "      <td>M</td>\n",
       "      <td>Yes</td>\n",
       "      <td>0</td>\n",
       "      <td>Graduate</td>\n",
       "      <td>No</td>\n",
       "      <td>4652</td>\n",
       "      <td>3583.0</td>\n",
       "      <td>NaN</td>\n",
       "      <td>360.0</td>\n",
       "      <td>1.0</td>\n",
       "      <td>Semiurban</td>\n",
       "    </tr>\n",
       "    <tr>\n",
       "      <th>4</th>\n",
       "      <td>1357</td>\n",
       "      <td>M</td>\n",
       "      <td>NaN</td>\n",
       "      <td>NaN</td>\n",
       "      <td>Graduate</td>\n",
       "      <td>No</td>\n",
       "      <td>3816</td>\n",
       "      <td>754.0</td>\n",
       "      <td>160.0</td>\n",
       "      <td>360.0</td>\n",
       "      <td>1.0</td>\n",
       "      <td>Urban</td>\n",
       "    </tr>\n",
       "  </tbody>\n",
       "</table>\n",
       "</div>"
      ],
      "text/plain": [
       "   Application_ID Gender Married Dependents     Education Self_Employed  \\\n",
       "0            1345      M     Yes          2  Not Graduate            No   \n",
       "1            1349      M      No          0      Graduate            No   \n",
       "2            1350      M     Yes        NaN      Graduate            No   \n",
       "3            1356      M     Yes          0      Graduate            No   \n",
       "4            1357      M     NaN        NaN      Graduate            No   \n",
       "\n",
       "   ApplicantIncome  CoapplicantIncome  LoanAmount  Loan_Amount_Term  \\\n",
       "0             4288             3263.0       133.0             180.0   \n",
       "1             4843             3806.0       151.0             360.0   \n",
       "2            13650                0.0         NaN             360.0   \n",
       "3             4652             3583.0         NaN             360.0   \n",
       "4             3816              754.0       160.0             360.0   \n",
       "\n",
       "   Credit_History Property_Area  \n",
       "0             1.0         Urban  \n",
       "1             1.0     Semiurban  \n",
       "2             1.0         Urban  \n",
       "3             1.0     Semiurban  \n",
       "4             1.0         Urban  "
      ]
     },
     "execution_count": 12,
     "metadata": {},
     "output_type": "execute_result"
    }
   ],
   "source": [
    "# dropping the columns\n",
    "binary_test=pd.read_csv(\"loan_dataset_test.csv\")\n",
    "binary_test.head()"
   ]
  },
  {
   "cell_type": "code",
   "execution_count": 13,
   "metadata": {},
   "outputs": [
    {
     "data": {
      "text/plain": [
       "Index(['Application_ID', 'Gender', 'Married', 'Dependents', 'Self_Employed',\n",
       "       'ApplicantIncome', 'CoapplicantIncome', 'LoanAmount',\n",
       "       'Loan_Amount_Term', 'Credit_History', 'Property_Area'],\n",
       "      dtype='object')"
      ]
     },
     "execution_count": 13,
     "metadata": {},
     "output_type": "execute_result"
    }
   ],
   "source": [
    "# dropping the columns\n",
    "binary_test.drop('Education',axis=1,inplace=True)\n",
    "# display the column heads\n",
    "binary_test.dtypes.index"
   ]
  },
  {
   "cell_type": "code",
   "execution_count": 14,
   "metadata": {},
   "outputs": [
    {
     "data": {
      "text/plain": [
       "Index(['Application_ID', 'Gender', 'Married', 'Self_Employed',\n",
       "       'ApplicantIncome', 'CoapplicantIncome', 'LoanAmount',\n",
       "       'Loan_Amount_Term', 'Credit_History', 'Property_Area'],\n",
       "      dtype='object')"
      ]
     },
     "execution_count": 14,
     "metadata": {},
     "output_type": "execute_result"
    }
   ],
   "source": [
    "# dropping the columns\n",
    "binary_test.drop('Dependents',axis=1,inplace=True)\n",
    "# display the column heads\n",
    "binary_test.dtypes.index"
   ]
  },
  {
   "cell_type": "code",
   "execution_count": 15,
   "metadata": {},
   "outputs": [
    {
     "data": {
      "text/html": [
       "<div>\n",
       "<style scoped>\n",
       "    .dataframe tbody tr th:only-of-type {\n",
       "        vertical-align: middle;\n",
       "    }\n",
       "\n",
       "    .dataframe tbody tr th {\n",
       "        vertical-align: top;\n",
       "    }\n",
       "\n",
       "    .dataframe thead th {\n",
       "        text-align: right;\n",
       "    }\n",
       "</style>\n",
       "<table border=\"1\" class=\"dataframe\">\n",
       "  <thead>\n",
       "    <tr style=\"text-align: right;\">\n",
       "      <th></th>\n",
       "      <th>Application_ID</th>\n",
       "      <th>Gender</th>\n",
       "      <th>Married</th>\n",
       "      <th>Self_Employed</th>\n",
       "      <th>ApplicantIncome</th>\n",
       "      <th>CoapplicantIncome</th>\n",
       "      <th>LoanAmount</th>\n",
       "      <th>Loan_Amount_Term</th>\n",
       "      <th>Credit_History</th>\n",
       "      <th>Property_Area</th>\n",
       "    </tr>\n",
       "  </thead>\n",
       "  <tbody>\n",
       "    <tr>\n",
       "      <th>0</th>\n",
       "      <td>1345</td>\n",
       "      <td>M</td>\n",
       "      <td>Yes</td>\n",
       "      <td>No</td>\n",
       "      <td>4288</td>\n",
       "      <td>3263.0</td>\n",
       "      <td>133.0</td>\n",
       "      <td>180.0</td>\n",
       "      <td>1.0</td>\n",
       "      <td>Urban</td>\n",
       "    </tr>\n",
       "    <tr>\n",
       "      <th>1</th>\n",
       "      <td>1349</td>\n",
       "      <td>M</td>\n",
       "      <td>No</td>\n",
       "      <td>No</td>\n",
       "      <td>4843</td>\n",
       "      <td>3806.0</td>\n",
       "      <td>151.0</td>\n",
       "      <td>360.0</td>\n",
       "      <td>1.0</td>\n",
       "      <td>Semiurban</td>\n",
       "    </tr>\n",
       "    <tr>\n",
       "      <th>2</th>\n",
       "      <td>1350</td>\n",
       "      <td>M</td>\n",
       "      <td>Yes</td>\n",
       "      <td>No</td>\n",
       "      <td>13650</td>\n",
       "      <td>0.0</td>\n",
       "      <td>NaN</td>\n",
       "      <td>360.0</td>\n",
       "      <td>1.0</td>\n",
       "      <td>Urban</td>\n",
       "    </tr>\n",
       "    <tr>\n",
       "      <th>3</th>\n",
       "      <td>1356</td>\n",
       "      <td>M</td>\n",
       "      <td>Yes</td>\n",
       "      <td>No</td>\n",
       "      <td>4652</td>\n",
       "      <td>3583.0</td>\n",
       "      <td>NaN</td>\n",
       "      <td>360.0</td>\n",
       "      <td>1.0</td>\n",
       "      <td>Semiurban</td>\n",
       "    </tr>\n",
       "    <tr>\n",
       "      <th>4</th>\n",
       "      <td>1357</td>\n",
       "      <td>M</td>\n",
       "      <td>NaN</td>\n",
       "      <td>No</td>\n",
       "      <td>3816</td>\n",
       "      <td>754.0</td>\n",
       "      <td>160.0</td>\n",
       "      <td>360.0</td>\n",
       "      <td>1.0</td>\n",
       "      <td>Urban</td>\n",
       "    </tr>\n",
       "  </tbody>\n",
       "</table>\n",
       "</div>"
      ],
      "text/plain": [
       "   Application_ID Gender Married Self_Employed  ApplicantIncome  \\\n",
       "0            1345      M     Yes            No             4288   \n",
       "1            1349      M      No            No             4843   \n",
       "2            1350      M     Yes            No            13650   \n",
       "3            1356      M     Yes            No             4652   \n",
       "4            1357      M     NaN            No             3816   \n",
       "\n",
       "   CoapplicantIncome  LoanAmount  Loan_Amount_Term  Credit_History  \\\n",
       "0             3263.0       133.0             180.0             1.0   \n",
       "1             3806.0       151.0             360.0             1.0   \n",
       "2                0.0         NaN             360.0             1.0   \n",
       "3             3583.0         NaN             360.0             1.0   \n",
       "4              754.0       160.0             360.0             1.0   \n",
       "\n",
       "  Property_Area  \n",
       "0         Urban  \n",
       "1     Semiurban  \n",
       "2         Urban  \n",
       "3     Semiurban  \n",
       "4         Urban  "
      ]
     },
     "execution_count": 15,
     "metadata": {},
     "output_type": "execute_result"
    }
   ],
   "source": [
    "# print the first 5 rows\n",
    "binary_test.head()"
   ]
  },
  {
   "cell_type": "markdown",
   "metadata": {},
   "source": [
    "### Replacing the null values in the columns"
   ]
  },
  {
   "cell_type": "markdown",
   "metadata": {},
   "source": [
    "#### For train dataset"
   ]
  },
  {
   "cell_type": "code",
   "execution_count": 16,
   "metadata": {},
   "outputs": [],
   "source": [
    "# to replace the value of the outcome column from categorical to numerical\n",
    "binary_train.Loan_Status.replace([\"N\",\"Y\"],[0,1],inplace=True)"
   ]
  },
  {
   "cell_type": "code",
   "execution_count": 17,
   "metadata": {},
   "outputs": [
    {
     "data": {
      "text/plain": [
       "Index(['Application_ID', 'Gender', 'Married', 'Self_Employed',\n",
       "       'ApplicantIncome', 'CoapplicantIncome', 'LoanAmount',\n",
       "       'Loan_Amount_Term', 'Credit_History', 'Property_Area', 'Loan_Status'],\n",
       "      dtype='object')"
      ]
     },
     "execution_count": 17,
     "metadata": {},
     "output_type": "execute_result"
    }
   ],
   "source": [
    "# display the column heads\n",
    "binary_train.dtypes.index"
   ]
  },
  {
   "cell_type": "code",
   "execution_count": 18,
   "metadata": {},
   "outputs": [
    {
     "data": {
      "text/html": [
       "<div>\n",
       "<style scoped>\n",
       "    .dataframe tbody tr th:only-of-type {\n",
       "        vertical-align: middle;\n",
       "    }\n",
       "\n",
       "    .dataframe tbody tr th {\n",
       "        vertical-align: top;\n",
       "    }\n",
       "\n",
       "    .dataframe thead th {\n",
       "        text-align: right;\n",
       "    }\n",
       "</style>\n",
       "<table border=\"1\" class=\"dataframe\">\n",
       "  <thead>\n",
       "    <tr style=\"text-align: right;\">\n",
       "      <th></th>\n",
       "      <th>Application_ID</th>\n",
       "      <th>Gender</th>\n",
       "      <th>Married</th>\n",
       "      <th>Self_Employed</th>\n",
       "      <th>ApplicantIncome</th>\n",
       "      <th>CoapplicantIncome</th>\n",
       "      <th>LoanAmount</th>\n",
       "      <th>Loan_Amount_Term</th>\n",
       "      <th>Credit_History</th>\n",
       "      <th>Property_Area</th>\n",
       "      <th>Loan_Status</th>\n",
       "    </tr>\n",
       "  </thead>\n",
       "  <tbody>\n",
       "    <tr>\n",
       "      <th>0</th>\n",
       "      <td>1002</td>\n",
       "      <td>M</td>\n",
       "      <td>No</td>\n",
       "      <td>No</td>\n",
       "      <td>5849</td>\n",
       "      <td>0</td>\n",
       "      <td>NaN</td>\n",
       "      <td>360.0</td>\n",
       "      <td>1.0</td>\n",
       "      <td>Urban</td>\n",
       "      <td>1</td>\n",
       "    </tr>\n",
       "    <tr>\n",
       "      <th>1</th>\n",
       "      <td>1003</td>\n",
       "      <td>M</td>\n",
       "      <td>Yes</td>\n",
       "      <td>No</td>\n",
       "      <td>4583</td>\n",
       "      <td>1508</td>\n",
       "      <td>128.0</td>\n",
       "      <td>360.0</td>\n",
       "      <td>1.0</td>\n",
       "      <td>Rural</td>\n",
       "      <td>0</td>\n",
       "    </tr>\n",
       "    <tr>\n",
       "      <th>2</th>\n",
       "      <td>1005</td>\n",
       "      <td>M</td>\n",
       "      <td>Yes</td>\n",
       "      <td>Yes</td>\n",
       "      <td>3000</td>\n",
       "      <td>0</td>\n",
       "      <td>66.0</td>\n",
       "      <td>360.0</td>\n",
       "      <td>1.0</td>\n",
       "      <td>Urban</td>\n",
       "      <td>1</td>\n",
       "    </tr>\n",
       "    <tr>\n",
       "      <th>3</th>\n",
       "      <td>1006</td>\n",
       "      <td>M</td>\n",
       "      <td>Yes</td>\n",
       "      <td>No</td>\n",
       "      <td>2583</td>\n",
       "      <td>2358</td>\n",
       "      <td>120.0</td>\n",
       "      <td>360.0</td>\n",
       "      <td>1.0</td>\n",
       "      <td>Urban</td>\n",
       "      <td>1</td>\n",
       "    </tr>\n",
       "    <tr>\n",
       "      <th>4</th>\n",
       "      <td>1008</td>\n",
       "      <td>M</td>\n",
       "      <td>No</td>\n",
       "      <td>No</td>\n",
       "      <td>6000</td>\n",
       "      <td>0</td>\n",
       "      <td>141.0</td>\n",
       "      <td>360.0</td>\n",
       "      <td>1.0</td>\n",
       "      <td>Urban</td>\n",
       "      <td>1</td>\n",
       "    </tr>\n",
       "  </tbody>\n",
       "</table>\n",
       "</div>"
      ],
      "text/plain": [
       "   Application_ID Gender Married Self_Employed  ApplicantIncome  \\\n",
       "0            1002      M      No            No             5849   \n",
       "1            1003      M     Yes            No             4583   \n",
       "2            1005      M     Yes           Yes             3000   \n",
       "3            1006      M     Yes            No             2583   \n",
       "4            1008      M      No            No             6000   \n",
       "\n",
       "   CoapplicantIncome  LoanAmount  Loan_Amount_Term  Credit_History  \\\n",
       "0                  0         NaN             360.0             1.0   \n",
       "1               1508       128.0             360.0             1.0   \n",
       "2                  0        66.0             360.0             1.0   \n",
       "3               2358       120.0             360.0             1.0   \n",
       "4                  0       141.0             360.0             1.0   \n",
       "\n",
       "  Property_Area  Loan_Status  \n",
       "0         Urban            1  \n",
       "1         Rural            0  \n",
       "2         Urban            1  \n",
       "3         Urban            1  \n",
       "4         Urban            1  "
      ]
     },
     "execution_count": 18,
     "metadata": {},
     "output_type": "execute_result"
    }
   ],
   "source": [
    "# print the first 5 rows\n",
    "binary_train.head()"
   ]
  },
  {
   "cell_type": "code",
   "execution_count": 19,
   "metadata": {},
   "outputs": [
    {
     "name": "stderr",
     "output_type": "stream",
     "text": [
      "C:\\Users\\DELL\\Anaconda32a\\lib\\site-packages\\ipykernel_launcher.py:3: DeprecationWarning: \n",
      ".ix is deprecated. Please use\n",
      ".loc for label based indexing or\n",
      ".iloc for positional indexing\n",
      "\n",
      "See the documentation here:\n",
      "http://pandas.pydata.org/pandas-docs/stable/indexing.html#ix-indexer-is-deprecated\n",
      "  This is separate from the ipykernel package so we can avoid doing imports until\n"
     ]
    }
   ],
   "source": [
    "# filling the missing values with the mean value of the column\n",
    "# ix, here denotes, at the particular location\n",
    "binary_train.ix[binary_train.ApplicantIncome.isnull(),\"ApplicantIncome\"]=binary_train[\"ApplicantIncome\"].mean()"
   ]
  },
  {
   "cell_type": "code",
   "execution_count": 20,
   "metadata": {},
   "outputs": [
    {
     "data": {
      "text/html": [
       "<div>\n",
       "<style scoped>\n",
       "    .dataframe tbody tr th:only-of-type {\n",
       "        vertical-align: middle;\n",
       "    }\n",
       "\n",
       "    .dataframe tbody tr th {\n",
       "        vertical-align: top;\n",
       "    }\n",
       "\n",
       "    .dataframe thead th {\n",
       "        text-align: right;\n",
       "    }\n",
       "</style>\n",
       "<table border=\"1\" class=\"dataframe\">\n",
       "  <thead>\n",
       "    <tr style=\"text-align: right;\">\n",
       "      <th></th>\n",
       "      <th>Application_ID</th>\n",
       "      <th>Gender</th>\n",
       "      <th>Married</th>\n",
       "      <th>Self_Employed</th>\n",
       "      <th>ApplicantIncome</th>\n",
       "      <th>CoapplicantIncome</th>\n",
       "      <th>LoanAmount</th>\n",
       "      <th>Loan_Amount_Term</th>\n",
       "      <th>Credit_History</th>\n",
       "      <th>Property_Area</th>\n",
       "      <th>Loan_Status</th>\n",
       "    </tr>\n",
       "  </thead>\n",
       "  <tbody>\n",
       "    <tr>\n",
       "      <th>0</th>\n",
       "      <td>1002</td>\n",
       "      <td>M</td>\n",
       "      <td>No</td>\n",
       "      <td>No</td>\n",
       "      <td>5849.0</td>\n",
       "      <td>0</td>\n",
       "      <td>NaN</td>\n",
       "      <td>360.0</td>\n",
       "      <td>1.0</td>\n",
       "      <td>Urban</td>\n",
       "      <td>1</td>\n",
       "    </tr>\n",
       "    <tr>\n",
       "      <th>1</th>\n",
       "      <td>1003</td>\n",
       "      <td>M</td>\n",
       "      <td>Yes</td>\n",
       "      <td>No</td>\n",
       "      <td>4583.0</td>\n",
       "      <td>1508</td>\n",
       "      <td>128.0</td>\n",
       "      <td>360.0</td>\n",
       "      <td>1.0</td>\n",
       "      <td>Rural</td>\n",
       "      <td>0</td>\n",
       "    </tr>\n",
       "    <tr>\n",
       "      <th>2</th>\n",
       "      <td>1005</td>\n",
       "      <td>M</td>\n",
       "      <td>Yes</td>\n",
       "      <td>Yes</td>\n",
       "      <td>3000.0</td>\n",
       "      <td>0</td>\n",
       "      <td>66.0</td>\n",
       "      <td>360.0</td>\n",
       "      <td>1.0</td>\n",
       "      <td>Urban</td>\n",
       "      <td>1</td>\n",
       "    </tr>\n",
       "    <tr>\n",
       "      <th>3</th>\n",
       "      <td>1006</td>\n",
       "      <td>M</td>\n",
       "      <td>Yes</td>\n",
       "      <td>No</td>\n",
       "      <td>2583.0</td>\n",
       "      <td>2358</td>\n",
       "      <td>120.0</td>\n",
       "      <td>360.0</td>\n",
       "      <td>1.0</td>\n",
       "      <td>Urban</td>\n",
       "      <td>1</td>\n",
       "    </tr>\n",
       "    <tr>\n",
       "      <th>4</th>\n",
       "      <td>1008</td>\n",
       "      <td>M</td>\n",
       "      <td>No</td>\n",
       "      <td>No</td>\n",
       "      <td>6000.0</td>\n",
       "      <td>0</td>\n",
       "      <td>141.0</td>\n",
       "      <td>360.0</td>\n",
       "      <td>1.0</td>\n",
       "      <td>Urban</td>\n",
       "      <td>1</td>\n",
       "    </tr>\n",
       "  </tbody>\n",
       "</table>\n",
       "</div>"
      ],
      "text/plain": [
       "   Application_ID Gender Married Self_Employed  ApplicantIncome  \\\n",
       "0            1002      M      No            No           5849.0   \n",
       "1            1003      M     Yes            No           4583.0   \n",
       "2            1005      M     Yes           Yes           3000.0   \n",
       "3            1006      M     Yes            No           2583.0   \n",
       "4            1008      M      No            No           6000.0   \n",
       "\n",
       "   CoapplicantIncome  LoanAmount  Loan_Amount_Term  Credit_History  \\\n",
       "0                  0         NaN             360.0             1.0   \n",
       "1               1508       128.0             360.0             1.0   \n",
       "2                  0        66.0             360.0             1.0   \n",
       "3               2358       120.0             360.0             1.0   \n",
       "4                  0       141.0             360.0             1.0   \n",
       "\n",
       "  Property_Area  Loan_Status  \n",
       "0         Urban            1  \n",
       "1         Rural            0  \n",
       "2         Urban            1  \n",
       "3         Urban            1  \n",
       "4         Urban            1  "
      ]
     },
     "execution_count": 20,
     "metadata": {},
     "output_type": "execute_result"
    }
   ],
   "source": [
    "# print the datset\n",
    "binary_train.head()"
   ]
  },
  {
   "cell_type": "code",
   "execution_count": 21,
   "metadata": {},
   "outputs": [
    {
     "name": "stderr",
     "output_type": "stream",
     "text": [
      "C:\\Users\\DELL\\Anaconda32a\\lib\\site-packages\\ipykernel_launcher.py:3: DeprecationWarning: \n",
      ".ix is deprecated. Please use\n",
      ".loc for label based indexing or\n",
      ".iloc for positional indexing\n",
      "\n",
      "See the documentation here:\n",
      "http://pandas.pydata.org/pandas-docs/stable/indexing.html#ix-indexer-is-deprecated\n",
      "  This is separate from the ipykernel package so we can avoid doing imports until\n"
     ]
    }
   ],
   "source": [
    "# filling the missing values with the mean value of the column\n",
    "# ix, here denotes, at the particular location\n",
    "binary_train.ix[binary_train.CoapplicantIncome.isnull(),\"CoapplicantIncome\"]=binary_train[\"CoapplicantIncome\"].mean()"
   ]
  },
  {
   "cell_type": "code",
   "execution_count": 22,
   "metadata": {},
   "outputs": [
    {
     "data": {
      "text/html": [
       "<div>\n",
       "<style scoped>\n",
       "    .dataframe tbody tr th:only-of-type {\n",
       "        vertical-align: middle;\n",
       "    }\n",
       "\n",
       "    .dataframe tbody tr th {\n",
       "        vertical-align: top;\n",
       "    }\n",
       "\n",
       "    .dataframe thead th {\n",
       "        text-align: right;\n",
       "    }\n",
       "</style>\n",
       "<table border=\"1\" class=\"dataframe\">\n",
       "  <thead>\n",
       "    <tr style=\"text-align: right;\">\n",
       "      <th></th>\n",
       "      <th>Application_ID</th>\n",
       "      <th>Gender</th>\n",
       "      <th>Married</th>\n",
       "      <th>Self_Employed</th>\n",
       "      <th>ApplicantIncome</th>\n",
       "      <th>CoapplicantIncome</th>\n",
       "      <th>LoanAmount</th>\n",
       "      <th>Loan_Amount_Term</th>\n",
       "      <th>Credit_History</th>\n",
       "      <th>Property_Area</th>\n",
       "      <th>Loan_Status</th>\n",
       "    </tr>\n",
       "  </thead>\n",
       "  <tbody>\n",
       "    <tr>\n",
       "      <th>0</th>\n",
       "      <td>1002</td>\n",
       "      <td>M</td>\n",
       "      <td>No</td>\n",
       "      <td>No</td>\n",
       "      <td>5849.0</td>\n",
       "      <td>0.0</td>\n",
       "      <td>NaN</td>\n",
       "      <td>360.0</td>\n",
       "      <td>1.0</td>\n",
       "      <td>Urban</td>\n",
       "      <td>1</td>\n",
       "    </tr>\n",
       "    <tr>\n",
       "      <th>1</th>\n",
       "      <td>1003</td>\n",
       "      <td>M</td>\n",
       "      <td>Yes</td>\n",
       "      <td>No</td>\n",
       "      <td>4583.0</td>\n",
       "      <td>1508.0</td>\n",
       "      <td>128.0</td>\n",
       "      <td>360.0</td>\n",
       "      <td>1.0</td>\n",
       "      <td>Rural</td>\n",
       "      <td>0</td>\n",
       "    </tr>\n",
       "    <tr>\n",
       "      <th>2</th>\n",
       "      <td>1005</td>\n",
       "      <td>M</td>\n",
       "      <td>Yes</td>\n",
       "      <td>Yes</td>\n",
       "      <td>3000.0</td>\n",
       "      <td>0.0</td>\n",
       "      <td>66.0</td>\n",
       "      <td>360.0</td>\n",
       "      <td>1.0</td>\n",
       "      <td>Urban</td>\n",
       "      <td>1</td>\n",
       "    </tr>\n",
       "    <tr>\n",
       "      <th>3</th>\n",
       "      <td>1006</td>\n",
       "      <td>M</td>\n",
       "      <td>Yes</td>\n",
       "      <td>No</td>\n",
       "      <td>2583.0</td>\n",
       "      <td>2358.0</td>\n",
       "      <td>120.0</td>\n",
       "      <td>360.0</td>\n",
       "      <td>1.0</td>\n",
       "      <td>Urban</td>\n",
       "      <td>1</td>\n",
       "    </tr>\n",
       "    <tr>\n",
       "      <th>4</th>\n",
       "      <td>1008</td>\n",
       "      <td>M</td>\n",
       "      <td>No</td>\n",
       "      <td>No</td>\n",
       "      <td>6000.0</td>\n",
       "      <td>0.0</td>\n",
       "      <td>141.0</td>\n",
       "      <td>360.0</td>\n",
       "      <td>1.0</td>\n",
       "      <td>Urban</td>\n",
       "      <td>1</td>\n",
       "    </tr>\n",
       "  </tbody>\n",
       "</table>\n",
       "</div>"
      ],
      "text/plain": [
       "   Application_ID Gender Married Self_Employed  ApplicantIncome  \\\n",
       "0            1002      M      No            No           5849.0   \n",
       "1            1003      M     Yes            No           4583.0   \n",
       "2            1005      M     Yes           Yes           3000.0   \n",
       "3            1006      M     Yes            No           2583.0   \n",
       "4            1008      M      No            No           6000.0   \n",
       "\n",
       "   CoapplicantIncome  LoanAmount  Loan_Amount_Term  Credit_History  \\\n",
       "0                0.0         NaN             360.0             1.0   \n",
       "1             1508.0       128.0             360.0             1.0   \n",
       "2                0.0        66.0             360.0             1.0   \n",
       "3             2358.0       120.0             360.0             1.0   \n",
       "4                0.0       141.0             360.0             1.0   \n",
       "\n",
       "  Property_Area  Loan_Status  \n",
       "0         Urban            1  \n",
       "1         Rural            0  \n",
       "2         Urban            1  \n",
       "3         Urban            1  \n",
       "4         Urban            1  "
      ]
     },
     "execution_count": 22,
     "metadata": {},
     "output_type": "execute_result"
    }
   ],
   "source": [
    "# print the dataset\n",
    "binary_train.head()"
   ]
  },
  {
   "cell_type": "code",
   "execution_count": 23,
   "metadata": {},
   "outputs": [
    {
     "name": "stderr",
     "output_type": "stream",
     "text": [
      "C:\\Users\\DELL\\Anaconda32a\\lib\\site-packages\\ipykernel_launcher.py:3: DeprecationWarning: \n",
      ".ix is deprecated. Please use\n",
      ".loc for label based indexing or\n",
      ".iloc for positional indexing\n",
      "\n",
      "See the documentation here:\n",
      "http://pandas.pydata.org/pandas-docs/stable/indexing.html#ix-indexer-is-deprecated\n",
      "  This is separate from the ipykernel package so we can avoid doing imports until\n"
     ]
    }
   ],
   "source": [
    "# filling the missing values with the mean value of the column\n",
    "# ix, here denotes, at the particular location\n",
    "binary_train.ix[binary_train.LoanAmount.isnull(),\"LoanAmount\"]=binary_train[\"LoanAmount\"].mean()"
   ]
  },
  {
   "cell_type": "code",
   "execution_count": 24,
   "metadata": {},
   "outputs": [
    {
     "data": {
      "text/html": [
       "<div>\n",
       "<style scoped>\n",
       "    .dataframe tbody tr th:only-of-type {\n",
       "        vertical-align: middle;\n",
       "    }\n",
       "\n",
       "    .dataframe tbody tr th {\n",
       "        vertical-align: top;\n",
       "    }\n",
       "\n",
       "    .dataframe thead th {\n",
       "        text-align: right;\n",
       "    }\n",
       "</style>\n",
       "<table border=\"1\" class=\"dataframe\">\n",
       "  <thead>\n",
       "    <tr style=\"text-align: right;\">\n",
       "      <th></th>\n",
       "      <th>Application_ID</th>\n",
       "      <th>Gender</th>\n",
       "      <th>Married</th>\n",
       "      <th>Self_Employed</th>\n",
       "      <th>ApplicantIncome</th>\n",
       "      <th>CoapplicantIncome</th>\n",
       "      <th>LoanAmount</th>\n",
       "      <th>Loan_Amount_Term</th>\n",
       "      <th>Credit_History</th>\n",
       "      <th>Property_Area</th>\n",
       "      <th>Loan_Status</th>\n",
       "    </tr>\n",
       "  </thead>\n",
       "  <tbody>\n",
       "    <tr>\n",
       "      <th>0</th>\n",
       "      <td>1002</td>\n",
       "      <td>M</td>\n",
       "      <td>No</td>\n",
       "      <td>No</td>\n",
       "      <td>5849.0</td>\n",
       "      <td>0.0</td>\n",
       "      <td>134.221053</td>\n",
       "      <td>360.0</td>\n",
       "      <td>1.0</td>\n",
       "      <td>Urban</td>\n",
       "      <td>1</td>\n",
       "    </tr>\n",
       "    <tr>\n",
       "      <th>1</th>\n",
       "      <td>1003</td>\n",
       "      <td>M</td>\n",
       "      <td>Yes</td>\n",
       "      <td>No</td>\n",
       "      <td>4583.0</td>\n",
       "      <td>1508.0</td>\n",
       "      <td>128.000000</td>\n",
       "      <td>360.0</td>\n",
       "      <td>1.0</td>\n",
       "      <td>Rural</td>\n",
       "      <td>0</td>\n",
       "    </tr>\n",
       "    <tr>\n",
       "      <th>2</th>\n",
       "      <td>1005</td>\n",
       "      <td>M</td>\n",
       "      <td>Yes</td>\n",
       "      <td>Yes</td>\n",
       "      <td>3000.0</td>\n",
       "      <td>0.0</td>\n",
       "      <td>66.000000</td>\n",
       "      <td>360.0</td>\n",
       "      <td>1.0</td>\n",
       "      <td>Urban</td>\n",
       "      <td>1</td>\n",
       "    </tr>\n",
       "    <tr>\n",
       "      <th>3</th>\n",
       "      <td>1006</td>\n",
       "      <td>M</td>\n",
       "      <td>Yes</td>\n",
       "      <td>No</td>\n",
       "      <td>2583.0</td>\n",
       "      <td>2358.0</td>\n",
       "      <td>120.000000</td>\n",
       "      <td>360.0</td>\n",
       "      <td>1.0</td>\n",
       "      <td>Urban</td>\n",
       "      <td>1</td>\n",
       "    </tr>\n",
       "    <tr>\n",
       "      <th>4</th>\n",
       "      <td>1008</td>\n",
       "      <td>M</td>\n",
       "      <td>No</td>\n",
       "      <td>No</td>\n",
       "      <td>6000.0</td>\n",
       "      <td>0.0</td>\n",
       "      <td>141.000000</td>\n",
       "      <td>360.0</td>\n",
       "      <td>1.0</td>\n",
       "      <td>Urban</td>\n",
       "      <td>1</td>\n",
       "    </tr>\n",
       "  </tbody>\n",
       "</table>\n",
       "</div>"
      ],
      "text/plain": [
       "   Application_ID Gender Married Self_Employed  ApplicantIncome  \\\n",
       "0            1002      M      No            No           5849.0   \n",
       "1            1003      M     Yes            No           4583.0   \n",
       "2            1005      M     Yes           Yes           3000.0   \n",
       "3            1006      M     Yes            No           2583.0   \n",
       "4            1008      M      No            No           6000.0   \n",
       "\n",
       "   CoapplicantIncome  LoanAmount  Loan_Amount_Term  Credit_History  \\\n",
       "0                0.0  134.221053             360.0             1.0   \n",
       "1             1508.0  128.000000             360.0             1.0   \n",
       "2                0.0   66.000000             360.0             1.0   \n",
       "3             2358.0  120.000000             360.0             1.0   \n",
       "4                0.0  141.000000             360.0             1.0   \n",
       "\n",
       "  Property_Area  Loan_Status  \n",
       "0         Urban            1  \n",
       "1         Rural            0  \n",
       "2         Urban            1  \n",
       "3         Urban            1  \n",
       "4         Urban            1  "
      ]
     },
     "execution_count": 24,
     "metadata": {},
     "output_type": "execute_result"
    }
   ],
   "source": [
    "# print the dataset\n",
    "binary_train.head()"
   ]
  },
  {
   "cell_type": "code",
   "execution_count": 25,
   "metadata": {},
   "outputs": [
    {
     "name": "stderr",
     "output_type": "stream",
     "text": [
      "C:\\Users\\DELL\\Anaconda32a\\lib\\site-packages\\ipykernel_launcher.py:3: DeprecationWarning: \n",
      ".ix is deprecated. Please use\n",
      ".loc for label based indexing or\n",
      ".iloc for positional indexing\n",
      "\n",
      "See the documentation here:\n",
      "http://pandas.pydata.org/pandas-docs/stable/indexing.html#ix-indexer-is-deprecated\n",
      "  This is separate from the ipykernel package so we can avoid doing imports until\n"
     ]
    }
   ],
   "source": [
    "# filling the missing values with the mean value of the column\n",
    "# ix, here denotes, at the particular location\n",
    "binary_train.ix[binary_train.Loan_Amount_Term.isnull(),\"Loan_Amount_Term\"]=binary_train[\"Loan_Amount_Term\"].mean()"
   ]
  },
  {
   "cell_type": "code",
   "execution_count": 26,
   "metadata": {},
   "outputs": [
    {
     "data": {
      "text/html": [
       "<div>\n",
       "<style scoped>\n",
       "    .dataframe tbody tr th:only-of-type {\n",
       "        vertical-align: middle;\n",
       "    }\n",
       "\n",
       "    .dataframe tbody tr th {\n",
       "        vertical-align: top;\n",
       "    }\n",
       "\n",
       "    .dataframe thead th {\n",
       "        text-align: right;\n",
       "    }\n",
       "</style>\n",
       "<table border=\"1\" class=\"dataframe\">\n",
       "  <thead>\n",
       "    <tr style=\"text-align: right;\">\n",
       "      <th></th>\n",
       "      <th>Application_ID</th>\n",
       "      <th>Gender</th>\n",
       "      <th>Married</th>\n",
       "      <th>Self_Employed</th>\n",
       "      <th>ApplicantIncome</th>\n",
       "      <th>CoapplicantIncome</th>\n",
       "      <th>LoanAmount</th>\n",
       "      <th>Loan_Amount_Term</th>\n",
       "      <th>Credit_History</th>\n",
       "      <th>Property_Area</th>\n",
       "      <th>Loan_Status</th>\n",
       "    </tr>\n",
       "  </thead>\n",
       "  <tbody>\n",
       "    <tr>\n",
       "      <th>0</th>\n",
       "      <td>1002</td>\n",
       "      <td>M</td>\n",
       "      <td>No</td>\n",
       "      <td>No</td>\n",
       "      <td>5849.0</td>\n",
       "      <td>0.0</td>\n",
       "      <td>134.221053</td>\n",
       "      <td>360.0</td>\n",
       "      <td>1.0</td>\n",
       "      <td>Urban</td>\n",
       "      <td>1</td>\n",
       "    </tr>\n",
       "    <tr>\n",
       "      <th>1</th>\n",
       "      <td>1003</td>\n",
       "      <td>M</td>\n",
       "      <td>Yes</td>\n",
       "      <td>No</td>\n",
       "      <td>4583.0</td>\n",
       "      <td>1508.0</td>\n",
       "      <td>128.000000</td>\n",
       "      <td>360.0</td>\n",
       "      <td>1.0</td>\n",
       "      <td>Rural</td>\n",
       "      <td>0</td>\n",
       "    </tr>\n",
       "    <tr>\n",
       "      <th>2</th>\n",
       "      <td>1005</td>\n",
       "      <td>M</td>\n",
       "      <td>Yes</td>\n",
       "      <td>Yes</td>\n",
       "      <td>3000.0</td>\n",
       "      <td>0.0</td>\n",
       "      <td>66.000000</td>\n",
       "      <td>360.0</td>\n",
       "      <td>1.0</td>\n",
       "      <td>Urban</td>\n",
       "      <td>1</td>\n",
       "    </tr>\n",
       "    <tr>\n",
       "      <th>3</th>\n",
       "      <td>1006</td>\n",
       "      <td>M</td>\n",
       "      <td>Yes</td>\n",
       "      <td>No</td>\n",
       "      <td>2583.0</td>\n",
       "      <td>2358.0</td>\n",
       "      <td>120.000000</td>\n",
       "      <td>360.0</td>\n",
       "      <td>1.0</td>\n",
       "      <td>Urban</td>\n",
       "      <td>1</td>\n",
       "    </tr>\n",
       "    <tr>\n",
       "      <th>4</th>\n",
       "      <td>1008</td>\n",
       "      <td>M</td>\n",
       "      <td>No</td>\n",
       "      <td>No</td>\n",
       "      <td>6000.0</td>\n",
       "      <td>0.0</td>\n",
       "      <td>141.000000</td>\n",
       "      <td>360.0</td>\n",
       "      <td>1.0</td>\n",
       "      <td>Urban</td>\n",
       "      <td>1</td>\n",
       "    </tr>\n",
       "  </tbody>\n",
       "</table>\n",
       "</div>"
      ],
      "text/plain": [
       "   Application_ID Gender Married Self_Employed  ApplicantIncome  \\\n",
       "0            1002      M      No            No           5849.0   \n",
       "1            1003      M     Yes            No           4583.0   \n",
       "2            1005      M     Yes           Yes           3000.0   \n",
       "3            1006      M     Yes            No           2583.0   \n",
       "4            1008      M      No            No           6000.0   \n",
       "\n",
       "   CoapplicantIncome  LoanAmount  Loan_Amount_Term  Credit_History  \\\n",
       "0                0.0  134.221053             360.0             1.0   \n",
       "1             1508.0  128.000000             360.0             1.0   \n",
       "2                0.0   66.000000             360.0             1.0   \n",
       "3             2358.0  120.000000             360.0             1.0   \n",
       "4                0.0  141.000000             360.0             1.0   \n",
       "\n",
       "  Property_Area  Loan_Status  \n",
       "0         Urban            1  \n",
       "1         Rural            0  \n",
       "2         Urban            1  \n",
       "3         Urban            1  \n",
       "4         Urban            1  "
      ]
     },
     "execution_count": 26,
     "metadata": {},
     "output_type": "execute_result"
    }
   ],
   "source": [
    "# print the dataset\n",
    "binary_train.head()"
   ]
  },
  {
   "cell_type": "code",
   "execution_count": 27,
   "metadata": {},
   "outputs": [
    {
     "name": "stderr",
     "output_type": "stream",
     "text": [
      "C:\\Users\\DELL\\Anaconda32a\\lib\\site-packages\\ipykernel_launcher.py:3: DeprecationWarning: \n",
      ".ix is deprecated. Please use\n",
      ".loc for label based indexing or\n",
      ".iloc for positional indexing\n",
      "\n",
      "See the documentation here:\n",
      "http://pandas.pydata.org/pandas-docs/stable/indexing.html#ix-indexer-is-deprecated\n",
      "  This is separate from the ipykernel package so we can avoid doing imports until\n"
     ]
    }
   ],
   "source": [
    "# filling the missing values with the mean value of the column\n",
    "# ix, here denotes, at the particular location\n",
    "binary_train.ix[binary_train.Credit_History.isnull(),\"Credit_History\"]=binary_train[\"Credit_History\"].mean()"
   ]
  },
  {
   "cell_type": "code",
   "execution_count": 28,
   "metadata": {},
   "outputs": [
    {
     "data": {
      "text/html": [
       "<div>\n",
       "<style scoped>\n",
       "    .dataframe tbody tr th:only-of-type {\n",
       "        vertical-align: middle;\n",
       "    }\n",
       "\n",
       "    .dataframe tbody tr th {\n",
       "        vertical-align: top;\n",
       "    }\n",
       "\n",
       "    .dataframe thead th {\n",
       "        text-align: right;\n",
       "    }\n",
       "</style>\n",
       "<table border=\"1\" class=\"dataframe\">\n",
       "  <thead>\n",
       "    <tr style=\"text-align: right;\">\n",
       "      <th></th>\n",
       "      <th>Application_ID</th>\n",
       "      <th>Gender</th>\n",
       "      <th>Married</th>\n",
       "      <th>Self_Employed</th>\n",
       "      <th>ApplicantIncome</th>\n",
       "      <th>CoapplicantIncome</th>\n",
       "      <th>LoanAmount</th>\n",
       "      <th>Loan_Amount_Term</th>\n",
       "      <th>Credit_History</th>\n",
       "      <th>Property_Area</th>\n",
       "      <th>Loan_Status</th>\n",
       "    </tr>\n",
       "  </thead>\n",
       "  <tbody>\n",
       "    <tr>\n",
       "      <th>0</th>\n",
       "      <td>1002</td>\n",
       "      <td>M</td>\n",
       "      <td>No</td>\n",
       "      <td>No</td>\n",
       "      <td>5849.0</td>\n",
       "      <td>0.0</td>\n",
       "      <td>134.221053</td>\n",
       "      <td>360.0</td>\n",
       "      <td>1.0</td>\n",
       "      <td>Urban</td>\n",
       "      <td>1</td>\n",
       "    </tr>\n",
       "    <tr>\n",
       "      <th>1</th>\n",
       "      <td>1003</td>\n",
       "      <td>M</td>\n",
       "      <td>Yes</td>\n",
       "      <td>No</td>\n",
       "      <td>4583.0</td>\n",
       "      <td>1508.0</td>\n",
       "      <td>128.000000</td>\n",
       "      <td>360.0</td>\n",
       "      <td>1.0</td>\n",
       "      <td>Rural</td>\n",
       "      <td>0</td>\n",
       "    </tr>\n",
       "    <tr>\n",
       "      <th>2</th>\n",
       "      <td>1005</td>\n",
       "      <td>M</td>\n",
       "      <td>Yes</td>\n",
       "      <td>Yes</td>\n",
       "      <td>3000.0</td>\n",
       "      <td>0.0</td>\n",
       "      <td>66.000000</td>\n",
       "      <td>360.0</td>\n",
       "      <td>1.0</td>\n",
       "      <td>Urban</td>\n",
       "      <td>1</td>\n",
       "    </tr>\n",
       "    <tr>\n",
       "      <th>3</th>\n",
       "      <td>1006</td>\n",
       "      <td>M</td>\n",
       "      <td>Yes</td>\n",
       "      <td>No</td>\n",
       "      <td>2583.0</td>\n",
       "      <td>2358.0</td>\n",
       "      <td>120.000000</td>\n",
       "      <td>360.0</td>\n",
       "      <td>1.0</td>\n",
       "      <td>Urban</td>\n",
       "      <td>1</td>\n",
       "    </tr>\n",
       "    <tr>\n",
       "      <th>4</th>\n",
       "      <td>1008</td>\n",
       "      <td>M</td>\n",
       "      <td>No</td>\n",
       "      <td>No</td>\n",
       "      <td>6000.0</td>\n",
       "      <td>0.0</td>\n",
       "      <td>141.000000</td>\n",
       "      <td>360.0</td>\n",
       "      <td>1.0</td>\n",
       "      <td>Urban</td>\n",
       "      <td>1</td>\n",
       "    </tr>\n",
       "  </tbody>\n",
       "</table>\n",
       "</div>"
      ],
      "text/plain": [
       "   Application_ID Gender Married Self_Employed  ApplicantIncome  \\\n",
       "0            1002      M      No            No           5849.0   \n",
       "1            1003      M     Yes            No           4583.0   \n",
       "2            1005      M     Yes           Yes           3000.0   \n",
       "3            1006      M     Yes            No           2583.0   \n",
       "4            1008      M      No            No           6000.0   \n",
       "\n",
       "   CoapplicantIncome  LoanAmount  Loan_Amount_Term  Credit_History  \\\n",
       "0                0.0  134.221053             360.0             1.0   \n",
       "1             1508.0  128.000000             360.0             1.0   \n",
       "2                0.0   66.000000             360.0             1.0   \n",
       "3             2358.0  120.000000             360.0             1.0   \n",
       "4                0.0  141.000000             360.0             1.0   \n",
       "\n",
       "  Property_Area  Loan_Status  \n",
       "0         Urban            1  \n",
       "1         Rural            0  \n",
       "2         Urban            1  \n",
       "3         Urban            1  \n",
       "4         Urban            1  "
      ]
     },
     "execution_count": 28,
     "metadata": {},
     "output_type": "execute_result"
    }
   ],
   "source": [
    "# print the dataset\n",
    "binary_train.head()"
   ]
  },
  {
   "cell_type": "code",
   "execution_count": 29,
   "metadata": {},
   "outputs": [],
   "source": [
    "# storing the updated value in the original dataset\n",
    "train=binary_train"
   ]
  },
  {
   "cell_type": "code",
   "execution_count": 30,
   "metadata": {},
   "outputs": [
    {
     "data": {
      "text/plain": [
       "<matplotlib.axes._subplots.AxesSubplot at 0x1ba001c2128>"
      ]
     },
     "execution_count": 30,
     "metadata": {},
     "output_type": "execute_result"
    },
    {
     "data": {
      "image/png": "[encoded data removed]",
      "text/plain": [
       "<Figure size 432x288 with 2 Axes>"
      ]
     },
     "metadata": {
      "needs_background": "light"
     },
     "output_type": "display_data"
    }
   ],
   "source": [
    "# after dropping the colmns and replacing the null values\n",
    "sns.heatmap(train.isnull(),yticklabels=False,cbar=True,cmap='viridis')"
   ]
  },
  {
   "cell_type": "markdown",
   "metadata": {},
   "source": [
    "#### For the test dataset"
   ]
  },
  {
   "cell_type": "code",
   "execution_count": 31,
   "metadata": {},
   "outputs": [
    {
     "name": "stderr",
     "output_type": "stream",
     "text": [
      "C:\\Users\\DELL\\Anaconda32a\\lib\\site-packages\\ipykernel_launcher.py:3: DeprecationWarning: \n",
      ".ix is deprecated. Please use\n",
      ".loc for label based indexing or\n",
      ".iloc for positional indexing\n",
      "\n",
      "See the documentation here:\n",
      "http://pandas.pydata.org/pandas-docs/stable/indexing.html#ix-indexer-is-deprecated\n",
      "  This is separate from the ipykernel package so we can avoid doing imports until\n"
     ]
    }
   ],
   "source": [
    "# filling the missing values with the mean value of the column\n",
    "# ix, here denotes, at the particular location\n",
    "binary_test.ix[binary_test.LoanAmount.isnull(),\"LoanAmount\"]=binary_test[\"LoanAmount\"].mean()"
   ]
  },
  {
   "cell_type": "code",
   "execution_count": 32,
   "metadata": {},
   "outputs": [
    {
     "data": {
      "text/html": [
       "<div>\n",
       "<style scoped>\n",
       "    .dataframe tbody tr th:only-of-type {\n",
       "        vertical-align: middle;\n",
       "    }\n",
       "\n",
       "    .dataframe tbody tr th {\n",
       "        vertical-align: top;\n",
       "    }\n",
       "\n",
       "    .dataframe thead th {\n",
       "        text-align: right;\n",
       "    }\n",
       "</style>\n",
       "<table border=\"1\" class=\"dataframe\">\n",
       "  <thead>\n",
       "    <tr style=\"text-align: right;\">\n",
       "      <th></th>\n",
       "      <th>Application_ID</th>\n",
       "      <th>Gender</th>\n",
       "      <th>Married</th>\n",
       "      <th>Self_Employed</th>\n",
       "      <th>ApplicantIncome</th>\n",
       "      <th>CoapplicantIncome</th>\n",
       "      <th>LoanAmount</th>\n",
       "      <th>Loan_Amount_Term</th>\n",
       "      <th>Credit_History</th>\n",
       "      <th>Property_Area</th>\n",
       "    </tr>\n",
       "  </thead>\n",
       "  <tbody>\n",
       "    <tr>\n",
       "      <th>0</th>\n",
       "      <td>1345</td>\n",
       "      <td>M</td>\n",
       "      <td>Yes</td>\n",
       "      <td>No</td>\n",
       "      <td>4288</td>\n",
       "      <td>3263.0</td>\n",
       "      <td>133.000000</td>\n",
       "      <td>180.0</td>\n",
       "      <td>1.0</td>\n",
       "      <td>Urban</td>\n",
       "    </tr>\n",
       "    <tr>\n",
       "      <th>1</th>\n",
       "      <td>1349</td>\n",
       "      <td>M</td>\n",
       "      <td>No</td>\n",
       "      <td>No</td>\n",
       "      <td>4843</td>\n",
       "      <td>3806.0</td>\n",
       "      <td>151.000000</td>\n",
       "      <td>360.0</td>\n",
       "      <td>1.0</td>\n",
       "      <td>Semiurban</td>\n",
       "    </tr>\n",
       "    <tr>\n",
       "      <th>2</th>\n",
       "      <td>1350</td>\n",
       "      <td>M</td>\n",
       "      <td>Yes</td>\n",
       "      <td>No</td>\n",
       "      <td>13650</td>\n",
       "      <td>0.0</td>\n",
       "      <td>148.742455</td>\n",
       "      <td>360.0</td>\n",
       "      <td>1.0</td>\n",
       "      <td>Urban</td>\n",
       "    </tr>\n",
       "    <tr>\n",
       "      <th>3</th>\n",
       "      <td>1356</td>\n",
       "      <td>M</td>\n",
       "      <td>Yes</td>\n",
       "      <td>No</td>\n",
       "      <td>4652</td>\n",
       "      <td>3583.0</td>\n",
       "      <td>148.742455</td>\n",
       "      <td>360.0</td>\n",
       "      <td>1.0</td>\n",
       "      <td>Semiurban</td>\n",
       "    </tr>\n",
       "    <tr>\n",
       "      <th>4</th>\n",
       "      <td>1357</td>\n",
       "      <td>M</td>\n",
       "      <td>NaN</td>\n",
       "      <td>No</td>\n",
       "      <td>3816</td>\n",
       "      <td>754.0</td>\n",
       "      <td>160.000000</td>\n",
       "      <td>360.0</td>\n",
       "      <td>1.0</td>\n",
       "      <td>Urban</td>\n",
       "    </tr>\n",
       "  </tbody>\n",
       "</table>\n",
       "</div>"
      ],
      "text/plain": [
       "   Application_ID Gender Married Self_Employed  ApplicantIncome  \\\n",
       "0            1345      M     Yes            No             4288   \n",
       "1            1349      M      No            No             4843   \n",
       "2            1350      M     Yes            No            13650   \n",
       "3            1356      M     Yes            No             4652   \n",
       "4            1357      M     NaN            No             3816   \n",
       "\n",
       "   CoapplicantIncome  LoanAmount  Loan_Amount_Term  Credit_History  \\\n",
       "0             3263.0  133.000000             180.0             1.0   \n",
       "1             3806.0  151.000000             360.0             1.0   \n",
       "2                0.0  148.742455             360.0             1.0   \n",
       "3             3583.0  148.742455             360.0             1.0   \n",
       "4              754.0  160.000000             360.0             1.0   \n",
       "\n",
       "  Property_Area  \n",
       "0         Urban  \n",
       "1     Semiurban  \n",
       "2         Urban  \n",
       "3     Semiurban  \n",
       "4         Urban  "
      ]
     },
     "execution_count": 32,
     "metadata": {},
     "output_type": "execute_result"
    }
   ],
   "source": [
    "# print the dataset\n",
    "binary_test.head()"
   ]
  },
  {
   "cell_type": "code",
   "execution_count": 33,
   "metadata": {},
   "outputs": [
    {
     "name": "stderr",
     "output_type": "stream",
     "text": [
      "C:\\Users\\DELL\\Anaconda32a\\lib\\site-packages\\ipykernel_launcher.py:3: DeprecationWarning: \n",
      ".ix is deprecated. Please use\n",
      ".loc for label based indexing or\n",
      ".iloc for positional indexing\n",
      "\n",
      "See the documentation here:\n",
      "http://pandas.pydata.org/pandas-docs/stable/indexing.html#ix-indexer-is-deprecated\n",
      "  This is separate from the ipykernel package so we can avoid doing imports until\n",
      "C:\\Users\\DELL\\Anaconda32a\\lib\\site-packages\\ipykernel_launcher.py:6: DeprecationWarning: \n",
      ".ix is deprecated. Please use\n",
      ".loc for label based indexing or\n",
      ".iloc for positional indexing\n",
      "\n",
      "See the documentation here:\n",
      "http://pandas.pydata.org/pandas-docs/stable/indexing.html#ix-indexer-is-deprecated\n",
      "  \n"
     ]
    }
   ],
   "source": [
    "# filling the missing values with the mean value of the column\n",
    "# ix, here denotes, at the particular location\n",
    "binary_test.ix[binary_test.Loan_Amount_Term.isnull(),\"Loan_Amount_Term\"]=binary_test[\"Loan_Amount_Term\"].mean()\n",
    "# filling the missing values with the mean value of the column\n",
    "# ix, here denotes, at the particular location\n",
    "binary_test.ix[binary_test.Credit_History.isnull(),\"Credit_History\"]=binary_test[\"Credit_History\"].mean()"
   ]
  },
  {
   "cell_type": "code",
   "execution_count": 34,
   "metadata": {},
   "outputs": [
    {
     "data": {
      "text/html": [
       "<div>\n",
       "<style scoped>\n",
       "    .dataframe tbody tr th:only-of-type {\n",
       "        vertical-align: middle;\n",
       "    }\n",
       "\n",
       "    .dataframe tbody tr th {\n",
       "        vertical-align: top;\n",
       "    }\n",
       "\n",
       "    .dataframe thead th {\n",
       "        text-align: right;\n",
       "    }\n",
       "</style>\n",
       "<table border=\"1\" class=\"dataframe\">\n",
       "  <thead>\n",
       "    <tr style=\"text-align: right;\">\n",
       "      <th></th>\n",
       "      <th>Application_ID</th>\n",
       "      <th>Gender</th>\n",
       "      <th>Married</th>\n",
       "      <th>Self_Employed</th>\n",
       "      <th>ApplicantIncome</th>\n",
       "      <th>CoapplicantIncome</th>\n",
       "      <th>LoanAmount</th>\n",
       "      <th>Loan_Amount_Term</th>\n",
       "      <th>Credit_History</th>\n",
       "      <th>Property_Area</th>\n",
       "    </tr>\n",
       "  </thead>\n",
       "  <tbody>\n",
       "    <tr>\n",
       "      <th>0</th>\n",
       "      <td>1345</td>\n",
       "      <td>M</td>\n",
       "      <td>Yes</td>\n",
       "      <td>No</td>\n",
       "      <td>4288</td>\n",
       "      <td>3263.0</td>\n",
       "      <td>133.000000</td>\n",
       "      <td>180.0</td>\n",
       "      <td>1.0</td>\n",
       "      <td>Urban</td>\n",
       "    </tr>\n",
       "    <tr>\n",
       "      <th>1</th>\n",
       "      <td>1349</td>\n",
       "      <td>M</td>\n",
       "      <td>No</td>\n",
       "      <td>No</td>\n",
       "      <td>4843</td>\n",
       "      <td>3806.0</td>\n",
       "      <td>151.000000</td>\n",
       "      <td>360.0</td>\n",
       "      <td>1.0</td>\n",
       "      <td>Semiurban</td>\n",
       "    </tr>\n",
       "    <tr>\n",
       "      <th>2</th>\n",
       "      <td>1350</td>\n",
       "      <td>M</td>\n",
       "      <td>Yes</td>\n",
       "      <td>No</td>\n",
       "      <td>13650</td>\n",
       "      <td>0.0</td>\n",
       "      <td>148.742455</td>\n",
       "      <td>360.0</td>\n",
       "      <td>1.0</td>\n",
       "      <td>Urban</td>\n",
       "    </tr>\n",
       "    <tr>\n",
       "      <th>3</th>\n",
       "      <td>1356</td>\n",
       "      <td>M</td>\n",
       "      <td>Yes</td>\n",
       "      <td>No</td>\n",
       "      <td>4652</td>\n",
       "      <td>3583.0</td>\n",
       "      <td>148.742455</td>\n",
       "      <td>360.0</td>\n",
       "      <td>1.0</td>\n",
       "      <td>Semiurban</td>\n",
       "    </tr>\n",
       "    <tr>\n",
       "      <th>4</th>\n",
       "      <td>1357</td>\n",
       "      <td>M</td>\n",
       "      <td>NaN</td>\n",
       "      <td>No</td>\n",
       "      <td>3816</td>\n",
       "      <td>754.0</td>\n",
       "      <td>160.000000</td>\n",
       "      <td>360.0</td>\n",
       "      <td>1.0</td>\n",
       "      <td>Urban</td>\n",
       "    </tr>\n",
       "  </tbody>\n",
       "</table>\n",
       "</div>"
      ],
      "text/plain": [
       "   Application_ID Gender Married Self_Employed  ApplicantIncome  \\\n",
       "0            1345      M     Yes            No             4288   \n",
       "1            1349      M      No            No             4843   \n",
       "2            1350      M     Yes            No            13650   \n",
       "3            1356      M     Yes            No             4652   \n",
       "4            1357      M     NaN            No             3816   \n",
       "\n",
       "   CoapplicantIncome  LoanAmount  Loan_Amount_Term  Credit_History  \\\n",
       "0             3263.0  133.000000             180.0             1.0   \n",
       "1             3806.0  151.000000             360.0             1.0   \n",
       "2                0.0  148.742455             360.0             1.0   \n",
       "3             3583.0  148.742455             360.0             1.0   \n",
       "4              754.0  160.000000             360.0             1.0   \n",
       "\n",
       "  Property_Area  \n",
       "0         Urban  \n",
       "1     Semiurban  \n",
       "2         Urban  \n",
       "3     Semiurban  \n",
       "4         Urban  "
      ]
     },
     "execution_count": 34,
     "metadata": {},
     "output_type": "execute_result"
    }
   ],
   "source": [
    "# print the dataset\n",
    "binary_test.head()"
   ]
  },
  {
   "cell_type": "code",
   "execution_count": 35,
   "metadata": {},
   "outputs": [],
   "source": [
    "# storing the original value in the original dataset\n",
    "test=binary_test"
   ]
  },
  {
   "cell_type": "code",
   "execution_count": 36,
   "metadata": {},
   "outputs": [
    {
     "data": {
      "text/plain": [
       "<matplotlib.axes._subplots.AxesSubplot at 0x1ba0028b4a8>"
      ]
     },
     "execution_count": 36,
     "metadata": {},
     "output_type": "execute_result"
    },
    {
     "data": {
      "image/png": "[encoded data removed]",
      "text/plain": [
       "<Figure size 432x288 with 2 Axes>"
      ]
     },
     "metadata": {
      "needs_background": "light"
     },
     "output_type": "display_data"
    }
   ],
   "source": [
    "# the graphical representation after dropping the columns and filling the null values\n",
    "sns.heatmap(test.isnull(),yticklabels=False,cbar=True,cmap='viridis')"
   ]
  },
  {
   "cell_type": "markdown",
   "metadata": {},
   "source": [
    "#### Converting the categorical data"
   ]
  },
  {
   "cell_type": "code",
   "execution_count": 37,
   "metadata": {},
   "outputs": [],
   "source": [
    "# replacing the categorical data by non-categorical data\n",
    "binary_train.Gender.replace([\"M\",\"F\"],[0,1],inplace=True)"
   ]
  },
  {
   "cell_type": "code",
   "execution_count": 38,
   "metadata": {},
   "outputs": [],
   "source": [
    "# replacing the categorical data by non-categorical data\n",
    "binary_train.Married.replace([\"Yes\",\"No\"],[1,0],inplace=True)"
   ]
  },
  {
   "cell_type": "code",
   "execution_count": 39,
   "metadata": {},
   "outputs": [],
   "source": [
    "# replacing the categorical data by non-categorical data\n",
    "binary_train.Self_Employed.replace([\"No\",\"Yes\"],[0,1],inplace=True)"
   ]
  },
  {
   "cell_type": "code",
   "execution_count": 40,
   "metadata": {},
   "outputs": [],
   "source": [
    "# replacing the categorical data by non-categorical data\n",
    "binary_train.Property_Area.replace([\"Urban\",\"Rural\",\"Semiurban\"],[0,1,2],inplace=True)"
   ]
  },
  {
   "cell_type": "code",
   "execution_count": 41,
   "metadata": {},
   "outputs": [
    {
     "data": {
      "text/html": [
       "<div>\n",
       "<style scoped>\n",
       "    .dataframe tbody tr th:only-of-type {\n",
       "        vertical-align: middle;\n",
       "    }\n",
       "\n",
       "    .dataframe tbody tr th {\n",
       "        vertical-align: top;\n",
       "    }\n",
       "\n",
       "    .dataframe thead th {\n",
       "        text-align: right;\n",
       "    }\n",
       "</style>\n",
       "<table border=\"1\" class=\"dataframe\">\n",
       "  <thead>\n",
       "    <tr style=\"text-align: right;\">\n",
       "      <th></th>\n",
       "      <th>Application_ID</th>\n",
       "      <th>Gender</th>\n",
       "      <th>Married</th>\n",
       "      <th>Self_Employed</th>\n",
       "      <th>ApplicantIncome</th>\n",
       "      <th>CoapplicantIncome</th>\n",
       "      <th>LoanAmount</th>\n",
       "      <th>Loan_Amount_Term</th>\n",
       "      <th>Credit_History</th>\n",
       "      <th>Property_Area</th>\n",
       "      <th>Loan_Status</th>\n",
       "    </tr>\n",
       "  </thead>\n",
       "  <tbody>\n",
       "    <tr>\n",
       "      <th>0</th>\n",
       "      <td>1002</td>\n",
       "      <td>0.0</td>\n",
       "      <td>0</td>\n",
       "      <td>0.0</td>\n",
       "      <td>5849.0</td>\n",
       "      <td>0.0</td>\n",
       "      <td>134.221053</td>\n",
       "      <td>360.0</td>\n",
       "      <td>1.0</td>\n",
       "      <td>0</td>\n",
       "      <td>1</td>\n",
       "    </tr>\n",
       "    <tr>\n",
       "      <th>1</th>\n",
       "      <td>1003</td>\n",
       "      <td>0.0</td>\n",
       "      <td>1</td>\n",
       "      <td>0.0</td>\n",
       "      <td>4583.0</td>\n",
       "      <td>1508.0</td>\n",
       "      <td>128.000000</td>\n",
       "      <td>360.0</td>\n",
       "      <td>1.0</td>\n",
       "      <td>1</td>\n",
       "      <td>0</td>\n",
       "    </tr>\n",
       "    <tr>\n",
       "      <th>2</th>\n",
       "      <td>1005</td>\n",
       "      <td>0.0</td>\n",
       "      <td>1</td>\n",
       "      <td>1.0</td>\n",
       "      <td>3000.0</td>\n",
       "      <td>0.0</td>\n",
       "      <td>66.000000</td>\n",
       "      <td>360.0</td>\n",
       "      <td>1.0</td>\n",
       "      <td>0</td>\n",
       "      <td>1</td>\n",
       "    </tr>\n",
       "    <tr>\n",
       "      <th>3</th>\n",
       "      <td>1006</td>\n",
       "      <td>0.0</td>\n",
       "      <td>1</td>\n",
       "      <td>0.0</td>\n",
       "      <td>2583.0</td>\n",
       "      <td>2358.0</td>\n",
       "      <td>120.000000</td>\n",
       "      <td>360.0</td>\n",
       "      <td>1.0</td>\n",
       "      <td>0</td>\n",
       "      <td>1</td>\n",
       "    </tr>\n",
       "    <tr>\n",
       "      <th>4</th>\n",
       "      <td>1008</td>\n",
       "      <td>0.0</td>\n",
       "      <td>0</td>\n",
       "      <td>0.0</td>\n",
       "      <td>6000.0</td>\n",
       "      <td>0.0</td>\n",
       "      <td>141.000000</td>\n",
       "      <td>360.0</td>\n",
       "      <td>1.0</td>\n",
       "      <td>0</td>\n",
       "      <td>1</td>\n",
       "    </tr>\n",
       "  </tbody>\n",
       "</table>\n",
       "</div>"
      ],
      "text/plain": [
       "   Application_ID  Gender  Married  Self_Employed  ApplicantIncome  \\\n",
       "0            1002     0.0        0            0.0           5849.0   \n",
       "1            1003     0.0        1            0.0           4583.0   \n",
       "2            1005     0.0        1            1.0           3000.0   \n",
       "3            1006     0.0        1            0.0           2583.0   \n",
       "4            1008     0.0        0            0.0           6000.0   \n",
       "\n",
       "   CoapplicantIncome  LoanAmount  Loan_Amount_Term  Credit_History  \\\n",
       "0                0.0  134.221053             360.0             1.0   \n",
       "1             1508.0  128.000000             360.0             1.0   \n",
       "2                0.0   66.000000             360.0             1.0   \n",
       "3             2358.0  120.000000             360.0             1.0   \n",
       "4                0.0  141.000000             360.0             1.0   \n",
       "\n",
       "   Property_Area  Loan_Status  \n",
       "0              0            1  \n",
       "1              1            0  \n",
       "2              0            1  \n",
       "3              0            1  \n",
       "4              0            1  "
      ]
     },
     "execution_count": 41,
     "metadata": {},
     "output_type": "execute_result"
    }
   ],
   "source": [
    "# print the dataset\n",
    "binary_train.head()"
   ]
  },
  {
   "cell_type": "code",
   "execution_count": 42,
   "metadata": {},
   "outputs": [],
   "source": [
    "# updating the original dataset\n",
    "train=binary_train"
   ]
  },
  {
   "cell_type": "code",
   "execution_count": 43,
   "metadata": {},
   "outputs": [],
   "source": [
    "# replacing the categorical data by non-categorical data\n",
    "binary_test.Gender.replace([\"M\",\"F\"],[0,1],inplace=True)\n",
    "# replacing the categorical data by non-categorical data\n",
    "binary_test.Married.replace([\"No\",\"Yes\"],[0,1],inplace=True)\n",
    "# replacing the categorical data by non-categorical data\n",
    "binary_test.Self_Employed.replace([\"No\",\"Yes\"],[0,1],inplace=True)\n",
    "# replacing the categorical data by non-categorical data\n",
    "binary_test.Property_Area.replace([\"Urban\",\"Rural\",\"Semiurban\"],[0,1,2],inplace=True)"
   ]
  },
  {
   "cell_type": "code",
   "execution_count": 44,
   "metadata": {},
   "outputs": [],
   "source": [
    "# updating the original dataset\n",
    "test=binary_test"
   ]
  },
  {
   "cell_type": "code",
   "execution_count": 45,
   "metadata": {},
   "outputs": [
    {
     "name": "stderr",
     "output_type": "stream",
     "text": [
      "C:\\Users\\DELL\\Anaconda32a\\lib\\site-packages\\ipykernel_launcher.py:2: DeprecationWarning: \n",
      ".ix is deprecated. Please use\n",
      ".loc for label based indexing or\n",
      ".iloc for positional indexing\n",
      "\n",
      "See the documentation here:\n",
      "http://pandas.pydata.org/pandas-docs/stable/indexing.html#ix-indexer-is-deprecated\n",
      "  \n"
     ]
    }
   ],
   "source": [
    "# replacing the null value by the mean value of a particular column\n",
    "test.ix[test.Gender.isnull(),\"Gender\"]=test[\"Gender\"].mean()"
   ]
  },
  {
   "cell_type": "code",
   "execution_count": 46,
   "metadata": {},
   "outputs": [
    {
     "name": "stderr",
     "output_type": "stream",
     "text": [
      "C:\\Users\\DELL\\Anaconda32a\\lib\\site-packages\\ipykernel_launcher.py:2: DeprecationWarning: \n",
      ".ix is deprecated. Please use\n",
      ".loc for label based indexing or\n",
      ".iloc for positional indexing\n",
      "\n",
      "See the documentation here:\n",
      "http://pandas.pydata.org/pandas-docs/stable/indexing.html#ix-indexer-is-deprecated\n",
      "  \n"
     ]
    }
   ],
   "source": [
    "# replacing the null value by the mean value of a particular column\n",
    "test.ix[test.Married.isnull(),\"Married\"]=test[\"Married\"].mean()"
   ]
  },
  {
   "cell_type": "code",
   "execution_count": 47,
   "metadata": {},
   "outputs": [
    {
     "name": "stderr",
     "output_type": "stream",
     "text": [
      "C:\\Users\\DELL\\Anaconda32a\\lib\\site-packages\\ipykernel_launcher.py:2: DeprecationWarning: \n",
      ".ix is deprecated. Please use\n",
      ".loc for label based indexing or\n",
      ".iloc for positional indexing\n",
      "\n",
      "See the documentation here:\n",
      "http://pandas.pydata.org/pandas-docs/stable/indexing.html#ix-indexer-is-deprecated\n",
      "  \n"
     ]
    }
   ],
   "source": [
    "# replacing the null value by the mean value of a particular column\n",
    "test.ix[test.Self_Employed.isnull(),\"Self_Employed\"]=test[\"Self_Employed\"].mean()"
   ]
  },
  {
   "cell_type": "code",
   "execution_count": 48,
   "metadata": {},
   "outputs": [
    {
     "data": {
      "text/html": [
       "<div>\n",
       "<style scoped>\n",
       "    .dataframe tbody tr th:only-of-type {\n",
       "        vertical-align: middle;\n",
       "    }\n",
       "\n",
       "    .dataframe tbody tr th {\n",
       "        vertical-align: top;\n",
       "    }\n",
       "\n",
       "    .dataframe thead th {\n",
       "        text-align: right;\n",
       "    }\n",
       "</style>\n",
       "<table border=\"1\" class=\"dataframe\">\n",
       "  <thead>\n",
       "    <tr style=\"text-align: right;\">\n",
       "      <th></th>\n",
       "      <th>Application_ID</th>\n",
       "      <th>Gender</th>\n",
       "      <th>Married</th>\n",
       "      <th>Self_Employed</th>\n",
       "      <th>ApplicantIncome</th>\n",
       "      <th>CoapplicantIncome</th>\n",
       "      <th>LoanAmount</th>\n",
       "      <th>Loan_Amount_Term</th>\n",
       "      <th>Credit_History</th>\n",
       "      <th>Property_Area</th>\n",
       "    </tr>\n",
       "  </thead>\n",
       "  <tbody>\n",
       "    <tr>\n",
       "      <th>0</th>\n",
       "      <td>1345</td>\n",
       "      <td>0.0</td>\n",
       "      <td>1.000000</td>\n",
       "      <td>0.0</td>\n",
       "      <td>4288</td>\n",
       "      <td>3263.0</td>\n",
       "      <td>133.000000</td>\n",
       "      <td>180.0</td>\n",
       "      <td>1.0</td>\n",
       "      <td>0</td>\n",
       "    </tr>\n",
       "    <tr>\n",
       "      <th>1</th>\n",
       "      <td>1349</td>\n",
       "      <td>0.0</td>\n",
       "      <td>0.000000</td>\n",
       "      <td>0.0</td>\n",
       "      <td>4843</td>\n",
       "      <td>3806.0</td>\n",
       "      <td>151.000000</td>\n",
       "      <td>360.0</td>\n",
       "      <td>1.0</td>\n",
       "      <td>2</td>\n",
       "    </tr>\n",
       "    <tr>\n",
       "      <th>2</th>\n",
       "      <td>1350</td>\n",
       "      <td>0.0</td>\n",
       "      <td>1.000000</td>\n",
       "      <td>0.0</td>\n",
       "      <td>13650</td>\n",
       "      <td>0.0</td>\n",
       "      <td>148.742455</td>\n",
       "      <td>360.0</td>\n",
       "      <td>1.0</td>\n",
       "      <td>0</td>\n",
       "    </tr>\n",
       "    <tr>\n",
       "      <th>3</th>\n",
       "      <td>1356</td>\n",
       "      <td>0.0</td>\n",
       "      <td>1.000000</td>\n",
       "      <td>0.0</td>\n",
       "      <td>4652</td>\n",
       "      <td>3583.0</td>\n",
       "      <td>148.742455</td>\n",
       "      <td>360.0</td>\n",
       "      <td>1.0</td>\n",
       "      <td>2</td>\n",
       "    </tr>\n",
       "    <tr>\n",
       "      <th>4</th>\n",
       "      <td>1357</td>\n",
       "      <td>0.0</td>\n",
       "      <td>0.643836</td>\n",
       "      <td>0.0</td>\n",
       "      <td>3816</td>\n",
       "      <td>754.0</td>\n",
       "      <td>160.000000</td>\n",
       "      <td>360.0</td>\n",
       "      <td>1.0</td>\n",
       "      <td>0</td>\n",
       "    </tr>\n",
       "  </tbody>\n",
       "</table>\n",
       "</div>"
      ],
      "text/plain": [
       "   Application_ID  Gender   Married  Self_Employed  ApplicantIncome  \\\n",
       "0            1345     0.0  1.000000            0.0             4288   \n",
       "1            1349     0.0  0.000000            0.0             4843   \n",
       "2            1350     0.0  1.000000            0.0            13650   \n",
       "3            1356     0.0  1.000000            0.0             4652   \n",
       "4            1357     0.0  0.643836            0.0             3816   \n",
       "\n",
       "   CoapplicantIncome  LoanAmount  Loan_Amount_Term  Credit_History  \\\n",
       "0             3263.0  133.000000             180.0             1.0   \n",
       "1             3806.0  151.000000             360.0             1.0   \n",
       "2                0.0  148.742455             360.0             1.0   \n",
       "3             3583.0  148.742455             360.0             1.0   \n",
       "4              754.0  160.000000             360.0             1.0   \n",
       "\n",
       "   Property_Area  \n",
       "0              0  \n",
       "1              2  \n",
       "2              0  \n",
       "3              2  \n",
       "4              0  "
      ]
     },
     "execution_count": 48,
     "metadata": {},
     "output_type": "execute_result"
    }
   ],
   "source": [
    "# print the dataset\n",
    "test.head()"
   ]
  },
  {
   "cell_type": "markdown",
   "metadata": {},
   "source": [
    "#### For train dataset"
   ]
  },
  {
   "cell_type": "code",
   "execution_count": 49,
   "metadata": {},
   "outputs": [
    {
     "name": "stderr",
     "output_type": "stream",
     "text": [
      "C:\\Users\\DELL\\Anaconda32a\\lib\\site-packages\\ipykernel_launcher.py:2: DeprecationWarning: \n",
      ".ix is deprecated. Please use\n",
      ".loc for label based indexing or\n",
      ".iloc for positional indexing\n",
      "\n",
      "See the documentation here:\n",
      "http://pandas.pydata.org/pandas-docs/stable/indexing.html#ix-indexer-is-deprecated\n",
      "  \n"
     ]
    }
   ],
   "source": [
    "# replacing the null value by the mean value of a particular column\n",
    "train.ix[train.Gender.isnull(),\"Gender\"]=train[\"Gender\"].mean()"
   ]
  },
  {
   "cell_type": "code",
   "execution_count": 50,
   "metadata": {},
   "outputs": [
    {
     "name": "stderr",
     "output_type": "stream",
     "text": [
      "C:\\Users\\DELL\\Anaconda32a\\lib\\site-packages\\ipykernel_launcher.py:2: DeprecationWarning: \n",
      ".ix is deprecated. Please use\n",
      ".loc for label based indexing or\n",
      ".iloc for positional indexing\n",
      "\n",
      "See the documentation here:\n",
      "http://pandas.pydata.org/pandas-docs/stable/indexing.html#ix-indexer-is-deprecated\n",
      "  \n"
     ]
    }
   ],
   "source": [
    "# replacing the null value by the mean value of a particular column\n",
    "train.ix[train.Married.isnull(),\"Married\"]=train[\"Married\"].mean()"
   ]
  },
  {
   "cell_type": "code",
   "execution_count": 51,
   "metadata": {},
   "outputs": [
    {
     "name": "stderr",
     "output_type": "stream",
     "text": [
      "C:\\Users\\DELL\\Anaconda32a\\lib\\site-packages\\ipykernel_launcher.py:2: DeprecationWarning: \n",
      ".ix is deprecated. Please use\n",
      ".loc for label based indexing or\n",
      ".iloc for positional indexing\n",
      "\n",
      "See the documentation here:\n",
      "http://pandas.pydata.org/pandas-docs/stable/indexing.html#ix-indexer-is-deprecated\n",
      "  \n"
     ]
    }
   ],
   "source": [
    "# replacing the null value by the mean value of a particular column\n",
    "train.ix[train.Self_Employed.isnull(),\"Self_Employed\"]=train[\"Self_Employed\"].mean()"
   ]
  },
  {
   "cell_type": "code",
   "execution_count": 52,
   "metadata": {},
   "outputs": [
    {
     "data": {
      "text/html": [
       "<div>\n",
       "<style scoped>\n",
       "    .dataframe tbody tr th:only-of-type {\n",
       "        vertical-align: middle;\n",
       "    }\n",
       "\n",
       "    .dataframe tbody tr th {\n",
       "        vertical-align: top;\n",
       "    }\n",
       "\n",
       "    .dataframe thead th {\n",
       "        text-align: right;\n",
       "    }\n",
       "</style>\n",
       "<table border=\"1\" class=\"dataframe\">\n",
       "  <thead>\n",
       "    <tr style=\"text-align: right;\">\n",
       "      <th></th>\n",
       "      <th>Application_ID</th>\n",
       "      <th>Gender</th>\n",
       "      <th>Married</th>\n",
       "      <th>Self_Employed</th>\n",
       "      <th>ApplicantIncome</th>\n",
       "      <th>CoapplicantIncome</th>\n",
       "      <th>LoanAmount</th>\n",
       "      <th>Loan_Amount_Term</th>\n",
       "      <th>Credit_History</th>\n",
       "      <th>Property_Area</th>\n",
       "      <th>Loan_Status</th>\n",
       "    </tr>\n",
       "  </thead>\n",
       "  <tbody>\n",
       "    <tr>\n",
       "      <th>0</th>\n",
       "      <td>1002</td>\n",
       "      <td>0.0</td>\n",
       "      <td>0.0</td>\n",
       "      <td>0.0</td>\n",
       "      <td>5849.0</td>\n",
       "      <td>0.0</td>\n",
       "      <td>134.221053</td>\n",
       "      <td>360.0</td>\n",
       "      <td>1.0</td>\n",
       "      <td>0</td>\n",
       "      <td>1</td>\n",
       "    </tr>\n",
       "    <tr>\n",
       "      <th>1</th>\n",
       "      <td>1003</td>\n",
       "      <td>0.0</td>\n",
       "      <td>1.0</td>\n",
       "      <td>0.0</td>\n",
       "      <td>4583.0</td>\n",
       "      <td>1508.0</td>\n",
       "      <td>128.000000</td>\n",
       "      <td>360.0</td>\n",
       "      <td>1.0</td>\n",
       "      <td>1</td>\n",
       "      <td>0</td>\n",
       "    </tr>\n",
       "    <tr>\n",
       "      <th>2</th>\n",
       "      <td>1005</td>\n",
       "      <td>0.0</td>\n",
       "      <td>1.0</td>\n",
       "      <td>1.0</td>\n",
       "      <td>3000.0</td>\n",
       "      <td>0.0</td>\n",
       "      <td>66.000000</td>\n",
       "      <td>360.0</td>\n",
       "      <td>1.0</td>\n",
       "      <td>0</td>\n",
       "      <td>1</td>\n",
       "    </tr>\n",
       "    <tr>\n",
       "      <th>3</th>\n",
       "      <td>1006</td>\n",
       "      <td>0.0</td>\n",
       "      <td>1.0</td>\n",
       "      <td>0.0</td>\n",
       "      <td>2583.0</td>\n",
       "      <td>2358.0</td>\n",
       "      <td>120.000000</td>\n",
       "      <td>360.0</td>\n",
       "      <td>1.0</td>\n",
       "      <td>0</td>\n",
       "      <td>1</td>\n",
       "    </tr>\n",
       "    <tr>\n",
       "      <th>4</th>\n",
       "      <td>1008</td>\n",
       "      <td>0.0</td>\n",
       "      <td>0.0</td>\n",
       "      <td>0.0</td>\n",
       "      <td>6000.0</td>\n",
       "      <td>0.0</td>\n",
       "      <td>141.000000</td>\n",
       "      <td>360.0</td>\n",
       "      <td>1.0</td>\n",
       "      <td>0</td>\n",
       "      <td>1</td>\n",
       "    </tr>\n",
       "  </tbody>\n",
       "</table>\n",
       "</div>"
      ],
      "text/plain": [
       "   Application_ID  Gender  Married  Self_Employed  ApplicantIncome  \\\n",
       "0            1002     0.0      0.0            0.0           5849.0   \n",
       "1            1003     0.0      1.0            0.0           4583.0   \n",
       "2            1005     0.0      1.0            1.0           3000.0   \n",
       "3            1006     0.0      1.0            0.0           2583.0   \n",
       "4            1008     0.0      0.0            0.0           6000.0   \n",
       "\n",
       "   CoapplicantIncome  LoanAmount  Loan_Amount_Term  Credit_History  \\\n",
       "0                0.0  134.221053             360.0             1.0   \n",
       "1             1508.0  128.000000             360.0             1.0   \n",
       "2                0.0   66.000000             360.0             1.0   \n",
       "3             2358.0  120.000000             360.0             1.0   \n",
       "4                0.0  141.000000             360.0             1.0   \n",
       "\n",
       "   Property_Area  Loan_Status  \n",
       "0              0            1  \n",
       "1              1            0  \n",
       "2              0            1  \n",
       "3              0            1  \n",
       "4              0            1  "
      ]
     },
     "execution_count": 52,
     "metadata": {},
     "output_type": "execute_result"
    }
   ],
   "source": [
    "# print the dataset\n",
    "train.head()"
   ]
  },
  {
   "cell_type": "markdown",
   "metadata": {},
   "source": [
    "### Dealing with outliers"
   ]
  },
  {
   "cell_type": "code",
   "execution_count": 53,
   "metadata": {},
   "outputs": [],
   "source": [
    "# importing modules\n",
    "import numpy as np\n",
    "import pandas as pd"
   ]
  },
  {
   "cell_type": "code",
   "execution_count": 54,
   "metadata": {},
   "outputs": [
    {
     "name": "stdout",
     "output_type": "stream",
     "text": [
      "[71.98133425466267, 65.11949152553099, 105.22613584801529, 78.03633710495286, 58.65789213609525, 59.04841885538673, 66.7890982493099, 65.78074896924582, 86.1102801018681, 72.12911667020347, 64.53139628030739, 64.34173335418868, 72.60245763788299, 74.30267249239577, 75.41657620302502, 90.54086233945968, 93.10800773583018, 80.05488127143042, 69.20869906814977, 92.80522830586276, 75.3150463389514, 83.58974113949903, 82.04983374301915, 69.20384708235265, 65.396745869511, 70.61897849108814, 90.34014565102301, 64.586083893379, 86.73581365446734, 85.8908563003014, 75.18806090635724, 80.41069491519394, 69.15823648271241, 57.69727245474924, 69.6043877751223, 98.10876100978692, 77.27607532983987, 54.53576830544115, 77.78772811551505, 73.45249253870584, 51.46286670302916, 64.50732803506094, 77.43724628783777, 68.25601185034392, 74.53764432791625, 77.59731148907099, 90.38691457133879, 74.22149517301253, 91.40689106498567, 76.18352531650764, 86.41423687779915, 74.96601757218123, 76.1803227416197, 63.49437646629649, 83.30319091644417, 93.56268560634712, 73.41215330943682, 87.0985070143727, 63.05763102611128, 75.60752848979983, 73.62176638317098, 73.04925563800327, 78.94741865825354, 64.61362039788933, 81.73806550662795, 80.5152583543523, 54.84386890555855, 72.93395110639344, 74.2552922660062, 61.02486299069446, 74.98400105532731, 68.04826667597243, 82.22984531367811, 69.22643105757264, 67.12326810130233, 65.78951702606957, 74.55956126416109, 74.41748661817229, 73.82249035607028, 86.60517705384586, 83.89943195737025, 89.33645202963875, 69.24965429951797, 80.31715309719564, 81.08270723223758, 71.40683246677702, 75.70628523305139, 80.90881249828787, 63.58172334819814, 81.67516763641346, 82.60240905988685, 74.68553017249751, 68.47393044747366, 77.62161924977391, 79.22498909049071, 91.59504230384132, 83.45967420244284, 60.814215511215714, 75.68756772962546, 63.26590168942907, 74.29854927892826, 63.281962248144474, 86.34057552554692, 79.67036078735153, 72.66598958664775, 62.84148564474684, 71.85191000909867, 66.85196592481832, 94.25470093260999, 57.5515663140959, 70.02116182999664, 75.21542904133507, 91.07140794276961, 77.4920549223412, 87.6184624043437, 73.62136446189083, 75.80620923305617, 81.12660368320972, 73.0453342907409, 67.81239276942577, 79.3682379123131, 84.31173041546806, 81.96945375404658, 58.44362923507093, 69.54198417775451, 65.93741372252717, 83.88523271367812, 72.95713093047503, 67.70791419689718, 72.3038960515083, 79.80148810720569, 86.93983054315488, 62.69306695203826, 69.4334874602595, 91.68704720227113, 76.26260374189322, 75.68404608493354, 70.74517150219992, 61.339462896607216, 80.79425065153553, 65.66037337752687, 82.23744992752276, 88.98038957040046, 79.56270540260793, 81.60064066137579, 55.59786260826692, 80.10653895884698, 57.767600690995664, 66.14739352161574, 50.166936795281664, 82.28914442045517, 67.10050088778684, 81.55326857776706, 75.04766095710387, 72.19436807526124, 87.3397244062611, 91.65777843634683, 81.45199002461052, 64.60172723924502, 82.96178662160305, 56.954865744286664, 66.67842060691979, 97.23041279280837, 74.54541145518179, 57.092414730816245, 71.39821194614098, 76.62623727583886, 60.26556324773214, 88.46905588185099, 75.49071275737766, 78.89861815476374, 89.63889351836761, 84.66358514340449, 89.01070888728462, 55.13747098749266, 77.80741602671938, 53.96314998841364, 76.20158841629545, 78.12708738905776, 75.04133560465671, 69.37813479594428, 65.17209800911941, 69.9440542432128, 86.20737801891687, 81.5374172009445, 69.99159457762752, 80.61813886412885, 74.06455117037383, 59.86391184497786, 73.24127852021508, 66.13665451327691, 79.6904428318198, 89.22271664960664, 66.95449547189098, 77.05551717797954, 73.45144607334966, 71.16864805304411, 75.50394085441417, 86.89400179163549, 84.48749124109513]\n"
     ]
    }
   ],
   "source": [
    "# copying the dataset\n",
    "mylist=train\n",
    "mylist=list(np.random.normal(loc=75,size=200,scale=10))\n",
    "# printing the dataset\n",
    "print(mylist)"
   ]
  },
  {
   "cell_type": "code",
   "execution_count": 55,
   "metadata": {},
   "outputs": [
    {
     "name": "stdout",
     "output_type": "stream",
     "text": [
      "size :\n",
      " 0       80.187423\n",
      "1       86.431957\n",
      "2       65.534204\n",
      "3       83.778221\n",
      "4       71.182702\n",
      "5       68.593332\n",
      "6       75.804387\n",
      "7       78.865669\n",
      "8       60.791356\n",
      "9       87.165142\n",
      "10      92.891141\n",
      "11      70.243279\n",
      "12      73.914334\n",
      "13      78.116709\n",
      "14      64.899969\n",
      "15      88.771496\n",
      "16      78.598779\n",
      "17      81.061685\n",
      "18      70.135157\n",
      "19      52.876602\n",
      "20      83.759367\n",
      "21      72.791025\n",
      "22      83.872911\n",
      "23     101.626561\n",
      "24      63.916432\n",
      "25      79.566151\n",
      "26      76.243618\n",
      "27      84.951883\n",
      "28      75.353847\n",
      "29      92.321537\n",
      "          ...    \n",
      "170     67.291146\n",
      "171     70.925656\n",
      "172     52.597109\n",
      "173     69.315727\n",
      "174     77.635475\n",
      "175     74.106945\n",
      "176     84.267328\n",
      "177     53.752426\n",
      "178     76.849097\n",
      "179     72.942248\n",
      "180     79.701280\n",
      "181     83.514564\n",
      "182     81.312911\n",
      "183     78.498601\n",
      "184     69.211308\n",
      "185     79.702358\n",
      "186     82.761963\n",
      "187     81.439378\n",
      "188     87.795484\n",
      "189     75.490282\n",
      "190     88.175514\n",
      "191     73.025178\n",
      "192     73.799454\n",
      "193     57.139114\n",
      "194     89.177973\n",
      "195     66.959691\n",
      "196     56.209803\n",
      "197     55.257712\n",
      "198     54.940133\n",
      "199     82.780475\n",
      "Length: 200, dtype: float64\n"
     ]
    }
   ],
   "source": [
    "size=pd.Series(np.random.normal(loc=75,size=200,scale=10))\n",
    "print(\"size :\\n\",size)"
   ]
  },
  {
   "cell_type": "code",
   "execution_count": 56,
   "metadata": {},
   "outputs": [
    {
     "name": "stdout",
     "output_type": "stream",
     "text": [
      "after corruption size:\n",
      " 0      580.187423\n",
      "1      586.431957\n",
      "2      565.534204\n",
      "3       83.778221\n",
      "4       71.182702\n",
      "5       68.593332\n",
      "6       75.804387\n",
      "7       78.865669\n",
      "8       60.791356\n",
      "9       87.165142\n",
      "10      92.891141\n",
      "11      70.243279\n",
      "12      73.914334\n",
      "13      78.116709\n",
      "14      64.899969\n",
      "15      88.771496\n",
      "16      78.598779\n",
      "17      81.061685\n",
      "18      70.135157\n",
      "19      52.876602\n",
      "20      83.759367\n",
      "21      72.791025\n",
      "22      83.872911\n",
      "23     101.626561\n",
      "24      63.916432\n",
      "25      79.566151\n",
      "26      76.243618\n",
      "27      84.951883\n",
      "28      75.353847\n",
      "29      92.321537\n",
      "          ...    \n",
      "170     67.291146\n",
      "171     70.925656\n",
      "172     52.597109\n",
      "173     69.315727\n",
      "174     77.635475\n",
      "175     74.106945\n",
      "176     84.267328\n",
      "177     53.752426\n",
      "178     76.849097\n",
      "179     72.942248\n",
      "180     79.701280\n",
      "181     83.514564\n",
      "182     81.312911\n",
      "183     78.498601\n",
      "184     69.211308\n",
      "185     79.702358\n",
      "186     82.761963\n",
      "187     81.439378\n",
      "188     87.795484\n",
      "189     75.490282\n",
      "190     88.175514\n",
      "191     73.025178\n",
      "192     73.799454\n",
      "193     57.139114\n",
      "194     89.177973\n",
      "195     66.959691\n",
      "196     56.209803\n",
      "197     55.257712\n",
      "198     54.940133\n",
      "199     82.780475\n",
      "Length: 200, dtype: float64\n"
     ]
    }
   ],
   "source": [
    "# corrupt the first 3 measures\n",
    "size[:3]+=500\n",
    "# print the size\n",
    "print(\"after corruption size:\\n\",size)"
   ]
  },
  {
   "cell_type": "code",
   "execution_count": 57,
   "metadata": {},
   "outputs": [
    {
     "name": "stdout",
     "output_type": "stream",
     "text": [
      "mean: 82.2368977067531\n",
      "74.80968325339633\n",
      "0       82.236898\n",
      "1       82.236898\n",
      "2       82.236898\n",
      "3       83.778221\n",
      "4       71.182702\n",
      "5       68.593332\n",
      "6       75.804387\n",
      "7       78.865669\n",
      "8       60.791356\n",
      "9       87.165142\n",
      "10      92.891141\n",
      "11      70.243279\n",
      "12      73.914334\n",
      "13      78.116709\n",
      "14      64.899969\n",
      "15      88.771496\n",
      "16      78.598779\n",
      "17      81.061685\n",
      "18      70.135157\n",
      "19      52.876602\n",
      "20      83.759367\n",
      "21      72.791025\n",
      "22      83.872911\n",
      "23     101.626561\n",
      "24      63.916432\n",
      "25      79.566151\n",
      "26      76.243618\n",
      "27      84.951883\n",
      "28      75.353847\n",
      "29      92.321537\n",
      "          ...    \n",
      "170     67.291146\n",
      "171     70.925656\n",
      "172     52.597109\n",
      "173     69.315727\n",
      "174     77.635475\n",
      "175     74.106945\n",
      "176     84.267328\n",
      "177     53.752426\n",
      "178     76.849097\n",
      "179     72.942248\n",
      "180     79.701280\n",
      "181     83.514564\n",
      "182     81.312911\n",
      "183     78.498601\n",
      "184     69.211308\n",
      "185     79.702358\n",
      "186     82.761963\n",
      "187     81.439378\n",
      "188     87.795484\n",
      "189     75.490282\n",
      "190     88.175514\n",
      "191     73.025178\n",
      "192     73.799454\n",
      "193     57.139114\n",
      "194     89.177973\n",
      "195     66.959691\n",
      "196     56.209803\n",
      "197     55.257712\n",
      "198     54.940133\n",
      "199     82.780475\n",
      "Length: 200, dtype: float64\n"
     ]
    }
   ],
   "source": [
    "# assume random variables follow the b\\normal distribution exclude data\n",
    "# outside 3 times of the standard- deviations\n",
    "size_outlr_mean=size.copy()\n",
    "# print the value\n",
    "print(\"mean:\",size_outlr_mean.mean())\n",
    "size_outlr_mean[((size-size.mean()).abs()>3*size.std())]=size.mean()\n",
    "# print the values\n",
    "print(size_outlr_mean.mean())\n",
    "print(size_outlr_mean)"
   ]
  },
  {
   "cell_type": "markdown",
   "metadata": {},
   "source": [
    "#### To Check Null Values"
   ]
  },
  {
   "cell_type": "code",
   "execution_count": 58,
   "metadata": {},
   "outputs": [
    {
     "name": "stdout",
     "output_type": "stream",
     "text": [
      "<class 'pandas.core.frame.DataFrame'>\n",
      "RangeIndex: 100 entries, 0 to 99\n",
      "Data columns (total 11 columns):\n",
      "Application_ID       100 non-null int64\n",
      "Gender               100 non-null float64\n",
      "Married              100 non-null float64\n",
      "Self_Employed        100 non-null float64\n",
      "ApplicantIncome      100 non-null float64\n",
      "CoapplicantIncome    100 non-null float64\n",
      "LoanAmount           100 non-null float64\n",
      "Loan_Amount_Term     100 non-null float64\n",
      "Credit_History       100 non-null float64\n",
      "Property_Area        100 non-null int64\n",
      "Loan_Status          100 non-null int64\n",
      "dtypes: float64(8), int64(3)\n",
      "memory usage: 8.7 KB\n"
     ]
    }
   ],
   "source": [
    "# To check that no null value is present in the dataset\n",
    "train.info()"
   ]
  },
  {
   "cell_type": "code",
   "execution_count": 59,
   "metadata": {},
   "outputs": [
    {
     "name": "stdout",
     "output_type": "stream",
     "text": [
      "<class 'pandas.core.frame.DataFrame'>\n",
      "RangeIndex: 514 entries, 0 to 513\n",
      "Data columns (total 10 columns):\n",
      "Application_ID       514 non-null int64\n",
      "Gender               514 non-null float64\n",
      "Married              514 non-null float64\n",
      "Self_Employed        514 non-null float64\n",
      "ApplicantIncome      514 non-null int64\n",
      "CoapplicantIncome    514 non-null float64\n",
      "LoanAmount           514 non-null float64\n",
      "Loan_Amount_Term     514 non-null float64\n",
      "Credit_History       514 non-null float64\n",
      "Property_Area        514 non-null int64\n",
      "dtypes: float64(7), int64(3)\n",
      "memory usage: 40.2 KB\n"
     ]
    }
   ],
   "source": [
    "# To check that no null value is present in the dataset\n",
    "test.info()"
   ]
  },
  {
   "cell_type": "markdown",
   "metadata": {},
   "source": [
    "### Representing the data in differnt forms"
   ]
  },
  {
   "cell_type": "markdown",
   "metadata": {},
   "source": [
    "#### This representation is of train datasets"
   ]
  },
  {
   "cell_type": "code",
   "execution_count": 60,
   "metadata": {},
   "outputs": [
    {
     "data": {
      "text/plain": [
       "0.000000    84\n",
       "1.000000    15\n",
       "0.151515     1\n",
       "Name: Gender, dtype: int64"
      ]
     },
     "execution_count": 60,
     "metadata": {},
     "output_type": "execute_result"
    },
    {
     "data": {
      "image/png": "[encoded data removed]",
      "text/plain": [
       "<Figure size 432x288 with 1 Axes>"
      ]
     },
     "metadata": {},
     "output_type": "display_data"
    }
   ],
   "source": [
    "sns.set_style('whitegrid')\n",
    "sns.countplot(x='Gender',data=train,palette='RdBu_r')\n",
    "train[\"Gender\"].value_counts()\n",
    "# this countplot represents the value_counts() of the gender column\n",
    "# here, 0 represents no. of males\n",
    "# and, 1 represents no. of females"
   ]
  },
  {
   "cell_type": "code",
   "execution_count": 61,
   "metadata": {},
   "outputs": [
    {
     "data": {
      "text/plain": [
       "1.0    69\n",
       "0.0    31\n",
       "Name: Married, dtype: int64"
      ]
     },
     "execution_count": 61,
     "metadata": {},
     "output_type": "execute_result"
    },
    {
     "data": {
      "image/png": "[encoded data removed]",
      "text/plain": [
       "<Figure size 432x288 with 1 Axes>"
      ]
     },
     "metadata": {},
     "output_type": "display_data"
    }
   ],
   "source": [
    "sns.set_style('whitegrid')\n",
    "sns.countplot(x='Gender',hue='Married',data=train,palette='RdBu_r')\n",
    "train[\"Married\"].value_counts()\n",
    "# this countplot represents the value_counts() of the gender column on the basis of married status\n",
    "# here, 0 represents no. of males and, 1 represents no. of females\n",
    "# here, 1 represents no. of married persons and 0 represents no. of unmarried persons"
   ]
  },
  {
   "cell_type": "code",
   "execution_count": 62,
   "metadata": {},
   "outputs": [
    {
     "data": {
      "text/plain": [
       "0.000000    81\n",
       "1.000000    13\n",
       "0.138298     6\n",
       "Name: Self_Employed, dtype: int64"
      ]
     },
     "execution_count": 62,
     "metadata": {},
     "output_type": "execute_result"
    },
    {
     "data": {
      "image/png": "[encoded data removed]",
      "text/plain": [
       "<Figure size 432x288 with 1 Axes>"
      ]
     },
     "metadata": {},
     "output_type": "display_data"
    }
   ],
   "source": [
    "sns.set_style('whitegrid')\n",
    "sns.countplot(x='Gender',hue='Self_Employed',data=train,palette='rainbow')\n",
    "train[\"Self_Employed\"].value_counts()\n",
    "# this countplot represents the value_counts() of the gender column on the basis of employement status\n",
    "# here, 0 represents no. of males ,and, 1 represents no. of females\n",
    "# here, 0 means not employed ,and, 1 means employed"
   ]
  },
  {
   "cell_type": "code",
   "execution_count": 63,
   "metadata": {},
   "outputs": [
    {
     "data": {
      "text/plain": [
       "<matplotlib.axes._subplots.AxesSubplot at 0x1ba0046ed30>"
      ]
     },
     "execution_count": 63,
     "metadata": {},
     "output_type": "execute_result"
    },
    {
     "data": {
      "image/png": "[encoded data removed]",
      "text/plain": [
       "<Figure size 432x288 with 1 Axes>"
      ]
     },
     "metadata": {},
     "output_type": "display_data"
    }
   ],
   "source": [
    "sns.distplot(train['ApplicantIncome'],kde=False,color='darkred',bins=30)\n",
    "# kde : bool, optional, whether to plot a gaussian kernel density estimate.\n",
    "# bins denotes number of class intervals\n",
    "# the graph represents the heighest income of the applicant on whose basis the loan should be granted."
   ]
  },
  {
   "cell_type": "code",
   "execution_count": 64,
   "metadata": {},
   "outputs": [
    {
     "data": {
      "text/plain": [
       "<matplotlib.axes._subplots.AxesSubplot at 0x1ba004fc518>"
      ]
     },
     "execution_count": 64,
     "metadata": {},
     "output_type": "execute_result"
    },
    {
     "data": {
      "image/png": "[encoded data removed]",
      "text/plain": [
       "<Figure size 432x288 with 1 Axes>"
      ]
     },
     "metadata": {},
     "output_type": "display_data"
    }
   ],
   "source": [
    "sns.distplot(train['ApplicantIncome'],kde=True,color='darkred',bins=30)\n",
    "# kde : bool, optional, whether to plot a gaussian kernel density estimate.\n",
    "# bins denotes number of class intervals\n",
    "# here the curve denotes the heighest value"
   ]
  },
  {
   "cell_type": "code",
   "execution_count": 65,
   "metadata": {},
   "outputs": [
    {
     "data": {
      "text/plain": [
       "<matplotlib.axes._subplots.AxesSubplot at 0x1ba005b5a58>"
      ]
     },
     "execution_count": 65,
     "metadata": {},
     "output_type": "execute_result"
    },
    {
     "data": {
      "image/png": "[encoded data removed]",
      "text/plain": [
       "<Figure size 432x288 with 1 Axes>"
      ]
     },
     "metadata": {},
     "output_type": "display_data"
    }
   ],
   "source": [
    "sns.countplot(x='Loan_Amount_Term',data=train)\n",
    "# this graph represents the no. of days for which the loan can be granted"
   ]
  },
  {
   "cell_type": "code",
   "execution_count": 66,
   "metadata": {},
   "outputs": [
    {
     "data": {
      "text/plain": [
       "<matplotlib.axes._subplots.AxesSubplot at 0x1ba0063a9b0>"
      ]
     },
     "execution_count": 66,
     "metadata": {},
     "output_type": "execute_result"
    },
    {
     "data": {
      "image/png": "[encoded data removed]",
      "text/plain": [
       "<Figure size 576x288 with 1 Axes>"
      ]
     },
     "metadata": {},
     "output_type": "display_data"
    }
   ],
   "source": [
    "train[\"CoapplicantIncome\"].hist(color='green',bins=40,figsize=(8,4))\n",
    "# the histogram represents the income of the guaranter of the applicant of the loan"
   ]
  },
  {
   "cell_type": "code",
   "execution_count": 67,
   "metadata": {},
   "outputs": [],
   "source": [
    "# importing modules\n",
    "import matplotlib.pyplot as plt\n",
    "%matplotlib inline"
   ]
  },
  {
   "cell_type": "code",
   "execution_count": 68,
   "metadata": {},
   "outputs": [
    {
     "data": {
      "text/plain": [
       "<matplotlib.axes._subplots.AxesSubplot at 0x1ba00159e48>"
      ]
     },
     "execution_count": 68,
     "metadata": {},
     "output_type": "execute_result"
    },
    {
     "data": {
      "image/png": "[encoded data removed]",
      "text/plain": [
       "<Figure size 864x504 with 1 Axes>"
      ]
     },
     "metadata": {
      "needs_background": "light"
     },
     "output_type": "display_data"
    }
   ],
   "source": [
    "plt.figure(figsize=(12,7))\n",
    "sns.boxplot(x='Self_Employed',y='LoanAmount',data=train,palette='winter')\n",
    "# the boxplot plot represents the employement status and the loan amount\n",
    "# 5 point plot is shown here ( min, 25% ( or Q1 ), 50% ( or Q2 or median), 75% ( or Q3), and, max)"
   ]
  },
  {
   "cell_type": "code",
   "execution_count": 69,
   "metadata": {},
   "outputs": [
    {
     "data": {
      "text/html": [
       "<div>\n",
       "<style scoped>\n",
       "    .dataframe tbody tr th:only-of-type {\n",
       "        vertical-align: middle;\n",
       "    }\n",
       "\n",
       "    .dataframe tbody tr th {\n",
       "        vertical-align: top;\n",
       "    }\n",
       "\n",
       "    .dataframe thead th {\n",
       "        text-align: right;\n",
       "    }\n",
       "</style>\n",
       "<table border=\"1\" class=\"dataframe\">\n",
       "  <thead>\n",
       "    <tr style=\"text-align: right;\">\n",
       "      <th></th>\n",
       "      <th>Application_ID</th>\n",
       "      <th>Gender</th>\n",
       "      <th>Married</th>\n",
       "      <th>Self_Employed</th>\n",
       "      <th>ApplicantIncome</th>\n",
       "      <th>CoapplicantIncome</th>\n",
       "      <th>LoanAmount</th>\n",
       "      <th>Loan_Amount_Term</th>\n",
       "      <th>Credit_History</th>\n",
       "      <th>Property_Area</th>\n",
       "      <th>Loan_Status</th>\n",
       "    </tr>\n",
       "  </thead>\n",
       "  <tbody>\n",
       "    <tr>\n",
       "      <th>0</th>\n",
       "      <td>1002</td>\n",
       "      <td>0.0</td>\n",
       "      <td>0.0</td>\n",
       "      <td>0.0</td>\n",
       "      <td>5849.0</td>\n",
       "      <td>0.0</td>\n",
       "      <td>134.221053</td>\n",
       "      <td>360.0</td>\n",
       "      <td>1.0</td>\n",
       "      <td>0</td>\n",
       "      <td>1</td>\n",
       "    </tr>\n",
       "    <tr>\n",
       "      <th>1</th>\n",
       "      <td>1003</td>\n",
       "      <td>0.0</td>\n",
       "      <td>1.0</td>\n",
       "      <td>0.0</td>\n",
       "      <td>4583.0</td>\n",
       "      <td>1508.0</td>\n",
       "      <td>128.000000</td>\n",
       "      <td>360.0</td>\n",
       "      <td>1.0</td>\n",
       "      <td>1</td>\n",
       "      <td>0</td>\n",
       "    </tr>\n",
       "    <tr>\n",
       "      <th>2</th>\n",
       "      <td>1005</td>\n",
       "      <td>0.0</td>\n",
       "      <td>1.0</td>\n",
       "      <td>1.0</td>\n",
       "      <td>3000.0</td>\n",
       "      <td>0.0</td>\n",
       "      <td>66.000000</td>\n",
       "      <td>360.0</td>\n",
       "      <td>1.0</td>\n",
       "      <td>0</td>\n",
       "      <td>1</td>\n",
       "    </tr>\n",
       "    <tr>\n",
       "      <th>3</th>\n",
       "      <td>1006</td>\n",
       "      <td>0.0</td>\n",
       "      <td>1.0</td>\n",
       "      <td>0.0</td>\n",
       "      <td>2583.0</td>\n",
       "      <td>2358.0</td>\n",
       "      <td>120.000000</td>\n",
       "      <td>360.0</td>\n",
       "      <td>1.0</td>\n",
       "      <td>0</td>\n",
       "      <td>1</td>\n",
       "    </tr>\n",
       "    <tr>\n",
       "      <th>4</th>\n",
       "      <td>1008</td>\n",
       "      <td>0.0</td>\n",
       "      <td>0.0</td>\n",
       "      <td>0.0</td>\n",
       "      <td>6000.0</td>\n",
       "      <td>0.0</td>\n",
       "      <td>141.000000</td>\n",
       "      <td>360.0</td>\n",
       "      <td>1.0</td>\n",
       "      <td>0</td>\n",
       "      <td>1</td>\n",
       "    </tr>\n",
       "  </tbody>\n",
       "</table>\n",
       "</div>"
      ],
      "text/plain": [
       "   Application_ID  Gender  Married  Self_Employed  ApplicantIncome  \\\n",
       "0            1002     0.0      0.0            0.0           5849.0   \n",
       "1            1003     0.0      1.0            0.0           4583.0   \n",
       "2            1005     0.0      1.0            1.0           3000.0   \n",
       "3            1006     0.0      1.0            0.0           2583.0   \n",
       "4            1008     0.0      0.0            0.0           6000.0   \n",
       "\n",
       "   CoapplicantIncome  LoanAmount  Loan_Amount_Term  Credit_History  \\\n",
       "0                0.0  134.221053             360.0             1.0   \n",
       "1             1508.0  128.000000             360.0             1.0   \n",
       "2                0.0   66.000000             360.0             1.0   \n",
       "3             2358.0  120.000000             360.0             1.0   \n",
       "4                0.0  141.000000             360.0             1.0   \n",
       "\n",
       "   Property_Area  Loan_Status  \n",
       "0              0            1  \n",
       "1              1            0  \n",
       "2              0            1  \n",
       "3              0            1  \n",
       "4              0            1  "
      ]
     },
     "execution_count": 69,
     "metadata": {},
     "output_type": "execute_result"
    }
   ],
   "source": [
    "# print the dataset\n",
    "train.head()"
   ]
  },
  {
   "cell_type": "code",
   "execution_count": 70,
   "metadata": {},
   "outputs": [
    {
     "data": {
      "text/plain": [
       "<matplotlib.axes._subplots.AxesSubplot at 0x1ba003faa58>"
      ]
     },
     "execution_count": 70,
     "metadata": {},
     "output_type": "execute_result"
    },
    {
     "data": {
      "image/png": "[encoded data removed]",
      "text/plain": [
       "<Figure size 432x288 with 2 Axes>"
      ]
     },
     "metadata": {
      "needs_background": "light"
     },
     "output_type": "display_data"
    }
   ],
   "source": [
    "# the heatmap with no null values \n",
    "sns.heatmap(train.isnull(),yticklabels=False,cbar=True,cmap='viridis')"
   ]
  },
  {
   "cell_type": "markdown",
   "metadata": {},
   "source": [
    "#### This representation is of test datasets"
   ]
  },
  {
   "cell_type": "code",
   "execution_count": 71,
   "metadata": {},
   "outputs": [
    {
     "data": {
      "text/plain": [
       "<matplotlib.axes._subplots.AxesSubplot at 0x1ba00328710>"
      ]
     },
     "execution_count": 71,
     "metadata": {},
     "output_type": "execute_result"
    },
    {
     "data": {
      "image/png": "[encoded data removed]",
      "text/plain": [
       "<Figure size 864x504 with 1 Axes>"
      ]
     },
     "metadata": {
      "needs_background": "light"
     },
     "output_type": "display_data"
    }
   ],
   "source": [
    "plt.figure(figsize=(12,7))\n",
    "sns.boxplot(x='Self_Employed',y='LoanAmount',data=test,palette='winter')\n",
    "# the boxplot plot represents the employement status and the loan amount\n",
    "# 5 point plot is shown here ( min, 25% ( or Q1 ), 50% ( or Q2 or median), 75% ( or Q3), and, max)"
   ]
  },
  {
   "cell_type": "code",
   "execution_count": 72,
   "metadata": {},
   "outputs": [
    {
     "data": {
      "text/plain": [
       "0.000000    405\n",
       "1.000000     97\n",
       "0.193227     12\n",
       "Name: Gender, dtype: int64"
      ]
     },
     "execution_count": 72,
     "metadata": {},
     "output_type": "execute_result"
    },
    {
     "data": {
      "image/png": "[encoded data removed]",
      "text/plain": [
       "<Figure size 432x288 with 1 Axes>"
      ]
     },
     "metadata": {},
     "output_type": "display_data"
    }
   ],
   "source": [
    "sns.set_style('whitegrid')\n",
    "sns.countplot(x='Gender',data=test,palette='RdBu_r')\n",
    "test[\"Gender\"].value_counts()\n",
    "# this countplot represents the value_counts() of the gender column\n",
    "# here, 0 represents no. of males\n",
    "# and, 1 represents no. of females"
   ]
  },
  {
   "cell_type": "code",
   "execution_count": 73,
   "metadata": {},
   "outputs": [
    {
     "data": {
      "text/plain": [
       "1.000000    329\n",
       "0.000000    182\n",
       "0.643836      3\n",
       "Name: Married, dtype: int64"
      ]
     },
     "execution_count": 73,
     "metadata": {},
     "output_type": "execute_result"
    },
    {
     "data": {
      "image/png": "[encoded data removed]",
      "text/plain": [
       "<Figure size 432x288 with 1 Axes>"
      ]
     },
     "metadata": {},
     "output_type": "display_data"
    }
   ],
   "source": [
    "sns.set_style('whitegrid')\n",
    "sns.countplot(x='Gender',hue='Married',data=test,palette='RdBu_r')\n",
    "test[\"Married\"].value_counts()\n",
    "# this countplot represents the value_counts() of the gender column on the basis of married status\n",
    "# here, 0 represents no. of males and, 1 represents no. of females\n",
    "# here, 1 represents no. of married persons and 0 represents no. of unmarried persons"
   ]
  },
  {
   "cell_type": "code",
   "execution_count": 74,
   "metadata": {},
   "outputs": [
    {
     "data": {
      "text/plain": [
       "0.000000    419\n",
       "1.000000     69\n",
       "0.141393     26\n",
       "Name: Self_Employed, dtype: int64"
      ]
     },
     "execution_count": 74,
     "metadata": {},
     "output_type": "execute_result"
    },
    {
     "data": {
      "image/png": "[encoded data removed]",
      "text/plain": [
       "<Figure size 432x288 with 1 Axes>"
      ]
     },
     "metadata": {},
     "output_type": "display_data"
    }
   ],
   "source": [
    "sns.set_style('whitegrid')\n",
    "sns.countplot(x='Gender',hue='Self_Employed',data=test,palette='rainbow')\n",
    "test[\"Self_Employed\"].value_counts()\n",
    "# this countplot represents the value_counts() of the gender column on the basis of employement status\n",
    "# here, 0 represents no. of males ,and, 1 represents no. of females\n",
    "# here, 0 means not employed ,and, 1 means employed"
   ]
  },
  {
   "cell_type": "code",
   "execution_count": 75,
   "metadata": {},
   "outputs": [
    {
     "data": {
      "text/plain": [
       "<matplotlib.axes._subplots.AxesSubplot at 0x1ba00b0c908>"
      ]
     },
     "execution_count": 75,
     "metadata": {},
     "output_type": "execute_result"
    },
    {
     "data": {
      "image/png": "[encoded data removed]",
      "text/plain": [
       "<Figure size 432x288 with 1 Axes>"
      ]
     },
     "metadata": {},
     "output_type": "display_data"
    }
   ],
   "source": [
    "sns.distplot(test['ApplicantIncome'],kde=False,color='darkred',bins=30)\n",
    "# kde : bool, optional, whether to plot a gaussian kernel density estimate.\n",
    "# bins denotes number of class intervals\n",
    "# the graph represents the heighest income of the applicant on whose basis the loan should be granted."
   ]
  },
  {
   "cell_type": "code",
   "execution_count": 76,
   "metadata": {},
   "outputs": [
    {
     "data": {
      "text/plain": [
       "<matplotlib.axes._subplots.AxesSubplot at 0x1ba00bb5128>"
      ]
     },
     "execution_count": 76,
     "metadata": {},
     "output_type": "execute_result"
    },
    {
     "data": {
      "image/png": "[encoded data removed]",
      "text/plain": [
       "<Figure size 432x288 with 1 Axes>"
      ]
     },
     "metadata": {},
     "output_type": "display_data"
    }
   ],
   "source": [
    "sns.distplot(test['ApplicantIncome'],kde=True,color='darkred',bins=30)\n",
    "# kde : bool, optional, whether to plot a gaussian kernel density estimate.\n",
    "# bins denotes number of class intervals\n",
    "# here the curve denotes the heighest value"
   ]
  },
  {
   "cell_type": "code",
   "execution_count": 77,
   "metadata": {},
   "outputs": [
    {
     "data": {
      "text/plain": [
       "<matplotlib.axes._subplots.AxesSubplot at 0x1ba00bb5908>"
      ]
     },
     "execution_count": 77,
     "metadata": {},
     "output_type": "execute_result"
    },
    {
     "data": {
      "image/png": "[encoded data removed]",
      "text/plain": [
       "<Figure size 432x288 with 1 Axes>"
      ]
     },
     "metadata": {},
     "output_type": "display_data"
    }
   ],
   "source": [
    "sns.countplot(x='Loan_Amount_Term',data=test)\n",
    "# this graph represents the no. of days for which the loan can be granted"
   ]
  },
  {
   "cell_type": "code",
   "execution_count": 78,
   "metadata": {},
   "outputs": [
    {
     "data": {
      "text/plain": [
       "<matplotlib.axes._subplots.AxesSubplot at 0x1ba01c825f8>"
      ]
     },
     "execution_count": 78,
     "metadata": {},
     "output_type": "execute_result"
    },
    {
     "data": {
      "image/png": "[encoded data removed]",
      "text/plain": [
       "<Figure size 576x288 with 1 Axes>"
      ]
     },
     "metadata": {},
     "output_type": "display_data"
    }
   ],
   "source": [
    "test[\"CoapplicantIncome\"].hist(color='green',bins=40,figsize=(8,4))\n",
    "# the histogram represents the income of the guaranter of the applicant of the loan"
   ]
  },
  {
   "cell_type": "code",
   "execution_count": 79,
   "metadata": {},
   "outputs": [
    {
     "data": {
      "text/html": [
       "<div>\n",
       "<style scoped>\n",
       "    .dataframe tbody tr th:only-of-type {\n",
       "        vertical-align: middle;\n",
       "    }\n",
       "\n",
       "    .dataframe tbody tr th {\n",
       "        vertical-align: top;\n",
       "    }\n",
       "\n",
       "    .dataframe thead th {\n",
       "        text-align: right;\n",
       "    }\n",
       "</style>\n",
       "<table border=\"1\" class=\"dataframe\">\n",
       "  <thead>\n",
       "    <tr style=\"text-align: right;\">\n",
       "      <th></th>\n",
       "      <th>Application_ID</th>\n",
       "      <th>Gender</th>\n",
       "      <th>Married</th>\n",
       "      <th>Self_Employed</th>\n",
       "      <th>ApplicantIncome</th>\n",
       "      <th>CoapplicantIncome</th>\n",
       "      <th>LoanAmount</th>\n",
       "      <th>Loan_Amount_Term</th>\n",
       "      <th>Credit_History</th>\n",
       "      <th>Property_Area</th>\n",
       "    </tr>\n",
       "  </thead>\n",
       "  <tbody>\n",
       "    <tr>\n",
       "      <th>0</th>\n",
       "      <td>1345</td>\n",
       "      <td>0.0</td>\n",
       "      <td>1.000000</td>\n",
       "      <td>0.0</td>\n",
       "      <td>4288</td>\n",
       "      <td>3263.0</td>\n",
       "      <td>133.000000</td>\n",
       "      <td>180.0</td>\n",
       "      <td>1.0</td>\n",
       "      <td>0</td>\n",
       "    </tr>\n",
       "    <tr>\n",
       "      <th>1</th>\n",
       "      <td>1349</td>\n",
       "      <td>0.0</td>\n",
       "      <td>0.000000</td>\n",
       "      <td>0.0</td>\n",
       "      <td>4843</td>\n",
       "      <td>3806.0</td>\n",
       "      <td>151.000000</td>\n",
       "      <td>360.0</td>\n",
       "      <td>1.0</td>\n",
       "      <td>2</td>\n",
       "    </tr>\n",
       "    <tr>\n",
       "      <th>2</th>\n",
       "      <td>1350</td>\n",
       "      <td>0.0</td>\n",
       "      <td>1.000000</td>\n",
       "      <td>0.0</td>\n",
       "      <td>13650</td>\n",
       "      <td>0.0</td>\n",
       "      <td>148.742455</td>\n",
       "      <td>360.0</td>\n",
       "      <td>1.0</td>\n",
       "      <td>0</td>\n",
       "    </tr>\n",
       "    <tr>\n",
       "      <th>3</th>\n",
       "      <td>1356</td>\n",
       "      <td>0.0</td>\n",
       "      <td>1.000000</td>\n",
       "      <td>0.0</td>\n",
       "      <td>4652</td>\n",
       "      <td>3583.0</td>\n",
       "      <td>148.742455</td>\n",
       "      <td>360.0</td>\n",
       "      <td>1.0</td>\n",
       "      <td>2</td>\n",
       "    </tr>\n",
       "    <tr>\n",
       "      <th>4</th>\n",
       "      <td>1357</td>\n",
       "      <td>0.0</td>\n",
       "      <td>0.643836</td>\n",
       "      <td>0.0</td>\n",
       "      <td>3816</td>\n",
       "      <td>754.0</td>\n",
       "      <td>160.000000</td>\n",
       "      <td>360.0</td>\n",
       "      <td>1.0</td>\n",
       "      <td>0</td>\n",
       "    </tr>\n",
       "  </tbody>\n",
       "</table>\n",
       "</div>"
      ],
      "text/plain": [
       "   Application_ID  Gender   Married  Self_Employed  ApplicantIncome  \\\n",
       "0            1345     0.0  1.000000            0.0             4288   \n",
       "1            1349     0.0  0.000000            0.0             4843   \n",
       "2            1350     0.0  1.000000            0.0            13650   \n",
       "3            1356     0.0  1.000000            0.0             4652   \n",
       "4            1357     0.0  0.643836            0.0             3816   \n",
       "\n",
       "   CoapplicantIncome  LoanAmount  Loan_Amount_Term  Credit_History  \\\n",
       "0             3263.0  133.000000             180.0             1.0   \n",
       "1             3806.0  151.000000             360.0             1.0   \n",
       "2                0.0  148.742455             360.0             1.0   \n",
       "3             3583.0  148.742455             360.0             1.0   \n",
       "4              754.0  160.000000             360.0             1.0   \n",
       "\n",
       "   Property_Area  \n",
       "0              0  \n",
       "1              2  \n",
       "2              0  \n",
       "3              2  \n",
       "4              0  "
      ]
     },
     "execution_count": 79,
     "metadata": {},
     "output_type": "execute_result"
    }
   ],
   "source": [
    "# print the dataset\n",
    "test.head()"
   ]
  },
  {
   "cell_type": "code",
   "execution_count": 80,
   "metadata": {},
   "outputs": [
    {
     "data": {
      "text/plain": [
       "<matplotlib.axes._subplots.AxesSubplot at 0x1ba01d1eb00>"
      ]
     },
     "execution_count": 80,
     "metadata": {},
     "output_type": "execute_result"
    },
    {
     "data": {
      "image/png": "[encoded data removed]",
      "text/plain": [
       "<Figure size 432x288 with 2 Axes>"
      ]
     },
     "metadata": {},
     "output_type": "display_data"
    }
   ],
   "source": [
    "# the heatmap with no null values\n",
    "sns.heatmap(test.isnull(),yticklabels=False,cbar=True,cmap='viridis')"
   ]
  },
  {
   "cell_type": "raw",
   "metadata": {},
   "source": [
    "The cleaning and preprocessing of data is completed ,so now we can implement the required models in our datasets.\n",
    "Create 4 different types of models from the data - Decision Trees, Linear Regression, Native Bayes and K-NN  based on the training data set"
   ]
  },
  {
   "cell_type": "markdown",
   "metadata": {},
   "source": [
    "### FOUR MODEL IMPLEMENTATION"
   ]
  },
  {
   "cell_type": "markdown",
   "metadata": {},
   "source": [
    "### Naive Bayes Classifier"
   ]
  },
  {
   "cell_type": "raw",
   "metadata": {},
   "source": [
    "Navie bayes is simple classifier known for doing well when only a small number of observations are available. In this case study, we will create a gaussian naive bayes classifier from the scratch and use it to predict the class of a previously unseen data point."
   ]
  },
  {
   "cell_type": "markdown",
   "metadata": {},
   "source": [
    "#### Random Forest Classifier"
   ]
  },
  {
   "cell_type": "code",
   "execution_count": 81,
   "metadata": {},
   "outputs": [],
   "source": [
    "# loading the required modules and datasets \n",
    "import pandas as pd \n",
    "import numpy as np\n",
    "# load scikit's random forest classifier library\n",
    "from sklearn.ensemble import RandomForestClassifier"
   ]
  },
  {
   "cell_type": "code",
   "execution_count": 82,
   "metadata": {},
   "outputs": [
    {
     "data": {
      "text/plain": [
       "Index(['Application_ID', 'Gender', 'Married', 'Self_Employed',\n",
       "       'ApplicantIncome', 'CoapplicantIncome', 'LoanAmount',\n",
       "       'Loan_Amount_Term', 'Credit_History', 'Property_Area', 'Loan_Status'],\n",
       "      dtype='object')"
      ]
     },
     "execution_count": 82,
     "metadata": {},
     "output_type": "execute_result"
    }
   ],
   "source": [
    "# check the columns head's\n",
    "train.columns"
   ]
  },
  {
   "cell_type": "code",
   "execution_count": 83,
   "metadata": {},
   "outputs": [
    {
     "data": {
      "text/plain": [
       "Index(['Application_ID', 'Gender', 'Married', 'Self_Employed',\n",
       "       'ApplicantIncome', 'CoapplicantIncome', 'LoanAmount',\n",
       "       'Loan_Amount_Term', 'Credit_History', 'Property_Area'],\n",
       "      dtype='object')"
      ]
     },
     "execution_count": 83,
     "metadata": {},
     "output_type": "execute_result"
    }
   ],
   "source": [
    "# create a list of feature column's names\n",
    "features=train.columns[0:10]\n",
    "# view the features\n",
    "features"
   ]
  },
  {
   "cell_type": "code",
   "execution_count": 84,
   "metadata": {},
   "outputs": [
    {
     "data": {
      "text/html": [
       "<div>\n",
       "<style scoped>\n",
       "    .dataframe tbody tr th:only-of-type {\n",
       "        vertical-align: middle;\n",
       "    }\n",
       "\n",
       "    .dataframe tbody tr th {\n",
       "        vertical-align: top;\n",
       "    }\n",
       "\n",
       "    .dataframe thead th {\n",
       "        text-align: right;\n",
       "    }\n",
       "</style>\n",
       "<table border=\"1\" class=\"dataframe\">\n",
       "  <thead>\n",
       "    <tr style=\"text-align: right;\">\n",
       "      <th></th>\n",
       "      <th>Application_ID</th>\n",
       "      <th>Gender</th>\n",
       "      <th>Married</th>\n",
       "      <th>Self_Employed</th>\n",
       "      <th>ApplicantIncome</th>\n",
       "      <th>CoapplicantIncome</th>\n",
       "      <th>LoanAmount</th>\n",
       "      <th>Loan_Amount_Term</th>\n",
       "      <th>Credit_History</th>\n",
       "      <th>Property_Area</th>\n",
       "      <th>Loan_Status</th>\n",
       "    </tr>\n",
       "  </thead>\n",
       "  <tbody>\n",
       "    <tr>\n",
       "      <th>0</th>\n",
       "      <td>1002</td>\n",
       "      <td>0.0</td>\n",
       "      <td>0.0</td>\n",
       "      <td>0.0</td>\n",
       "      <td>5849.0</td>\n",
       "      <td>0.0</td>\n",
       "      <td>134.221053</td>\n",
       "      <td>360.0</td>\n",
       "      <td>1.0</td>\n",
       "      <td>0</td>\n",
       "      <td>1</td>\n",
       "    </tr>\n",
       "    <tr>\n",
       "      <th>1</th>\n",
       "      <td>1003</td>\n",
       "      <td>0.0</td>\n",
       "      <td>1.0</td>\n",
       "      <td>0.0</td>\n",
       "      <td>4583.0</td>\n",
       "      <td>1508.0</td>\n",
       "      <td>128.000000</td>\n",
       "      <td>360.0</td>\n",
       "      <td>1.0</td>\n",
       "      <td>1</td>\n",
       "      <td>0</td>\n",
       "    </tr>\n",
       "    <tr>\n",
       "      <th>2</th>\n",
       "      <td>1005</td>\n",
       "      <td>0.0</td>\n",
       "      <td>1.0</td>\n",
       "      <td>1.0</td>\n",
       "      <td>3000.0</td>\n",
       "      <td>0.0</td>\n",
       "      <td>66.000000</td>\n",
       "      <td>360.0</td>\n",
       "      <td>1.0</td>\n",
       "      <td>0</td>\n",
       "      <td>1</td>\n",
       "    </tr>\n",
       "    <tr>\n",
       "      <th>3</th>\n",
       "      <td>1006</td>\n",
       "      <td>0.0</td>\n",
       "      <td>1.0</td>\n",
       "      <td>0.0</td>\n",
       "      <td>2583.0</td>\n",
       "      <td>2358.0</td>\n",
       "      <td>120.000000</td>\n",
       "      <td>360.0</td>\n",
       "      <td>1.0</td>\n",
       "      <td>0</td>\n",
       "      <td>1</td>\n",
       "    </tr>\n",
       "    <tr>\n",
       "      <th>4</th>\n",
       "      <td>1008</td>\n",
       "      <td>0.0</td>\n",
       "      <td>0.0</td>\n",
       "      <td>0.0</td>\n",
       "      <td>6000.0</td>\n",
       "      <td>0.0</td>\n",
       "      <td>141.000000</td>\n",
       "      <td>360.0</td>\n",
       "      <td>1.0</td>\n",
       "      <td>0</td>\n",
       "      <td>1</td>\n",
       "    </tr>\n",
       "  </tbody>\n",
       "</table>\n",
       "</div>"
      ],
      "text/plain": [
       "   Application_ID  Gender  Married  Self_Employed  ApplicantIncome  \\\n",
       "0            1002     0.0      0.0            0.0           5849.0   \n",
       "1            1003     0.0      1.0            0.0           4583.0   \n",
       "2            1005     0.0      1.0            1.0           3000.0   \n",
       "3            1006     0.0      1.0            0.0           2583.0   \n",
       "4            1008     0.0      0.0            0.0           6000.0   \n",
       "\n",
       "   CoapplicantIncome  LoanAmount  Loan_Amount_Term  Credit_History  \\\n",
       "0                0.0  134.221053             360.0             1.0   \n",
       "1             1508.0  128.000000             360.0             1.0   \n",
       "2                0.0   66.000000             360.0             1.0   \n",
       "3             2358.0  120.000000             360.0             1.0   \n",
       "4                0.0  141.000000             360.0             1.0   \n",
       "\n",
       "   Property_Area  Loan_Status  \n",
       "0              0            1  \n",
       "1              1            0  \n",
       "2              0            1  \n",
       "3              0            1  \n",
       "4              0            1  "
      ]
     },
     "execution_count": 84,
     "metadata": {},
     "output_type": "execute_result"
    }
   ],
   "source": [
    "# display the first five rows of the dataset\n",
    "train.head()"
   ]
  },
  {
   "cell_type": "code",
   "execution_count": 85,
   "metadata": {},
   "outputs": [
    {
     "data": {
      "text/plain": [
       "array([0, 1, 0, 0, 0, 0, 0, 1, 0, 1, 0, 0, 0, 1, 0, 0, 0, 1, 1, 0, 1, 0,\n",
       "       1, 1, 1, 0, 0, 0, 1, 0, 1, 1, 1, 0, 1, 0, 1, 0, 0, 0, 1, 0, 0, 0,\n",
       "       0, 0, 0, 0, 1, 0, 0, 0, 1, 1, 1, 0, 0, 1, 0, 0, 0, 0, 1, 1, 1, 1,\n",
       "       1, 0, 0, 1, 0, 0, 0, 1, 0, 1, 1, 1, 1, 0, 0, 0, 1, 1, 0, 0, 0, 0,\n",
       "       0, 0, 0, 0, 0, 0, 0, 1, 0, 0, 0, 0], dtype=int64)"
      ]
     },
     "execution_count": 85,
     "metadata": {},
     "output_type": "execute_result"
    }
   ],
   "source": [
    "# test[\"Loan_Status\"] contains the actual outcome names before we use it.\n",
    "# before we can use it we need to convert each values into a digit\n",
    "# so in this case, there are two values, which have been coded as 0 and 1\n",
    "y=pd.factorize(train[\"Loan_Status\"])[0]\n",
    "# view target\n",
    "y"
   ]
  },
  {
   "cell_type": "code",
   "execution_count": 86,
   "metadata": {},
   "outputs": [],
   "source": [
    "# create a random forest classifier. By convention, clf means \" classifier \"\n",
    "clf=RandomForestClassifier(n_jobs=2,random_state=0)"
   ]
  },
  {
   "cell_type": "code",
   "execution_count": 87,
   "metadata": {},
   "outputs": [
    {
     "name": "stderr",
     "output_type": "stream",
     "text": [
      "C:\\Users\\DELL\\Anaconda32a\\lib\\site-packages\\sklearn\\ensemble\\forest.py:246: FutureWarning: The default value of n_estimators will change from 10 in version 0.20 to 100 in 0.22.\n",
      "  \"10 in version 0.20 to 100 in 0.22.\", FutureWarning)\n"
     ]
    },
    {
     "data": {
      "text/plain": [
       "RandomForestClassifier(bootstrap=True, class_weight=None, criterion='gini',\n",
       "            max_depth=None, max_features='auto', max_leaf_nodes=None,\n",
       "            min_impurity_decrease=0.0, min_impurity_split=None,\n",
       "            min_samples_leaf=1, min_samples_split=2,\n",
       "            min_weight_fraction_leaf=0.0, n_estimators=10, n_jobs=2,\n",
       "            oob_score=False, random_state=0, verbose=0, warm_start=False)"
      ]
     },
     "execution_count": 87,
     "metadata": {},
     "output_type": "execute_result"
    }
   ],
   "source": [
    "# train the classifier to take the training features and how they relate to the training y ( the Loan_Status)\n",
    "clf.fit(train[features],y)             "
   ]
  },
  {
   "cell_type": "code",
   "execution_count": 88,
   "metadata": {},
   "outputs": [
    {
     "data": {
      "text/plain": [
       "array([0, 0, 0, 0, 0, 0, 0, 0, 1, 0, 0, 0, 1, 0, 0, 0, 0, 0, 0, 0, 0, 0,\n",
       "       0, 0, 0, 0, 0, 0, 1, 1, 1, 0, 0, 0, 0, 0, 0, 0, 1, 0, 0, 0, 0, 0,\n",
       "       0, 0, 0, 0, 0, 0, 1, 0, 0, 0, 0, 1, 1, 0, 0, 0, 0, 0, 0, 0, 0, 0,\n",
       "       1, 0, 0, 0, 0, 0, 0, 0, 0, 0, 0, 1, 0, 1, 1, 0, 0, 0, 0, 0, 1, 0,\n",
       "       0, 0, 0, 0, 0, 0, 0, 0, 0, 0, 0, 0, 0, 1, 0, 0, 0, 0, 0, 0, 0, 0,\n",
       "       0, 0, 0, 0, 0, 0, 0, 0, 1, 0, 1, 0, 0, 0, 0, 0, 0, 0, 0, 0, 0, 0,\n",
       "       0, 0, 0, 0, 1, 0, 0, 0, 0, 0, 0, 1, 0, 0, 0, 0, 0, 0, 0, 0, 1, 0,\n",
       "       1, 0, 1, 0, 0, 0, 1, 0, 0, 0, 0, 1, 0, 1, 0, 0, 0, 0, 0, 0, 0, 0,\n",
       "       0, 0, 0, 0, 1, 0, 0, 0, 0, 0, 0, 0, 0, 0, 0, 1, 0, 1, 0, 0, 0, 0,\n",
       "       0, 0, 0, 0, 0, 0, 0, 0, 0, 1, 0, 1, 0, 0, 0, 1, 0, 0, 0, 0, 0, 0,\n",
       "       0, 0, 0, 0, 0, 1, 1, 0, 0, 0, 0, 0, 0, 0, 0, 0, 0, 0, 1, 0, 0, 0,\n",
       "       0, 0, 0, 0, 1, 0, 1, 0, 0, 0, 0, 1, 0, 0, 0, 0, 1, 0, 0, 0, 0, 0,\n",
       "       0, 0, 0, 1, 0, 0, 0, 0, 0, 0, 0, 0, 0, 1, 0, 0, 0, 0, 0, 0, 1, 1,\n",
       "       0, 1, 0, 0, 0, 0, 0, 0, 0, 0, 1, 0, 1, 1, 0, 0, 0, 0, 0, 0, 0, 0,\n",
       "       1, 1, 0, 1, 1, 0, 1, 0, 0, 0, 0, 0, 0, 0, 0, 1, 0, 0, 0, 0, 0, 0,\n",
       "       0, 1, 0, 0, 0, 0, 0, 0, 1, 0, 0, 0, 0, 0, 1, 0, 1, 0, 1, 1, 1, 0,\n",
       "       1, 0, 0, 0, 1, 0, 0, 0, 0, 0, 0, 0, 1, 0, 0, 0, 0, 0, 0, 1, 0, 0,\n",
       "       0, 0, 0, 1, 0, 0, 0, 0, 0, 0, 0, 0, 1, 0, 0, 0, 0, 1, 1, 0, 1, 0,\n",
       "       0, 1, 0, 1, 0, 0, 0, 1, 0, 0, 1, 0, 0, 0, 1, 0, 0, 0, 0, 0, 0, 0,\n",
       "       0, 0, 0, 0, 1, 0, 0, 0, 0, 1, 0, 0, 0, 0, 1, 1, 0, 0, 0, 0, 0, 0,\n",
       "       0, 0, 0, 0, 0, 0, 0, 0, 1, 0, 1, 0, 0, 1, 1, 0, 0, 0, 0, 0, 0, 0,\n",
       "       0, 0, 1, 1, 0, 1, 0, 1, 0, 1, 0, 0, 0, 0, 1, 0, 0, 0, 0, 0, 0, 0,\n",
       "       1, 0, 0, 0, 0, 1, 0, 0, 0, 0, 0, 1, 0, 0, 0, 0, 0, 0, 0, 1, 0, 0,\n",
       "       0, 0, 0, 0, 0, 0, 0, 1], dtype=int64)"
      ]
     },
     "execution_count": 88,
     "metadata": {},
     "output_type": "execute_result"
    }
   ],
   "source": [
    "# apply the classifier we trained to the test data (which ,remember ,it has never been before)\n",
    "clf.predict(test[features])"
   ]
  },
  {
   "cell_type": "code",
   "execution_count": 89,
   "metadata": {},
   "outputs": [
    {
     "data": {
      "text/plain": [
       "array([[0.8, 0.2],\n",
       "       [0.7, 0.3],\n",
       "       [0.8, 0.2],\n",
       "       [0.7, 0.3],\n",
       "       [0.8, 0.2],\n",
       "       [0.9, 0.1],\n",
       "       [0.8, 0.2],\n",
       "       [0.5, 0.5],\n",
       "       [0.3, 0.7],\n",
       "       [1. , 0. ]])"
      ]
     },
     "execution_count": 89,
     "metadata": {},
     "output_type": "execute_result"
    }
   ],
   "source": [
    "# view the predicted probabilities of the first 10 observations. \n",
    "clf.predict_proba(test[features])[0:10]"
   ]
  },
  {
   "cell_type": "code",
   "execution_count": 90,
   "metadata": {},
   "outputs": [
    {
     "data": {
      "text/plain": [
       "[('Application_ID', 0.1601114265389943),\n",
       " ('Gender', 0.02125697934187338),\n",
       " ('Married', 0.011061716940360507),\n",
       " ('Self_Employed', 0.01960093961432948),\n",
       " ('ApplicantIncome', 0.19842066674233302),\n",
       " ('CoapplicantIncome', 0.07980966251795688),\n",
       " ('LoanAmount', 0.16542078113159392),\n",
       " ('Loan_Amount_Term', 0.01905608277368833),\n",
       " ('Credit_History', 0.22016099259082972),\n",
       " ('Property_Area', 0.1051007518080405)]"
      ]
     },
     "execution_count": 90,
     "metadata": {},
     "output_type": "execute_result"
    }
   ],
   "source": [
    "# view the list of the features and their importance scores\n",
    "list(zip(train[features],clf.feature_importances_))"
   ]
  },
  {
   "cell_type": "code",
   "execution_count": 91,
   "metadata": {},
   "outputs": [
    {
     "data": {
      "text/plain": [
       "0.99"
      ]
     },
     "execution_count": 91,
     "metadata": {},
     "output_type": "execute_result"
    }
   ],
   "source": [
    "# predict the score of the above model after the predicted values\n",
    "forest_score=clf.score(train[features],y)\n",
    "forest_score"
   ]
  },
  {
   "cell_type": "markdown",
   "metadata": {},
   "source": [
    "#### Naive Bayes "
   ]
  },
  {
   "cell_type": "markdown",
   "metadata": {},
   "source": [
    "##### Calculate Priors"
   ]
  },
  {
   "cell_type": "code",
   "execution_count": 92,
   "metadata": {},
   "outputs": [
    {
     "name": "stdout",
     "output_type": "stream",
     "text": [
      "No. of yes:  64\n",
      "No. of no:  36\n"
     ]
    }
   ],
   "source": [
    "# priors can be calculated either constants or probability distribution\n",
    "# in our, dataset this is simply the probality of the Loan_Status\n",
    "# calculate prior now,\n",
    "# number of yes\n",
    "n_yes=train[\"Loan_Status\"][train[\"Loan_Status\"] == 1].count()\n",
    "# number of no\n",
    "n_no=train[\"Loan_Status\"][train[\"Loan_Status\"] == 0].count()\n",
    "# total number of rows\n",
    "total=train[\"Loan_Status\"].count()\n",
    "# print the values\n",
    "print(\"No. of yes: \",n_yes)\n",
    "print(\"No. of no: \",n_no)"
   ]
  },
  {
   "cell_type": "code",
   "execution_count": 93,
   "metadata": {},
   "outputs": [
    {
     "name": "stdout",
     "output_type": "stream",
     "text": [
      "probability of yes= 0.64\n",
      "probability of no= 0.36\n"
     ]
    }
   ],
   "source": [
    "# number of yes divided by the total rows\n",
    "p= n_yes/total\n",
    "# number of no divided by the total rows\n",
    "p1= n_no/total\n",
    "# print the values\n",
    "print(\"probability of yes=\",p)\n",
    "print(\"probability of no=\",p1)"
   ]
  },
  {
   "cell_type": "code",
   "execution_count": 94,
   "metadata": {},
   "outputs": [
    {
     "data": {
      "text/html": [
       "<div>\n",
       "<style scoped>\n",
       "    .dataframe tbody tr th:only-of-type {\n",
       "        vertical-align: middle;\n",
       "    }\n",
       "\n",
       "    .dataframe tbody tr th {\n",
       "        vertical-align: top;\n",
       "    }\n",
       "\n",
       "    .dataframe thead th {\n",
       "        text-align: right;\n",
       "    }\n",
       "</style>\n",
       "<table border=\"1\" class=\"dataframe\">\n",
       "  <thead>\n",
       "    <tr style=\"text-align: right;\">\n",
       "      <th></th>\n",
       "      <th>Application_ID</th>\n",
       "      <th>Gender</th>\n",
       "      <th>Married</th>\n",
       "      <th>Self_Employed</th>\n",
       "      <th>ApplicantIncome</th>\n",
       "      <th>CoapplicantIncome</th>\n",
       "      <th>LoanAmount</th>\n",
       "      <th>Loan_Amount_Term</th>\n",
       "      <th>Credit_History</th>\n",
       "      <th>Property_Area</th>\n",
       "    </tr>\n",
       "    <tr>\n",
       "      <th>Loan_Status</th>\n",
       "      <th></th>\n",
       "      <th></th>\n",
       "      <th></th>\n",
       "      <th></th>\n",
       "      <th></th>\n",
       "      <th></th>\n",
       "      <th></th>\n",
       "      <th></th>\n",
       "      <th></th>\n",
       "      <th></th>\n",
       "    </tr>\n",
       "  </thead>\n",
       "  <tbody>\n",
       "    <tr>\n",
       "      <th>0</th>\n",
       "      <td>1149.611111</td>\n",
       "      <td>0.198653</td>\n",
       "      <td>0.611111</td>\n",
       "      <td>0.122636</td>\n",
       "      <td>4481.444444</td>\n",
       "      <td>1780.916667</td>\n",
       "      <td>147.762281</td>\n",
       "      <td>350.649123</td>\n",
       "      <td>0.565217</td>\n",
       "      <td>0.861111</td>\n",
       "    </tr>\n",
       "    <tr>\n",
       "      <th>1</th>\n",
       "      <td>1166.578125</td>\n",
       "      <td>0.125000</td>\n",
       "      <td>0.734375</td>\n",
       "      <td>0.147108</td>\n",
       "      <td>3921.109375</td>\n",
       "      <td>1655.343750</td>\n",
       "      <td>126.604112</td>\n",
       "      <td>336.641447</td>\n",
       "      <td>0.989810</td>\n",
       "      <td>0.937500</td>\n",
       "    </tr>\n",
       "  </tbody>\n",
       "</table>\n",
       "</div>"
      ],
      "text/plain": [
       "             Application_ID    Gender   Married  Self_Employed  \\\n",
       "Loan_Status                                                      \n",
       "0               1149.611111  0.198653  0.611111       0.122636   \n",
       "1               1166.578125  0.125000  0.734375       0.147108   \n",
       "\n",
       "             ApplicantIncome  CoapplicantIncome  LoanAmount  Loan_Amount_Term  \\\n",
       "Loan_Status                                                                     \n",
       "0                4481.444444        1780.916667  147.762281        350.649123   \n",
       "1                3921.109375        1655.343750  126.604112        336.641447   \n",
       "\n",
       "             Credit_History  Property_Area  \n",
       "Loan_Status                                 \n",
       "0                  0.565217       0.861111  \n",
       "1                  0.989810       0.937500  "
      ]
     },
     "execution_count": 94,
     "metadata": {},
     "output_type": "execute_result"
    }
   ],
   "source": [
    "# group the data by Loan_Status and calculate the mean value of each features\n",
    "data_mean=train.groupby(\"Loan_Status\").mean()\n",
    "# view the values\n",
    "data_mean"
   ]
  },
  {
   "cell_type": "code",
   "execution_count": 95,
   "metadata": {},
   "outputs": [
    {
     "data": {
      "text/html": [
       "<div>\n",
       "<style scoped>\n",
       "    .dataframe tbody tr th:only-of-type {\n",
       "        vertical-align: middle;\n",
       "    }\n",
       "\n",
       "    .dataframe tbody tr th {\n",
       "        vertical-align: top;\n",
       "    }\n",
       "\n",
       "    .dataframe thead th {\n",
       "        text-align: right;\n",
       "    }\n",
       "</style>\n",
       "<table border=\"1\" class=\"dataframe\">\n",
       "  <thead>\n",
       "    <tr style=\"text-align: right;\">\n",
       "      <th></th>\n",
       "      <th>Application_ID</th>\n",
       "      <th>Gender</th>\n",
       "      <th>Married</th>\n",
       "      <th>Self_Employed</th>\n",
       "      <th>ApplicantIncome</th>\n",
       "      <th>CoapplicantIncome</th>\n",
       "      <th>LoanAmount</th>\n",
       "      <th>Loan_Amount_Term</th>\n",
       "      <th>Credit_History</th>\n",
       "      <th>Property_Area</th>\n",
       "    </tr>\n",
       "    <tr>\n",
       "      <th>Loan_Status</th>\n",
       "      <th></th>\n",
       "      <th></th>\n",
       "      <th></th>\n",
       "      <th></th>\n",
       "      <th></th>\n",
       "      <th></th>\n",
       "      <th></th>\n",
       "      <th></th>\n",
       "      <th></th>\n",
       "      <th></th>\n",
       "    </tr>\n",
       "  </thead>\n",
       "  <tbody>\n",
       "    <tr>\n",
       "      <th>0</th>\n",
       "      <td>8887.158730</td>\n",
       "      <td>0.160065</td>\n",
       "      <td>0.244444</td>\n",
       "      <td>0.100456</td>\n",
       "      <td>7.769226e+06</td>\n",
       "      <td>4.908219e+06</td>\n",
       "      <td>4808.705269</td>\n",
       "      <td>2294.946735</td>\n",
       "      <td>0.237173</td>\n",
       "      <td>0.751587</td>\n",
       "    </tr>\n",
       "    <tr>\n",
       "      <th>1</th>\n",
       "      <td>12157.962054</td>\n",
       "      <td>0.111111</td>\n",
       "      <td>0.198165</td>\n",
       "      <td>0.121784</td>\n",
       "      <td>3.587315e+06</td>\n",
       "      <td>3.228524e+06</td>\n",
       "      <td>3172.847623</td>\n",
       "      <td>4261.692026</td>\n",
       "      <td>0.001582</td>\n",
       "      <td>1.011905</td>\n",
       "    </tr>\n",
       "  </tbody>\n",
       "</table>\n",
       "</div>"
      ],
      "text/plain": [
       "             Application_ID    Gender   Married  Self_Employed  \\\n",
       "Loan_Status                                                      \n",
       "0               8887.158730  0.160065  0.244444       0.100456   \n",
       "1              12157.962054  0.111111  0.198165       0.121784   \n",
       "\n",
       "             ApplicantIncome  CoapplicantIncome   LoanAmount  \\\n",
       "Loan_Status                                                    \n",
       "0               7.769226e+06       4.908219e+06  4808.705269   \n",
       "1               3.587315e+06       3.228524e+06  3172.847623   \n",
       "\n",
       "             Loan_Amount_Term  Credit_History  Property_Area  \n",
       "Loan_Status                                                   \n",
       "0                 2294.946735        0.237173       0.751587  \n",
       "1                 4261.692026        0.001582       1.011905  "
      ]
     },
     "execution_count": 95,
     "metadata": {},
     "output_type": "execute_result"
    }
   ],
   "source": [
    "# group the data by Loan_Status and calculate the variance value of each features\n",
    "data_variance=train.groupby(\"Loan_Status\").var()\n",
    "#view the values\n",
    "data_variance"
   ]
  },
  {
   "cell_type": "code",
   "execution_count": 96,
   "metadata": {},
   "outputs": [
    {
     "data": {
      "text/plain": [
       "Index(['Application_ID', 'Gender', 'Married', 'Self_Employed',\n",
       "       'ApplicantIncome', 'CoapplicantIncome', 'LoanAmount',\n",
       "       'Loan_Amount_Term', 'Credit_History', 'Property_Area', 'Loan_Status'],\n",
       "      dtype='object')"
      ]
     },
     "execution_count": 96,
     "metadata": {},
     "output_type": "execute_result"
    }
   ],
   "source": [
    "train.dtypes.index"
   ]
  },
  {
   "cell_type": "code",
   "execution_count": 97,
   "metadata": {},
   "outputs": [],
   "source": [
    "# mean value of yes\n",
    "\n",
    "yes_Application_ID_mean=data_mean[\"Application_ID\"][data_mean.index == 1].values[0]\n",
    "yes_Gender_mean=data_mean[\"Gender\"][data_mean.index == 1].values[0]\n",
    "yes_Married_mean=data_mean[\"Married\"][data_mean.index == 1].values[0]\n",
    "yes_Self_Employed_mean=data_mean[\"Self_Employed\"][data_mean.index == 1].values[0]\n",
    "yes_ApplicantIncome_mean=data_mean[\"ApplicantIncome\"][data_mean.index == 1].values[0]\n",
    "yes_CoapplicantIncome_mean=data_mean[\"CoapplicantIncome\"][data_mean.index == 1].values[0]\n",
    "yes_LoanAmount_mean=data_mean[\"LoanAmount\"][data_mean.index == 1].values[0]\n",
    "yes_Loan_Amount_Term_mean=data_mean[\"Loan_Amount_Term\"][data_mean.index == 1].values[0]\n",
    "yes_Credit_History_mean=data_mean[\"Credit_History\"][data_mean.index == 1].values[0]\n",
    "yes_Property_Area_mean=data_mean[\"Property_Area\"][data_mean.index == 1].values[0]"
   ]
  },
  {
   "cell_type": "code",
   "execution_count": 98,
   "metadata": {},
   "outputs": [],
   "source": [
    "# variance value of yes\n",
    "\n",
    "yes_Application_ID_var=data_variance[\"Application_ID\"][data_mean.index == 1].values[0]\n",
    "yes_Gender_var=data_variance[\"Gender\"][data_mean.index == 1].values[0]\n",
    "yes_Married_var=data_variance[\"Married\"][data_mean.index == 1].values[0]\n",
    "yes_Self_Employed_var=data_variance[\"Self_Employed\"][data_mean.index == 1].values[0]\n",
    "yes_ApplicantIncome_var=data_variance[\"ApplicantIncome\"][data_mean.index == 1].values[0]\n",
    "yes_CoapplicantIncome_var=data_variance[\"CoapplicantIncome\"][data_mean.index == 1].values[0]\n",
    "yes_LoanAmount_var=data_variance[\"LoanAmount\"][data_mean.index == 1].values[0]\n",
    "yes_Loan_Amount_Term_var=data_variance[\"Loan_Amount_Term\"][data_mean.index == 1].values[0]\n",
    "yes_Credit_History_var=data_variance[\"Credit_History\"][data_mean.index == 1].values[0]\n",
    "yes_Property_Area_var=data_variance[\"Property_Area\"][data_mean.index == 1].values[0]"
   ]
  },
  {
   "cell_type": "code",
   "execution_count": 99,
   "metadata": {},
   "outputs": [],
   "source": [
    "# mean value of no\n",
    "\n",
    "no_Application_ID_mean=data_mean[\"Application_ID\"][data_mean.index == 0].values[0]\n",
    "no_Gender_mean=data_mean[\"Gender\"][data_mean.index == 0].values[0]\n",
    "no_Married_mean=data_mean[\"Married\"][data_mean.index == 0].values[0]\n",
    "no_Self_Employed_mean=data_mean[\"Self_Employed\"][data_mean.index == 0].values[0]\n",
    "no_ApplicantIncome_mean=data_mean[\"ApplicantIncome\"][data_mean.index == 0].values[0]\n",
    "no_CoapplicantIncome_mean=data_mean[\"CoapplicantIncome\"][data_mean.index == 0].values[0]\n",
    "no_LoanAmount_mean=data_mean[\"LoanAmount\"][data_mean.index == 0].values[0]\n",
    "no_Loan_Amount_Term_mean=data_mean[\"Loan_Amount_Term\"][data_mean.index == 0].values[0]\n",
    "no_Credit_History_mean=data_mean[\"Credit_History\"][data_mean.index == 0].values[0]\n",
    "no_Property_Area_mean=data_mean[\"Property_Area\"][data_mean.index == 0].values[0]"
   ]
  },
  {
   "cell_type": "code",
   "execution_count": 100,
   "metadata": {},
   "outputs": [],
   "source": [
    "# variance value of no\n",
    "\n",
    "no_Application_ID_var=data_variance[\"Application_ID\"][data_mean.index == 0].values[0]\n",
    "no_Gender_var=data_variance[\"Gender\"][data_mean.index == 0].values[0]\n",
    "no_Married_var=data_variance[\"Married\"][data_mean.index == 0].values[0]\n",
    "no_Self_Employed_var=data_variance[\"Self_Employed\"][data_mean.index == 0].values[0]\n",
    "no_ApplicantIncome_var=data_variance[\"ApplicantIncome\"][data_mean.index == 0].values[0]\n",
    "no_CoapplicantIncome_var=data_variance[\"CoapplicantIncome\"][data_mean.index == 0].values[0]\n",
    "no_LoanAmount_var=data_variance[\"LoanAmount\"][data_mean.index == 0].values[0]\n",
    "no_Loan_Amount_Term_var=data_variance[\"Loan_Amount_Term\"][data_mean.index == 0].values[0]\n",
    "no_Credit_History_var=data_variance[\"Credit_History\"][data_mean.index == 0].values[0]\n",
    "no_Property_Area_var=data_variance[\"Property_Area\"][data_mean.index == 0].values[0]"
   ]
  },
  {
   "cell_type": "code",
   "execution_count": 101,
   "metadata": {},
   "outputs": [],
   "source": [
    "# create a fubction that calculates p(x|y):\n",
    "def p_x_given_y(x,mean_y,var_y):\n",
    "    p=1/(np.sqrt(2*np.pi*var_y))*np.exp((-(x-mean_y)**2)/(2*var_y))\n",
    "    # return p\n",
    "    return p"
   ]
  },
  {
   "cell_type": "code",
   "execution_count": 102,
   "metadata": {},
   "outputs": [],
   "source": [
    "# numerator of the posterior if the nclassified observation is yes\n",
    "\n",
    "posterior_yes= p*p_x_given_y(train[\"Application_ID\"][0],yes_Application_ID_mean,yes_Application_ID_var)*\\\n",
    "p_x_given_y(train[\"Gender\"][0],yes_Gender_mean,yes_Gender_var)*\\\n",
    "p_x_given_y(train[\"Married\"][0],yes_Married_mean,yes_Married_var)*\\\n",
    "p_x_given_y(train[\"Self_Employed\"][0],yes_Self_Employed_mean,yes_Self_Employed_var)*\\\n",
    "p_x_given_y(train[\"ApplicantIncome\"][0],yes_ApplicantIncome_mean,yes_ApplicantIncome_var)*\\\n",
    "p_x_given_y(train[\"CoapplicantIncome\"][0],yes_CoapplicantIncome_mean,yes_CoapplicantIncome_var)*\\\n",
    "p_x_given_y(train[\"LoanAmount\"][0],yes_LoanAmount_mean,yes_LoanAmount_var)*\\\n",
    "p_x_given_y(train[\"Loan_Amount_Term\"][0],yes_Loan_Amount_Term_mean,yes_Loan_Amount_Term_var)*\\\n",
    "p_x_given_y(train[\"Credit_History\"][0],yes_Credit_History_mean,yes_Credit_History_var)*\\\n",
    "p_x_given_y(train[\"Property_Area\"][0],yes_Property_Area_mean,yes_Property_Area_var)"
   ]
  },
  {
   "cell_type": "code",
   "execution_count": 103,
   "metadata": {},
   "outputs": [],
   "source": [
    "# numerator of the posterior if the unclassified observation is no\n",
    "\n",
    "posterior_no= p*p_x_given_y(train[\"Application_ID\"][0],no_Application_ID_mean,no_Application_ID_var)*\\\n",
    "p_x_given_y(train[\"Gender\"][0],no_Gender_mean,no_Gender_var)*\\\n",
    "p_x_given_y(train[\"Married\"][0],no_Married_mean,no_Married_var)*\\\n",
    "p_x_given_y(train[\"Self_Employed\"][0],no_Self_Employed_mean,no_Self_Employed_var)*\\\n",
    "p_x_given_y(train[\"ApplicantIncome\"][0],no_ApplicantIncome_mean,no_ApplicantIncome_var)*\\\n",
    "p_x_given_y(train[\"CoapplicantIncome\"][0],no_CoapplicantIncome_mean,no_CoapplicantIncome_var)*\\\n",
    "p_x_given_y(train[\"LoanAmount\"][0],no_LoanAmount_mean,no_LoanAmount_var)*\\\n",
    "p_x_given_y(train[\"Loan_Amount_Term\"][0],no_Loan_Amount_Term_mean,no_Loan_Amount_Term_var)*\\\n",
    "p_x_given_y(train[\"Credit_History\"][0],no_Credit_History_mean,no_Credit_History_var)*\\\n",
    "p_x_given_y(train[\"Property_Area\"][0],no_Property_Area_mean,no_Property_Area_var)"
   ]
  },
  {
   "cell_type": "code",
   "execution_count": 104,
   "metadata": {},
   "outputs": [
    {
     "name": "stdout",
     "output_type": "stream",
     "text": [
      "predicted outcome is yes\n"
     ]
    }
   ],
   "source": [
    "# print the outcome\n",
    "if(posterior_yes >= posterior_no):\n",
    "    print(\"predicted outcome is yes\")\n",
    "else:\n",
    "    print(\"predicted outcome is no\")"
   ]
  },
  {
   "cell_type": "code",
   "execution_count": 105,
   "metadata": {},
   "outputs": [],
   "source": [
    "from sklearn.model_selection import train_test_split\n",
    "feat=train.values[:,:14]\n",
    "target=train.values[:,9]\n",
    "feat_train,feat_test,target_train,target_test=train_test_split(feat,target,test_size=0.30,random_state=101)"
   ]
  },
  {
   "cell_type": "code",
   "execution_count": 106,
   "metadata": {},
   "outputs": [],
   "source": [
    "# predict the score\n",
    "# how fit is the dataset in the prediction\n",
    "from sklearn.naive_bayes import GaussianNB\n",
    "clf=GaussianNB()\n",
    "clf.fit(feat_train,target_train)\n",
    "target_pred=clf.predict(feat_train)"
   ]
  },
  {
   "cell_type": "code",
   "execution_count": 107,
   "metadata": {},
   "outputs": [
    {
     "data": {
      "text/plain": [
       "1.0"
      ]
     },
     "execution_count": 107,
     "metadata": {},
     "output_type": "execute_result"
    }
   ],
   "source": [
    "from sklearn.metrics import accuracy_score\n",
    "naive=accuracy_score(target_train,target_pred)   \n",
    "naive"
   ]
  },
  {
   "cell_type": "markdown",
   "metadata": {},
   "source": [
    "### K Nearest Neighbours (KNN)"
   ]
  },
  {
   "cell_type": "code",
   "execution_count": 108,
   "metadata": {},
   "outputs": [],
   "source": [
    "# identifying the Best Value of K"
   ]
  },
  {
   "cell_type": "code",
   "execution_count": 109,
   "metadata": {},
   "outputs": [],
   "source": [
    "# load libraries\n",
    "from sklearn.neighbors import KNeighborsClassifier\n",
    "from sklearn.preprocessing import StandardScaler\n",
    "from sklearn.pipeline import Pipeline,FeatureUnion\n",
    "from sklearn.model_selection import GridSearchCV"
   ]
  },
  {
   "cell_type": "code",
   "execution_count": 110,
   "metadata": {},
   "outputs": [],
   "source": [
    "# standardize data\n",
    "# create standardizer\n",
    "standardizer=StandardScaler()"
   ]
  },
  {
   "cell_type": "code",
   "execution_count": 111,
   "metadata": {},
   "outputs": [
    {
     "name": "stdout",
     "output_type": "stream",
     "text": [
      "[[-1.52231864e+00 -4.24705993e-01 -1.49191369e+00 -4.13204688e-01\n",
      "   7.68015615e-01 -8.77519308e-01  0.00000000e+00  3.08130765e-01\n",
      "   4.60157339e-01 -9.58213309e-01]\n",
      " [-1.51271228e+00 -4.24705993e-01  6.70280063e-01 -4.13204688e-01\n",
      "   2.04740985e-01 -9.93598205e-02 -1.01117457e-01  3.08130765e-01\n",
      "   4.60157339e-01  9.47683493e-02]\n",
      " [-1.49349958e+00 -4.24705993e-01  6.70280063e-01  2.57458305e+00\n",
      "  -4.99574766e-01 -8.77519308e-01 -1.10887012e+00  3.08130765e-01\n",
      "   4.60157339e-01 -9.58213309e-01]\n",
      " [-1.48389323e+00 -4.24705993e-01  6.70280063e-01 -4.13204688e-01\n",
      "  -6.85108352e-01  3.39257928e-01 -2.31150058e-01  3.08130765e-01\n",
      "   4.60157339e-01 -9.58213309e-01]\n",
      " [-1.46468052e+00 -4.24705993e-01 -1.49191369e+00 -4.13204688e-01\n",
      "   8.35199240e-01 -8.77519308e-01  1.10185520e-01  3.08130765e-01\n",
      "   4.60157339e-01 -9.58213309e-01]\n",
      " [-1.43586147e+00 -4.24705993e-01  6.70280063e-01  2.57458305e+00\n",
      "   5.75808158e-01  1.28770431e+00  2.15819899e+00  3.08130765e-01\n",
      "   4.60157339e-01 -9.58213309e-01]\n",
      " [-1.41664876e+00 -4.24705993e-01  6.70280063e-01 -4.13204688e-01\n",
      "  -7.96339519e-01 -9.52316534e-02 -6.37501937e-01  3.08130765e-01\n",
      "   4.60157339e-01 -9.58213309e-01]\n",
      " [-1.40704241e+00 -4.24705993e-01  6.70280063e-01 -4.13204688e-01\n",
      "  -4.83557477e-01  4.14596976e-01  3.86504797e-01  3.08130765e-01\n",
      "  -2.36214101e+00  1.14775001e+00]\n",
      " [-1.36861700e+00 -4.24705993e-01  6.70280063e-01 -4.13204688e-01\n",
      "  -5.19805490e-02 -9.00714446e-02  5.49045549e-01  3.08130765e-01\n",
      "   4.60157339e-01 -9.58213309e-01]\n",
      " [-1.34940430e+00 -4.24705993e-01  6.70280063e-01 -4.13204688e-01\n",
      "   3.87892890e+00  4.78219771e+00  3.49103315e+00  3.08130765e-01\n",
      "   4.60157339e-01  1.14775001e+00]\n",
      " [-1.31097889e+00 -4.24705993e-01  6.70280063e-01 -4.13204688e-01\n",
      "  -4.10589832e-01 -5.16304692e-01 -1.04385382e+00  3.08130765e-01\n",
      "   4.60157339e-01 -9.58213309e-01]\n",
      " [-1.28215983e+00 -4.24705993e-01  6.70280063e-01  8.29277686e-17\n",
      "  -7.22037100e-01  7.19591117e-02 -4.09944885e-01  3.08130765e-01\n",
      "   4.60157339e-01 -9.58213309e-01]\n",
      " [-1.27255348e+00 -4.24705993e-01  6.70280063e-01 -4.13204688e-01\n",
      "  -4.67095265e-01  3.30534595e+00  1.06917595e+00  3.08130765e-01\n",
      "   4.60157339e-01 -9.58213309e-01]\n",
      " [-1.26294713e+00 -4.24705993e-01 -1.49191369e+00 -4.13204688e-01\n",
      "  -1.00990336e+00  5.87979992e-01 -3.28674509e-01  3.08130765e-01\n",
      "   4.60157339e-01  9.47683493e-02]\n",
      " [-1.25334077e+00 -4.24705993e-01  6.70280063e-01 -4.13204688e-01\n",
      "  -1.25639163e+00 -3.17120632e-01 -1.90531980e+00 -3.72944478e+00\n",
      "   4.60157339e-01 -9.58213309e-01]\n",
      " [-1.23412807e+00 -4.24705993e-01 -1.49191369e+00 -4.13204688e-01\n",
      "   3.68028338e-01 -8.77519308e-01 -1.49879682e-01  3.08130765e-01\n",
      "   4.60157339e-01 -9.58213309e-01]\n",
      " [-1.21491537e+00 -4.24705993e-01 -1.49191369e+00 -4.13204688e-01\n",
      "  -2.34399663e-01 -8.77519308e-01 -5.56231561e-01 -1.71065701e+00\n",
      "   0.00000000e+00 -9.58213309e-01]\n",
      " [-1.19570266e+00  2.37835356e+00 -1.49191369e+00 -4.13204688e-01\n",
      "  -2.72663185e-01 -8.77519308e-01 -9.46329364e-01  3.08130765e-01\n",
      "  -2.36214101e+00 -9.58213309e-01]\n",
      " [-1.17648996e+00 -4.24705993e-01  6.70280063e-01 -4.13204688e-01\n",
      "   3.39998084e-01 -8.77519308e-01 -1.98470812e-02  3.08130765e-01\n",
      "   4.60157339e-01  9.47683493e-02]\n",
      " [-1.14767090e+00 -4.24705993e-01  6.70280063e-01  8.29277686e-17\n",
      "  -6.77544633e-01  9.28553773e-01 -3.12420434e-01  0.00000000e+00\n",
      "   4.60157339e-01 -9.58213309e-01]\n",
      " [-1.12845820e+00 -4.24705993e-01  6.70280063e-01 -4.13204688e-01\n",
      "   1.57377419e+00 -8.77519308e-01 -4.91215260e-01  3.08130765e-01\n",
      "  -2.36214101e+00 -9.58213309e-01]\n",
      " [-1.09963914e+00 -4.24705993e-01  6.70280063e-01 -4.13204688e-01\n",
      "   8.15177630e-01  2.02509814e+00  2.93839459e+00  3.08130765e-01\n",
      "   4.60157339e-01 -9.58213309e-01]\n",
      " [-1.09003279e+00 -4.24705993e-01  6.70280063e-01 -4.13204688e-01\n",
      "  -6.77544633e-01  1.08596594e-01 -2.96166359e-01  3.08130765e-01\n",
      "  -2.36214101e+00  1.14775001e+00]\n",
      " [-1.06121373e+00  0.00000000e+00  6.70280063e-01 -4.13204688e-01\n",
      "  -3.37177262e-01  1.11692720e-01 -3.61182659e-01  3.08130765e-01\n",
      "  -2.36214101e+00  9.47683493e-02]\n",
      " [-1.04200103e+00 -4.24705993e-01  6.70280063e-01  8.29277686e-17\n",
      "  -1.80563778e-01  6.31841767e-01  2.72726271e-01  3.08130765e-01\n",
      "   0.00000000e+00  1.14775001e+00]\n",
      " [-9.07512094e-01 -4.24705993e-01  6.70280063e-01  2.57458305e+00\n",
      "   2.41913106e+00 -8.77519308e-01  9.22889277e-01  3.08130765e-01\n",
      "   4.60157339e-01  1.14775001e+00]\n",
      " [-8.88299390e-01 -4.24705993e-01  6.70280063e-01 -4.13204688e-01\n",
      "  -5.89004624e-01  2.85075735e-01 -1.98641908e-01  3.08130765e-01\n",
      "   4.60157339e-01  1.14775001e+00]\n",
      " [-8.40267629e-01 -4.24705993e-01  6.70280063e-01 -4.13204688e-01\n",
      "   4.59028781e-02 -3.40857592e-01 -3.93690810e-01  3.08130765e-01\n",
      "   4.60157339e-01 -9.58213309e-01]\n",
      " [-7.15385050e-01 -4.24705993e-01 -1.49191369e+00 -4.13204688e-01\n",
      "  -1.19276740e+00 -8.77519308e-01 -1.61274645e+00  3.08130765e-01\n",
      "   4.60157339e-01 -9.58213309e-01]\n",
      " [-7.05778698e-01  2.37835356e+00 -1.49191369e+00  8.29277686e-17\n",
      "  -1.65881264e-01  1.97352186e-01 -2.31150058e-01  3.08130765e-01\n",
      "   4.60157339e-01  1.14775001e+00]\n",
      " [-6.67353289e-01 -4.24705993e-01  6.70280063e-01  8.29277686e-17\n",
      "   1.92073979e-02  8.60955037e-01  1.08543003e+00  3.08130765e-01\n",
      "   0.00000000e+00 -9.58213309e-01]\n",
      " [-6.28927880e-01 -4.24705993e-01 -1.49191369e+00 -4.13204688e-01\n",
      "  -4.25272346e-01 -8.77519308e-01 -9.78837515e-01  3.08130765e-01\n",
      "   4.60157339e-01 -9.58213309e-01]\n",
      " [-6.09715175e-01 -4.24705993e-01 -1.49191369e+00  2.57458305e+00\n",
      "   2.53237774e-01 -8.77519308e-01 -4.58707110e-01  3.08130765e-01\n",
      "   4.60157339e-01  9.47683493e-02]\n",
      " [-6.00108823e-01 -4.24705993e-01  6.70280063e-01 -4.13204688e-01\n",
      "  -2.77112431e-01 -1.73125005e-02 -3.28674509e-01  3.08130765e-01\n",
      "   4.60157339e-01  1.14775001e+00]\n",
      " [-5.80896119e-01 -4.24705993e-01 -1.49191369e+00 -4.13204688e-01\n",
      "   3.72720959e+00  6.70543333e-01  3.01966497e+00  3.08130765e-01\n",
      "   4.60157339e-01  9.47683493e-02]\n",
      " [-5.23258005e-01 -4.24705993e-01  6.70280063e-01 -4.13204688e-01\n",
      "  -8.22145150e-01  1.89095852e-01  0.00000000e+00  3.08130765e-01\n",
      "   4.60157339e-01 -9.58213309e-01]\n",
      " [-4.94438949e-01 -4.24705993e-01  6.70280063e-01 -4.13204688e-01\n",
      "  -1.02102648e+00 -1.91211537e-01 -5.56231561e-01  0.00000000e+00\n",
      "  -2.36214101e+00 -9.58213309e-01]\n",
      " [-4.65619892e-01  2.37835356e+00  6.70280063e-01 -4.13204688e-01\n",
      "  -2.02810012e-01 -1.24644844e-01  1.58947745e-01  3.08130765e-01\n",
      "   4.60157339e-01  1.14775001e+00]\n",
      " [-4.46407188e-01 -4.24705993e-01 -1.49191369e+00 -4.13204688e-01\n",
      "   1.92073979e-02  2.84299124e+00  8.09110751e-01  3.08130765e-01\n",
      "   4.60157339e-01 -9.58213309e-01]\n",
      " [-4.27194483e-01 -4.24705993e-01 -1.49191369e+00 -4.13204688e-01\n",
      "  -1.66771113e-01 -1.67964796e-02 -3.93690810e-01  3.08130765e-01\n",
      "   4.60157339e-01  1.14775001e+00]\n",
      " [-3.98375427e-01 -4.24705993e-01 -1.49191369e+00 -4.13204688e-01\n",
      "  -2.32619964e-01 -8.77519308e-01 -8.81313064e-01  3.08130765e-01\n",
      "   4.60157339e-01 -9.58213309e-01]\n",
      " [-3.88769074e-01 -4.24705993e-01 -1.49191369e+00 -4.13204688e-01\n",
      "  -1.03348437e+00 -2.51585980e-01 -1.41769754e+00  3.08130765e-01\n",
      "   4.60157339e-01 -9.58213309e-01]\n",
      " [-3.59950018e-01 -4.24705993e-01  6.70280063e-01 -4.13204688e-01\n",
      "  -7.66529567e-01 -8.77519308e-01 -9.62583440e-01  3.08130765e-01\n",
      "   0.00000000e+00 -9.58213309e-01]\n",
      " [-2.83099200e-01 -4.24705993e-01  6.70280063e-01 -4.13204688e-01\n",
      "  -8.09006525e-02  3.27905468e-01 -3.59300608e-03  3.08130765e-01\n",
      "   4.60157339e-01  1.14775001e+00]\n",
      " [-2.35067439e-01 -4.24705993e-01  6.70280063e-01  2.57458305e+00\n",
      "   2.54572548e-01 -8.77519308e-01 -6.21247862e-01  0.00000000e+00\n",
      "   4.60157339e-01 -9.58213309e-01]\n",
      " [-2.25461087e-01  2.37835356e+00 -1.49191369e+00 -4.13204688e-01\n",
      "  -3.17155651e-01 -8.77519308e-01 -7.51280463e-01  0.00000000e+00\n",
      "   4.60157339e-01 -9.58213309e-01]\n",
      " [-2.15854734e-01 -4.24705993e-01  6.70280063e-01 -4.13204688e-01\n",
      "   6.79030681e-01 -8.77519308e-01 -1.46645977e+00  3.08130765e-01\n",
      "   4.60157339e-01 -9.58213309e-01]\n",
      " [-1.58216621e-01 -4.24705993e-01  6.70280063e-01 -4.13204688e-01\n",
      "   7.55557724e-01 -8.77519308e-01  1.58947745e-01  3.08130765e-01\n",
      "   4.60157339e-01 -9.58213309e-01]\n",
      " [-1.39003917e-01  2.37835356e+00  6.70280063e-01 -4.13204688e-01\n",
      "  -6.57523023e-01  8.97592520e-01 -2.31150058e-01  3.08130765e-01\n",
      "  -2.36214101e+00 -9.58213309e-01]\n",
      " [-9.09721555e-02  2.37835356e+00 -1.49191369e+00 -4.13204688e-01\n",
      "  -5.46500970e-02  2.96428195e-01  1.58947745e-01  3.08130765e-01\n",
      "   4.60157339e-01  1.14775001e+00]\n",
      " [-5.25467466e-02  2.37835356e+00  6.70280063e-01 -4.13204688e-01\n",
      "  -9.76534010e-01 -2.91809808e-02 -5.56231561e-01  3.08130765e-01\n",
      "   4.60157339e-01  1.14775001e+00]\n",
      " [-3.33340422e-02  2.37835356e+00 -1.49191369e+00 -4.13204688e-01\n",
      "  -4.61311244e-01 -8.77519308e-01 -2.31150058e-01  3.08130765e-01\n",
      "   4.60157339e-01  1.14775001e+00]\n",
      " [ 3.39104233e-02  2.37835356e+00 -1.49191369e+00 -4.13204688e-01\n",
      "   4.76825767e-02 -8.77519308e-01 -3.61182659e-01  3.08130765e-01\n",
      "   4.60157339e-01  1.14775001e+00]\n",
      " [ 1.78005707e-01 -4.24705993e-01  6.70280063e-01 -4.13204688e-01\n",
      "   2.19423499e-01 -8.77519308e-01 -3.59300608e-03  3.08130765e-01\n",
      "   4.60157339e-01 -9.58213309e-01]\n",
      " [ 2.45250172e-01  2.37835356e+00  6.70280063e-01  2.57458305e+00\n",
      "   3.28228492e+00 -8.77519308e-01  2.46702642e+00  3.08130765e-01\n",
      "  -2.36214101e+00 -9.58213309e-01]\n",
      " [ 3.22100990e-01 -4.24705993e-01  6.70280063e-01 -4.13204688e-01\n",
      "  -6.29492769e-01 -2.75322941e-01 -6.04993786e-01  3.08130765e-01\n",
      "   4.60157339e-01  1.14775001e+00]\n",
      " [ 3.31707342e-01 -4.24705993e-01  6.70280063e-01 -4.13204688e-01\n",
      "  -8.85769378e-01 -5.65300874e-02 -6.21247862e-01  3.08130765e-01\n",
      "   4.60157339e-01  1.14775001e+00]\n",
      " [ 3.50920047e-01 -4.24705993e-01  6.70280063e-01 -4.13204688e-01\n",
      "  -3.36732337e-01  2.57726629e-01  1.26610691e-02  3.08130765e-01\n",
      "   4.60157339e-01  9.47683493e-02]\n",
      " [ 3.60526399e-01 -4.24705993e-01  6.70280063e-01 -4.13204688e-01\n",
      "   1.76064255e+00  2.83527673e-01  7.44094450e-01  3.08130765e-01\n",
      "   4.60157339e-01 -9.58213309e-01]\n",
      " [ 3.70132751e-01 -4.24705993e-01  6.70280063e-01 -4.13204688e-01\n",
      "  -3.40736659e-01  5.97784389e-01  1.58947745e-01  3.08130765e-01\n",
      "   4.60157339e-01 -9.58213309e-01]\n",
      " [ 4.27770864e-01 -4.24705993e-01  6.70280063e-01 -4.13204688e-01\n",
      "  -7.22037100e-01  1.08129595e+00 -2.31150058e-01  3.08130765e-01\n",
      "   4.60157339e-01 -9.58213309e-01]\n",
      " [ 4.37377217e-01 -4.24705993e-01  6.70280063e-01 -4.13204688e-01\n",
      "  -4.86671950e-01 -8.77519308e-01 -5.72485636e-01  3.08130765e-01\n",
      "   4.60157339e-01 -9.58213309e-01]\n",
      " [ 4.46983569e-01 -4.24705993e-01  6.70280063e-01  2.57458305e+00\n",
      "  -6.73540311e-01  9.02236708e-01  5.00283323e-01 -2.72005090e+00\n",
      "  -2.36214101e+00  9.47683493e-02]\n",
      " [ 5.04621682e-01 -4.24705993e-01  6.70280063e-01 -4.13204688e-01\n",
      "   3.65803715e-01 -8.77519308e-01  0.00000000e+00  3.08130765e-01\n",
      "  -2.36214101e+00  9.47683493e-02]\n",
      " [ 5.91078852e-01  2.37835356e+00 -1.49191369e+00 -4.13204688e-01\n",
      "   1.92073979e-02 -8.77519308e-01 -2.96166359e-01  3.08130765e-01\n",
      "  -2.36214101e+00  1.14775001e+00]\n",
      " [ 6.19897909e-01 -4.24705993e-01  6.70280063e-01 -4.13204688e-01\n",
      "   7.13289881e-01  1.49359664e+00  2.01191231e+00  3.08130765e-01\n",
      "   4.60157339e-01  1.14775001e+00]\n",
      " [ 6.48716965e-01 -4.24705993e-01 -1.49191369e+00 -4.13204688e-01\n",
      "  -4.10589832e-01  2.85591756e-01 -1.33625607e-01 -2.72005090e+00\n",
      "  -2.36214101e+00 -9.58213309e-01]\n",
      " [ 6.96748727e-01 -4.24705993e-01  6.70280063e-01 -4.13204688e-01\n",
      "   2.94859142e+00 -8.77519308e-01  2.88963237e+00  3.08130765e-01\n",
      "   4.60157339e-01 -9.58213309e-01]\n",
      " [ 7.44780488e-01 -4.24705993e-01  6.70280063e-01  2.57458305e+00\n",
      "   1.32461638e+00 -8.77519308e-01 -1.49879682e-01 -4.73883867e+00\n",
      "   4.60157339e-01 -9.58213309e-01]\n",
      " [ 7.73599544e-01  2.37835356e+00 -1.49191369e+00 -4.13204688e-01\n",
      "   7.88273035e-02 -8.77519308e-01  2.89151442e-02  3.08130765e-01\n",
      "  -2.36214101e+00  1.14775001e+00]\n",
      " [ 7.92812249e-01 -4.24705993e-01  6.70280063e-01 -4.13204688e-01\n",
      "  -4.07030434e-01  7.04600711e-01  6.14061849e-01  3.08130765e-01\n",
      "   4.60157339e-01 -9.58213309e-01]\n",
      " [ 8.12024953e-01 -4.24705993e-01  6.70280063e-01  2.57458305e+00\n",
      "  -1.00011502e+00  9.00198425e-02 -6.04993786e-01  3.08130765e-01\n",
      "   4.60157339e-01  1.14775001e+00]\n",
      " [ 8.40844010e-01 -4.24705993e-01 -1.49191369e+00 -4.13204688e-01\n",
      "  -2.77112431e-01 -8.77519308e-01 -8.65058989e-01 -7.01263121e-01\n",
      "   4.60157339e-01  1.14775001e+00]\n",
      " [ 8.60056714e-01 -4.24705993e-01  6.70280063e-01 -4.13204688e-01\n",
      "   2.81268028e-01 -8.77519308e-01 -6.37501937e-01  0.00000000e+00\n",
      "  -2.36214101e+00  1.14775001e+00]\n",
      " [ 8.88875771e-01 -4.24705993e-01  6.70280063e-01  2.57458305e+00\n",
      "   5.08624533e-01  3.79017336e-02  8.57872976e-01  3.08130765e-01\n",
      "   4.60157339e-01  1.14775001e+00]\n",
      " [ 9.08088475e-01 -4.24705993e-01 -1.49191369e+00 -4.13204688e-01\n",
      "  -1.65881264e-01 -8.77519308e-01 -3.44928584e-01  2.32691854e+00\n",
      "   4.60157339e-01 -9.58213309e-01]\n",
      " [ 9.17694828e-01 -4.24705993e-01 -1.49191369e+00 -4.13204688e-01\n",
      "  -1.65881264e-01  1.57357987e+00  6.79078150e-01  3.08130765e-01\n",
      "   4.60157339e-01 -9.58213309e-01]\n",
      " [ 9.46513884e-01 -4.24705993e-01  6.70280063e-01  2.57458305e+00\n",
      "  -1.38942410e+00  6.81895792e-01 -3.93690810e-01  3.08130765e-01\n",
      "   4.60157339e-01 -9.58213309e-01]\n",
      " [ 9.84939293e-01 -4.24705993e-01  6.70280063e-01 -4.13204688e-01\n",
      "  -4.25272346e-01  1.18656421e+00  7.44094450e-01 -7.01263121e-01\n",
      "  -2.36214101e+00  1.14775001e+00]\n",
      " [ 9.94545645e-01 -4.24705993e-01  6.70280063e-01  2.57458305e+00\n",
      "  -3.51414851e-01  2.40181919e-01 -6.86093067e-02  3.08130765e-01\n",
      "   0.00000000e+00  1.14775001e+00]\n",
      " [ 1.00415200e+00  2.37835356e+00 -1.49191369e+00 -4.13204688e-01\n",
      "  -1.23168496e-01 -8.77519308e-01 -3.77436734e-01  3.08130765e-01\n",
      "   4.60157339e-01  1.14775001e+00]\n",
      " [ 1.01375835e+00 -4.24705993e-01  6.70280063e-01  2.57458305e+00\n",
      "  -7.68754190e-01 -8.77519308e-01  0.00000000e+00  3.08130765e-01\n",
      "   4.60157339e-01  1.14775001e+00]\n",
      " [ 1.02336470e+00  2.37835356e+00  6.70280063e-01 -4.13204688e-01\n",
      "  -1.22124258e+00  9.31159678e-02  5.32791474e-01  3.08130765e-01\n",
      "   4.60157339e-01 -9.58213309e-01]\n",
      " [ 1.08100282e+00 -4.24705993e-01  6.70280063e-01 -4.13204688e-01\n",
      "   8.35199240e-01  2.83527673e-01  2.12569084e+00  3.08130765e-01\n",
      "   0.00000000e+00  1.14775001e+00]\n",
      " [ 1.10021552e+00 -4.24705993e-01  6.70280063e-01 -4.13204688e-01\n",
      "  -5.99891931e-02 -8.77519308e-01 -1.36893532e+00 -1.71065701e+00\n",
      "   4.60157339e-01 -9.58213309e-01]\n",
      " [ 1.13864093e+00 -4.24705993e-01 -1.49191369e+00 -4.13204688e-01\n",
      "  -7.81657005e-01  4.28529540e-01  2.89151442e-02  3.08130765e-01\n",
      "   4.60157339e-01  1.14775001e+00]\n",
      " [ 1.14824728e+00 -4.24705993e-01  6.70280063e-01 -4.13204688e-01\n",
      "  -3.51414851e-01  1.54522453e-01 -5.72485636e-01  3.08130765e-01\n",
      "   0.00000000e+00  1.14775001e+00]\n",
      " [ 1.16745999e+00 -4.24705993e-01  6.70280063e-01 -4.13204688e-01\n",
      "  -7.22037100e-01  2.15412916e-01 -4.91215260e-01  3.08130765e-01\n",
      "   4.60157339e-01  1.14775001e+00]\n",
      " [ 1.23470445e+00 -4.24705993e-01 -1.49191369e+00 -4.13204688e-01\n",
      "   1.97687594e+00 -8.77519308e-01  1.23171670e+00  3.08130765e-01\n",
      "   4.60157339e-01 -9.58213309e-01]\n",
      " [ 1.43643785e+00 -4.24705993e-01  6.70280063e-01 -4.13204688e-01\n",
      "   6.99497216e-01  1.27273970e+00  6.62824075e-01  3.08130765e-01\n",
      "   4.60157339e-01  1.14775001e+00]\n",
      " [ 1.49407596e+00 -4.24705993e-01  6.70280063e-01 -4.13204688e-01\n",
      "  -5.18261602e-01  6.18941245e-01 -5.23552315e-02  3.08130765e-01\n",
      "   4.60157339e-01  1.14775001e+00]\n",
      " [ 1.51328867e+00 -4.24705993e-01  6.70280063e-01 -4.13204688e-01\n",
      "   9.46430407e-01  2.04006275e+00  8.74127052e-01 -2.72005090e+00\n",
      "   4.60157339e-01  1.14775001e+00]\n",
      " [ 1.52289502e+00 -4.24705993e-01  6.70280063e-01 -4.13204688e-01\n",
      "  -3.78110331e-01  6.16386941e-02 -8.65058989e-01  3.08130765e-01\n",
      "   4.60157339e-01 -9.58213309e-01]\n",
      " [ 1.55171407e+00 -4.24705993e-01 -1.49191369e+00 -4.13204688e-01\n",
      "   4.52488388e-03 -8.77519308e-01 -1.98641908e-01  3.08130765e-01\n",
      "   4.60157339e-01  1.14775001e+00]\n",
      " [ 1.58053313e+00 -4.24705993e-01 -1.49191369e+00 -4.13204688e-01\n",
      "  -2.23721471e-01 -8.77519308e-01 -1.77528720e+00 -3.72944478e+00\n",
      "   4.60157339e-01  1.14775001e+00]\n",
      " [ 1.59013948e+00 -4.24705993e-01 -1.49191369e+00  8.29277686e-17\n",
      "   1.18313033e+00 -8.77519308e-01  0.00000000e+00  3.08130765e-01\n",
      "   0.00000000e+00 -9.58213309e-01]\n",
      " [ 1.59974584e+00  2.37835356e+00  6.70280063e-01 -4.13204688e-01\n",
      "  -7.29155895e-01  3.10360758e-01  4.51692193e-02  3.08130765e-01\n",
      "   4.60157339e-01  1.14775001e+00]\n",
      " [ 1.65738395e+00 -4.24705993e-01  6.70280063e-01 -4.13204688e-01\n",
      "  -9.54732701e-01 -3.63046490e-01 -1.36893532e+00  3.08130765e-01\n",
      "   4.60157339e-01  1.14775001e+00]\n",
      " [ 1.66699030e+00 -4.24705993e-01  6.70280063e-01 -4.13204688e-01\n",
      "   2.89957406e-02 -8.77519308e-01 -3.12420434e-01 -2.72005090e+00\n",
      "   4.60157339e-01  1.14775001e+00]\n",
      " [ 1.75344747e+00 -4.24705993e-01  6.70280063e-01 -4.13204688e-01\n",
      "  -1.05172628e+00  9.49710629e-01 -5.23552315e-02  3.08130765e-01\n",
      "   4.60157339e-01  1.14775001e+00]]\n"
     ]
    },
    {
     "name": "stderr",
     "output_type": "stream",
     "text": [
      "C:\\Users\\DELL\\Anaconda32a\\lib\\site-packages\\sklearn\\preprocessing\\data.py:645: DataConversionWarning: Data with input dtype int64, float64 were all converted to float64 by StandardScaler.\n",
      "  return self.partial_fit(X, y)\n",
      "C:\\Users\\DELL\\Anaconda32a\\lib\\site-packages\\sklearn\\base.py:464: DataConversionWarning: Data with input dtype int64, float64 were all converted to float64 by StandardScaler.\n",
      "  return self.fit(X, **fit_params).transform(X)\n"
     ]
    }
   ],
   "source": [
    "# standardize features\n",
    "X_std=standardizer.fit_transform(train[features])\n",
    "print(X_std)"
   ]
  },
  {
   "cell_type": "code",
   "execution_count": 112,
   "metadata": {},
   "outputs": [
    {
     "data": {
      "text/plain": [
       "KNeighborsClassifier(algorithm='auto', leaf_size=30, metric='euclidean',\n",
       "           metric_params=None, n_jobs=-1, n_neighbors=5, p=2,\n",
       "           weights='uniform')"
      ]
     },
     "execution_count": 112,
     "metadata": {},
     "output_type": "execute_result"
    }
   ],
   "source": [
    "# fit a k-nearest neighbors classifier\n",
    "# fit a KNN classifier with 5 neighbors\n",
    "knn=KNeighborsClassifier(n_neighbors=5,metric='euclidean',n_jobs=-1).fit(train[features],y)\n",
    "# print the value\n",
    "knn"
   ]
  },
  {
   "cell_type": "code",
   "execution_count": 113,
   "metadata": {},
   "outputs": [
    {
     "name": "stdout",
     "output_type": "stream",
     "text": [
      "pipe : Pipeline(memory=None,\n",
      "     steps=[('standardizer', StandardScaler(copy=True, with_mean=True, with_std=True)), ('knn', KNeighborsClassifier(algorithm='auto', leaf_size=30, metric='euclidean',\n",
      "           metric_params=None, n_jobs=-1, n_neighbors=5, p=2,\n",
      "           weights='uniform'))])\n"
     ]
    }
   ],
   "source": [
    "# create a search space of possible values of k\n",
    "# create a pipeline\n",
    "pipe=Pipeline([('standardizer',standardizer),('knn',knn)])\n",
    "print(\"pipe :\",pipe)"
   ]
  },
  {
   "cell_type": "code",
   "execution_count": 114,
   "metadata": {},
   "outputs": [],
   "source": [
    "# create space of candidate values\n",
    "search_space=[{'knn__n_neighbors':[1,2,3,4,5,6,7,8,9,10]}]"
   ]
  },
  {
   "cell_type": "code",
   "execution_count": 115,
   "metadata": {},
   "outputs": [
    {
     "name": "stdout",
     "output_type": "stream",
     "text": [
      "Fitting 5 folds for each of 10 candidates, totalling 50 fits\n"
     ]
    },
    {
     "name": "stderr",
     "output_type": "stream",
     "text": [
      "[Parallel(n_jobs=1)]: Using backend SequentialBackend with 1 concurrent workers.\n",
      "C:\\Users\\DELL\\Anaconda32a\\lib\\site-packages\\sklearn\\preprocessing\\data.py:645: DataConversionWarning: Data with input dtype int64, float64 were all converted to float64 by StandardScaler.\n",
      "  return self.partial_fit(X, y)\n",
      "C:\\Users\\DELL\\Anaconda32a\\lib\\site-packages\\sklearn\\base.py:467: DataConversionWarning: Data with input dtype int64, float64 were all converted to float64 by StandardScaler.\n",
      "  return self.fit(X, y, **fit_params).transform(X)\n",
      "C:\\Users\\DELL\\Anaconda32a\\lib\\site-packages\\sklearn\\pipeline.py:511: DataConversionWarning: Data with input dtype int64, float64 were all converted to float64 by StandardScaler.\n",
      "  Xt = transform.transform(Xt)\n",
      "C:\\Users\\DELL\\Anaconda32a\\lib\\site-packages\\sklearn\\pipeline.py:511: DataConversionWarning: Data with input dtype int64, float64 were all converted to float64 by StandardScaler.\n",
      "  Xt = transform.transform(Xt)\n",
      "C:\\Users\\DELL\\Anaconda32a\\lib\\site-packages\\sklearn\\preprocessing\\data.py:645: DataConversionWarning: Data with input dtype int64, float64 were all converted to float64 by StandardScaler.\n",
      "  return self.partial_fit(X, y)\n",
      "C:\\Users\\DELL\\Anaconda32a\\lib\\site-packages\\sklearn\\base.py:467: DataConversionWarning: Data with input dtype int64, float64 were all converted to float64 by StandardScaler.\n",
      "  return self.fit(X, y, **fit_params).transform(X)\n",
      "C:\\Users\\DELL\\Anaconda32a\\lib\\site-packages\\sklearn\\pipeline.py:511: DataConversionWarning: Data with input dtype int64, float64 were all converted to float64 by StandardScaler.\n",
      "  Xt = transform.transform(Xt)\n",
      "C:\\Users\\DELL\\Anaconda32a\\lib\\site-packages\\sklearn\\pipeline.py:511: DataConversionWarning: Data with input dtype int64, float64 were all converted to float64 by StandardScaler.\n",
      "  Xt = transform.transform(Xt)\n",
      "C:\\Users\\DELL\\Anaconda32a\\lib\\site-packages\\sklearn\\preprocessing\\data.py:645: DataConversionWarning: Data with input dtype int64, float64 were all converted to float64 by StandardScaler.\n",
      "  return self.partial_fit(X, y)\n",
      "C:\\Users\\DELL\\Anaconda32a\\lib\\site-packages\\sklearn\\base.py:467: DataConversionWarning: Data with input dtype int64, float64 were all converted to float64 by StandardScaler.\n",
      "  return self.fit(X, y, **fit_params).transform(X)\n",
      "C:\\Users\\DELL\\Anaconda32a\\lib\\site-packages\\sklearn\\pipeline.py:511: DataConversionWarning: Data with input dtype int64, float64 were all converted to float64 by StandardScaler.\n",
      "  Xt = transform.transform(Xt)\n",
      "C:\\Users\\DELL\\Anaconda32a\\lib\\site-packages\\sklearn\\pipeline.py:511: DataConversionWarning: Data with input dtype int64, float64 were all converted to float64 by StandardScaler.\n",
      "  Xt = transform.transform(Xt)\n",
      "C:\\Users\\DELL\\Anaconda32a\\lib\\site-packages\\sklearn\\preprocessing\\data.py:645: DataConversionWarning: Data with input dtype int64, float64 were all converted to float64 by StandardScaler.\n",
      "  return self.partial_fit(X, y)\n",
      "C:\\Users\\DELL\\Anaconda32a\\lib\\site-packages\\sklearn\\base.py:467: DataConversionWarning: Data with input dtype int64, float64 were all converted to float64 by StandardScaler.\n",
      "  return self.fit(X, y, **fit_params).transform(X)\n",
      "C:\\Users\\DELL\\Anaconda32a\\lib\\site-packages\\sklearn\\pipeline.py:511: DataConversionWarning: Data with input dtype int64, float64 were all converted to float64 by StandardScaler.\n",
      "  Xt = transform.transform(Xt)\n",
      "C:\\Users\\DELL\\Anaconda32a\\lib\\site-packages\\sklearn\\pipeline.py:511: DataConversionWarning: Data with input dtype int64, float64 were all converted to float64 by StandardScaler.\n",
      "  Xt = transform.transform(Xt)\n",
      "C:\\Users\\DELL\\Anaconda32a\\lib\\site-packages\\sklearn\\preprocessing\\data.py:645: DataConversionWarning: Data with input dtype int64, float64 were all converted to float64 by StandardScaler.\n",
      "  return self.partial_fit(X, y)\n",
      "C:\\Users\\DELL\\Anaconda32a\\lib\\site-packages\\sklearn\\base.py:467: DataConversionWarning: Data with input dtype int64, float64 were all converted to float64 by StandardScaler.\n",
      "  return self.fit(X, y, **fit_params).transform(X)\n",
      "C:\\Users\\DELL\\Anaconda32a\\lib\\site-packages\\sklearn\\pipeline.py:511: DataConversionWarning: Data with input dtype int64, float64 were all converted to float64 by StandardScaler.\n",
      "  Xt = transform.transform(Xt)\n",
      "C:\\Users\\DELL\\Anaconda32a\\lib\\site-packages\\sklearn\\pipeline.py:511: DataConversionWarning: Data with input dtype int64, float64 were all converted to float64 by StandardScaler.\n",
      "  Xt = transform.transform(Xt)\n",
      "C:\\Users\\DELL\\Anaconda32a\\lib\\site-packages\\sklearn\\preprocessing\\data.py:645: DataConversionWarning: Data with input dtype int64, float64 were all converted to float64 by StandardScaler.\n",
      "  return self.partial_fit(X, y)\n",
      "C:\\Users\\DELL\\Anaconda32a\\lib\\site-packages\\sklearn\\base.py:467: DataConversionWarning: Data with input dtype int64, float64 were all converted to float64 by StandardScaler.\n",
      "  return self.fit(X, y, **fit_params).transform(X)\n",
      "C:\\Users\\DELL\\Anaconda32a\\lib\\site-packages\\sklearn\\pipeline.py:511: DataConversionWarning: Data with input dtype int64, float64 were all converted to float64 by StandardScaler.\n",
      "  Xt = transform.transform(Xt)\n",
      "C:\\Users\\DELL\\Anaconda32a\\lib\\site-packages\\sklearn\\pipeline.py:511: DataConversionWarning: Data with input dtype int64, float64 were all converted to float64 by StandardScaler.\n",
      "  Xt = transform.transform(Xt)\n",
      "C:\\Users\\DELL\\Anaconda32a\\lib\\site-packages\\sklearn\\preprocessing\\data.py:645: DataConversionWarning: Data with input dtype int64, float64 were all converted to float64 by StandardScaler.\n",
      "  return self.partial_fit(X, y)\n",
      "C:\\Users\\DELL\\Anaconda32a\\lib\\site-packages\\sklearn\\base.py:467: DataConversionWarning: Data with input dtype int64, float64 were all converted to float64 by StandardScaler.\n",
      "  return self.fit(X, y, **fit_params).transform(X)\n",
      "C:\\Users\\DELL\\Anaconda32a\\lib\\site-packages\\sklearn\\pipeline.py:511: DataConversionWarning: Data with input dtype int64, float64 were all converted to float64 by StandardScaler.\n",
      "  Xt = transform.transform(Xt)\n",
      "C:\\Users\\DELL\\Anaconda32a\\lib\\site-packages\\sklearn\\pipeline.py:511: DataConversionWarning: Data with input dtype int64, float64 were all converted to float64 by StandardScaler.\n",
      "  Xt = transform.transform(Xt)\n",
      "C:\\Users\\DELL\\Anaconda32a\\lib\\site-packages\\sklearn\\preprocessing\\data.py:645: DataConversionWarning: Data with input dtype int64, float64 were all converted to float64 by StandardScaler.\n",
      "  return self.partial_fit(X, y)\n",
      "C:\\Users\\DELL\\Anaconda32a\\lib\\site-packages\\sklearn\\base.py:467: DataConversionWarning: Data with input dtype int64, float64 were all converted to float64 by StandardScaler.\n",
      "  return self.fit(X, y, **fit_params).transform(X)\n",
      "C:\\Users\\DELL\\Anaconda32a\\lib\\site-packages\\sklearn\\pipeline.py:511: DataConversionWarning: Data with input dtype int64, float64 were all converted to float64 by StandardScaler.\n",
      "  Xt = transform.transform(Xt)\n",
      "C:\\Users\\DELL\\Anaconda32a\\lib\\site-packages\\sklearn\\pipeline.py:511: DataConversionWarning: Data with input dtype int64, float64 were all converted to float64 by StandardScaler.\n",
      "  Xt = transform.transform(Xt)\n",
      "C:\\Users\\DELL\\Anaconda32a\\lib\\site-packages\\sklearn\\preprocessing\\data.py:645: DataConversionWarning: Data with input dtype int64, float64 were all converted to float64 by StandardScaler.\n",
      "  return self.partial_fit(X, y)\n",
      "C:\\Users\\DELL\\Anaconda32a\\lib\\site-packages\\sklearn\\base.py:467: DataConversionWarning: Data with input dtype int64, float64 were all converted to float64 by StandardScaler.\n",
      "  return self.fit(X, y, **fit_params).transform(X)\n",
      "C:\\Users\\DELL\\Anaconda32a\\lib\\site-packages\\sklearn\\pipeline.py:511: DataConversionWarning: Data with input dtype int64, float64 were all converted to float64 by StandardScaler.\n",
      "  Xt = transform.transform(Xt)\n",
      "C:\\Users\\DELL\\Anaconda32a\\lib\\site-packages\\sklearn\\pipeline.py:511: DataConversionWarning: Data with input dtype int64, float64 were all converted to float64 by StandardScaler.\n",
      "  Xt = transform.transform(Xt)\n",
      "C:\\Users\\DELL\\Anaconda32a\\lib\\site-packages\\sklearn\\preprocessing\\data.py:645: DataConversionWarning: Data with input dtype int64, float64 were all converted to float64 by StandardScaler.\n",
      "  return self.partial_fit(X, y)\n",
      "C:\\Users\\DELL\\Anaconda32a\\lib\\site-packages\\sklearn\\base.py:467: DataConversionWarning: Data with input dtype int64, float64 were all converted to float64 by StandardScaler.\n",
      "  return self.fit(X, y, **fit_params).transform(X)\n",
      "C:\\Users\\DELL\\Anaconda32a\\lib\\site-packages\\sklearn\\pipeline.py:511: DataConversionWarning: Data with input dtype int64, float64 were all converted to float64 by StandardScaler.\n",
      "  Xt = transform.transform(Xt)\n",
      "C:\\Users\\DELL\\Anaconda32a\\lib\\site-packages\\sklearn\\pipeline.py:511: DataConversionWarning: Data with input dtype int64, float64 were all converted to float64 by StandardScaler.\n",
      "  Xt = transform.transform(Xt)\n",
      "C:\\Users\\DELL\\Anaconda32a\\lib\\site-packages\\sklearn\\preprocessing\\data.py:645: DataConversionWarning: Data with input dtype int64, float64 were all converted to float64 by StandardScaler.\n",
      "  return self.partial_fit(X, y)\n",
      "C:\\Users\\DELL\\Anaconda32a\\lib\\site-packages\\sklearn\\base.py:467: DataConversionWarning: Data with input dtype int64, float64 were all converted to float64 by StandardScaler.\n",
      "  return self.fit(X, y, **fit_params).transform(X)\n",
      "C:\\Users\\DELL\\Anaconda32a\\lib\\site-packages\\sklearn\\pipeline.py:511: DataConversionWarning: Data with input dtype int64, float64 were all converted to float64 by StandardScaler.\n",
      "  Xt = transform.transform(Xt)\n",
      "C:\\Users\\DELL\\Anaconda32a\\lib\\site-packages\\sklearn\\pipeline.py:511: DataConversionWarning: Data with input dtype int64, float64 were all converted to float64 by StandardScaler.\n",
      "  Xt = transform.transform(Xt)\n",
      "C:\\Users\\DELL\\Anaconda32a\\lib\\site-packages\\sklearn\\preprocessing\\data.py:645: DataConversionWarning: Data with input dtype int64, float64 were all converted to float64 by StandardScaler.\n",
      "  return self.partial_fit(X, y)\n",
      "C:\\Users\\DELL\\Anaconda32a\\lib\\site-packages\\sklearn\\base.py:467: DataConversionWarning: Data with input dtype int64, float64 were all converted to float64 by StandardScaler.\n",
      "  return self.fit(X, y, **fit_params).transform(X)\n",
      "C:\\Users\\DELL\\Anaconda32a\\lib\\site-packages\\sklearn\\pipeline.py:511: DataConversionWarning: Data with input dtype int64, float64 were all converted to float64 by StandardScaler.\n",
      "  Xt = transform.transform(Xt)\n",
      "C:\\Users\\DELL\\Anaconda32a\\lib\\site-packages\\sklearn\\pipeline.py:511: DataConversionWarning: Data with input dtype int64, float64 were all converted to float64 by StandardScaler.\n",
      "  Xt = transform.transform(Xt)\n",
      "C:\\Users\\DELL\\Anaconda32a\\lib\\site-packages\\sklearn\\preprocessing\\data.py:645: DataConversionWarning: Data with input dtype int64, float64 were all converted to float64 by StandardScaler.\n",
      "  return self.partial_fit(X, y)\n",
      "C:\\Users\\DELL\\Anaconda32a\\lib\\site-packages\\sklearn\\base.py:467: DataConversionWarning: Data with input dtype int64, float64 were all converted to float64 by StandardScaler.\n",
      "  return self.fit(X, y, **fit_params).transform(X)\n",
      "C:\\Users\\DELL\\Anaconda32a\\lib\\site-packages\\sklearn\\pipeline.py:511: DataConversionWarning: Data with input dtype int64, float64 were all converted to float64 by StandardScaler.\n",
      "  Xt = transform.transform(Xt)\n",
      "C:\\Users\\DELL\\Anaconda32a\\lib\\site-packages\\sklearn\\pipeline.py:511: DataConversionWarning: Data with input dtype int64, float64 were all converted to float64 by StandardScaler.\n",
      "  Xt = transform.transform(Xt)\n",
      "C:\\Users\\DELL\\Anaconda32a\\lib\\site-packages\\sklearn\\preprocessing\\data.py:645: DataConversionWarning: Data with input dtype int64, float64 were all converted to float64 by StandardScaler.\n",
      "  return self.partial_fit(X, y)\n",
      "C:\\Users\\DELL\\Anaconda32a\\lib\\site-packages\\sklearn\\base.py:467: DataConversionWarning: Data with input dtype int64, float64 were all converted to float64 by StandardScaler.\n",
      "  return self.fit(X, y, **fit_params).transform(X)\n",
      "C:\\Users\\DELL\\Anaconda32a\\lib\\site-packages\\sklearn\\pipeline.py:511: DataConversionWarning: Data with input dtype int64, float64 were all converted to float64 by StandardScaler.\n",
      "  Xt = transform.transform(Xt)\n",
      "C:\\Users\\DELL\\Anaconda32a\\lib\\site-packages\\sklearn\\pipeline.py:511: DataConversionWarning: Data with input dtype int64, float64 were all converted to float64 by StandardScaler.\n",
      "  Xt = transform.transform(Xt)\n",
      "C:\\Users\\DELL\\Anaconda32a\\lib\\site-packages\\sklearn\\preprocessing\\data.py:645: DataConversionWarning: Data with input dtype int64, float64 were all converted to float64 by StandardScaler.\n",
      "  return self.partial_fit(X, y)\n",
      "C:\\Users\\DELL\\Anaconda32a\\lib\\site-packages\\sklearn\\base.py:467: DataConversionWarning: Data with input dtype int64, float64 were all converted to float64 by StandardScaler.\n",
      "  return self.fit(X, y, **fit_params).transform(X)\n",
      "C:\\Users\\DELL\\Anaconda32a\\lib\\site-packages\\sklearn\\pipeline.py:511: DataConversionWarning: Data with input dtype int64, float64 were all converted to float64 by StandardScaler.\n",
      "  Xt = transform.transform(Xt)\n",
      "C:\\Users\\DELL\\Anaconda32a\\lib\\site-packages\\sklearn\\pipeline.py:511: DataConversionWarning: Data with input dtype int64, float64 were all converted to float64 by StandardScaler.\n",
      "  Xt = transform.transform(Xt)\n",
      "C:\\Users\\DELL\\Anaconda32a\\lib\\site-packages\\sklearn\\preprocessing\\data.py:645: DataConversionWarning: Data with input dtype int64, float64 were all converted to float64 by StandardScaler.\n",
      "  return self.partial_fit(X, y)\n",
      "C:\\Users\\DELL\\Anaconda32a\\lib\\site-packages\\sklearn\\base.py:467: DataConversionWarning: Data with input dtype int64, float64 were all converted to float64 by StandardScaler.\n",
      "  return self.fit(X, y, **fit_params).transform(X)\n",
      "C:\\Users\\DELL\\Anaconda32a\\lib\\site-packages\\sklearn\\pipeline.py:511: DataConversionWarning: Data with input dtype int64, float64 were all converted to float64 by StandardScaler.\n",
      "  Xt = transform.transform(Xt)\n",
      "C:\\Users\\DELL\\Anaconda32a\\lib\\site-packages\\sklearn\\pipeline.py:511: DataConversionWarning: Data with input dtype int64, float64 were all converted to float64 by StandardScaler.\n",
      "  Xt = transform.transform(Xt)\n",
      "C:\\Users\\DELL\\Anaconda32a\\lib\\site-packages\\sklearn\\preprocessing\\data.py:645: DataConversionWarning: Data with input dtype int64, float64 were all converted to float64 by StandardScaler.\n",
      "  return self.partial_fit(X, y)\n",
      "C:\\Users\\DELL\\Anaconda32a\\lib\\site-packages\\sklearn\\base.py:467: DataConversionWarning: Data with input dtype int64, float64 were all converted to float64 by StandardScaler.\n",
      "  return self.fit(X, y, **fit_params).transform(X)\n",
      "C:\\Users\\DELL\\Anaconda32a\\lib\\site-packages\\sklearn\\pipeline.py:511: DataConversionWarning: Data with input dtype int64, float64 were all converted to float64 by StandardScaler.\n",
      "  Xt = transform.transform(Xt)\n",
      "C:\\Users\\DELL\\Anaconda32a\\lib\\site-packages\\sklearn\\pipeline.py:511: DataConversionWarning: Data with input dtype int64, float64 were all converted to float64 by StandardScaler.\n",
      "  Xt = transform.transform(Xt)\n",
      "C:\\Users\\DELL\\Anaconda32a\\lib\\site-packages\\sklearn\\preprocessing\\data.py:645: DataConversionWarning: Data with input dtype int64, float64 were all converted to float64 by StandardScaler.\n",
      "  return self.partial_fit(X, y)\n",
      "C:\\Users\\DELL\\Anaconda32a\\lib\\site-packages\\sklearn\\base.py:467: DataConversionWarning: Data with input dtype int64, float64 were all converted to float64 by StandardScaler.\n",
      "  return self.fit(X, y, **fit_params).transform(X)\n",
      "C:\\Users\\DELL\\Anaconda32a\\lib\\site-packages\\sklearn\\pipeline.py:511: DataConversionWarning: Data with input dtype int64, float64 were all converted to float64 by StandardScaler.\n",
      "  Xt = transform.transform(Xt)\n",
      "C:\\Users\\DELL\\Anaconda32a\\lib\\site-packages\\sklearn\\pipeline.py:511: DataConversionWarning: Data with input dtype int64, float64 were all converted to float64 by StandardScaler.\n",
      "  Xt = transform.transform(Xt)\n",
      "C:\\Users\\DELL\\Anaconda32a\\lib\\site-packages\\sklearn\\preprocessing\\data.py:645: DataConversionWarning: Data with input dtype int64, float64 were all converted to float64 by StandardScaler.\n",
      "  return self.partial_fit(X, y)\n",
      "C:\\Users\\DELL\\Anaconda32a\\lib\\site-packages\\sklearn\\base.py:467: DataConversionWarning: Data with input dtype int64, float64 were all converted to float64 by StandardScaler.\n",
      "  return self.fit(X, y, **fit_params).transform(X)\n",
      "C:\\Users\\DELL\\Anaconda32a\\lib\\site-packages\\sklearn\\pipeline.py:511: DataConversionWarning: Data with input dtype int64, float64 were all converted to float64 by StandardScaler.\n",
      "  Xt = transform.transform(Xt)\n",
      "C:\\Users\\DELL\\Anaconda32a\\lib\\site-packages\\sklearn\\pipeline.py:511: DataConversionWarning: Data with input dtype int64, float64 were all converted to float64 by StandardScaler.\n",
      "  Xt = transform.transform(Xt)\n",
      "C:\\Users\\DELL\\Anaconda32a\\lib\\site-packages\\sklearn\\preprocessing\\data.py:645: DataConversionWarning: Data with input dtype int64, float64 were all converted to float64 by StandardScaler.\n",
      "  return self.partial_fit(X, y)\n",
      "C:\\Users\\DELL\\Anaconda32a\\lib\\site-packages\\sklearn\\base.py:467: DataConversionWarning: Data with input dtype int64, float64 were all converted to float64 by StandardScaler.\n",
      "  return self.fit(X, y, **fit_params).transform(X)\n",
      "C:\\Users\\DELL\\Anaconda32a\\lib\\site-packages\\sklearn\\pipeline.py:511: DataConversionWarning: Data with input dtype int64, float64 were all converted to float64 by StandardScaler.\n",
      "  Xt = transform.transform(Xt)\n",
      "C:\\Users\\DELL\\Anaconda32a\\lib\\site-packages\\sklearn\\pipeline.py:511: DataConversionWarning: Data with input dtype int64, float64 were all converted to float64 by StandardScaler.\n",
      "  Xt = transform.transform(Xt)\n",
      "C:\\Users\\DELL\\Anaconda32a\\lib\\site-packages\\sklearn\\preprocessing\\data.py:645: DataConversionWarning: Data with input dtype int64, float64 were all converted to float64 by StandardScaler.\n",
      "  return self.partial_fit(X, y)\n",
      "C:\\Users\\DELL\\Anaconda32a\\lib\\site-packages\\sklearn\\base.py:467: DataConversionWarning: Data with input dtype int64, float64 were all converted to float64 by StandardScaler.\n",
      "  return self.fit(X, y, **fit_params).transform(X)\n",
      "C:\\Users\\DELL\\Anaconda32a\\lib\\site-packages\\sklearn\\pipeline.py:511: DataConversionWarning: Data with input dtype int64, float64 were all converted to float64 by StandardScaler.\n",
      "  Xt = transform.transform(Xt)\n",
      "C:\\Users\\DELL\\Anaconda32a\\lib\\site-packages\\sklearn\\pipeline.py:511: DataConversionWarning: Data with input dtype int64, float64 were all converted to float64 by StandardScaler.\n",
      "  Xt = transform.transform(Xt)\n",
      "C:\\Users\\DELL\\Anaconda32a\\lib\\site-packages\\sklearn\\preprocessing\\data.py:645: DataConversionWarning: Data with input dtype int64, float64 were all converted to float64 by StandardScaler.\n",
      "  return self.partial_fit(X, y)\n",
      "C:\\Users\\DELL\\Anaconda32a\\lib\\site-packages\\sklearn\\base.py:467: DataConversionWarning: Data with input dtype int64, float64 were all converted to float64 by StandardScaler.\n",
      "  return self.fit(X, y, **fit_params).transform(X)\n",
      "C:\\Users\\DELL\\Anaconda32a\\lib\\site-packages\\sklearn\\pipeline.py:511: DataConversionWarning: Data with input dtype int64, float64 were all converted to float64 by StandardScaler.\n",
      "  Xt = transform.transform(Xt)\n",
      "C:\\Users\\DELL\\Anaconda32a\\lib\\site-packages\\sklearn\\pipeline.py:511: DataConversionWarning: Data with input dtype int64, float64 were all converted to float64 by StandardScaler.\n",
      "  Xt = transform.transform(Xt)\n",
      "C:\\Users\\DELL\\Anaconda32a\\lib\\site-packages\\sklearn\\preprocessing\\data.py:645: DataConversionWarning: Data with input dtype int64, float64 were all converted to float64 by StandardScaler.\n",
      "  return self.partial_fit(X, y)\n",
      "C:\\Users\\DELL\\Anaconda32a\\lib\\site-packages\\sklearn\\base.py:467: DataConversionWarning: Data with input dtype int64, float64 were all converted to float64 by StandardScaler.\n",
      "  return self.fit(X, y, **fit_params).transform(X)\n",
      "C:\\Users\\DELL\\Anaconda32a\\lib\\site-packages\\sklearn\\pipeline.py:511: DataConversionWarning: Data with input dtype int64, float64 were all converted to float64 by StandardScaler.\n",
      "  Xt = transform.transform(Xt)\n",
      "C:\\Users\\DELL\\Anaconda32a\\lib\\site-packages\\sklearn\\pipeline.py:511: DataConversionWarning: Data with input dtype int64, float64 were all converted to float64 by StandardScaler.\n",
      "  Xt = transform.transform(Xt)\n",
      "C:\\Users\\DELL\\Anaconda32a\\lib\\site-packages\\sklearn\\preprocessing\\data.py:645: DataConversionWarning: Data with input dtype int64, float64 were all converted to float64 by StandardScaler.\n",
      "  return self.partial_fit(X, y)\n",
      "C:\\Users\\DELL\\Anaconda32a\\lib\\site-packages\\sklearn\\base.py:467: DataConversionWarning: Data with input dtype int64, float64 were all converted to float64 by StandardScaler.\n",
      "  return self.fit(X, y, **fit_params).transform(X)\n",
      "C:\\Users\\DELL\\Anaconda32a\\lib\\site-packages\\sklearn\\pipeline.py:511: DataConversionWarning: Data with input dtype int64, float64 were all converted to float64 by StandardScaler.\n",
      "  Xt = transform.transform(Xt)\n",
      "C:\\Users\\DELL\\Anaconda32a\\lib\\site-packages\\sklearn\\pipeline.py:511: DataConversionWarning: Data with input dtype int64, float64 were all converted to float64 by StandardScaler.\n",
      "  Xt = transform.transform(Xt)\n",
      "C:\\Users\\DELL\\Anaconda32a\\lib\\site-packages\\sklearn\\preprocessing\\data.py:645: DataConversionWarning: Data with input dtype int64, float64 were all converted to float64 by StandardScaler.\n",
      "  return self.partial_fit(X, y)\n",
      "C:\\Users\\DELL\\Anaconda32a\\lib\\site-packages\\sklearn\\base.py:467: DataConversionWarning: Data with input dtype int64, float64 were all converted to float64 by StandardScaler.\n",
      "  return self.fit(X, y, **fit_params).transform(X)\n",
      "C:\\Users\\DELL\\Anaconda32a\\lib\\site-packages\\sklearn\\pipeline.py:511: DataConversionWarning: Data with input dtype int64, float64 were all converted to float64 by StandardScaler.\n",
      "  Xt = transform.transform(Xt)\n",
      "C:\\Users\\DELL\\Anaconda32a\\lib\\site-packages\\sklearn\\pipeline.py:511: DataConversionWarning: Data with input dtype int64, float64 were all converted to float64 by StandardScaler.\n",
      "  Xt = transform.transform(Xt)\n",
      "C:\\Users\\DELL\\Anaconda32a\\lib\\site-packages\\sklearn\\preprocessing\\data.py:645: DataConversionWarning: Data with input dtype int64, float64 were all converted to float64 by StandardScaler.\n",
      "  return self.partial_fit(X, y)\n",
      "C:\\Users\\DELL\\Anaconda32a\\lib\\site-packages\\sklearn\\base.py:467: DataConversionWarning: Data with input dtype int64, float64 were all converted to float64 by StandardScaler.\n",
      "  return self.fit(X, y, **fit_params).transform(X)\n",
      "C:\\Users\\DELL\\Anaconda32a\\lib\\site-packages\\sklearn\\pipeline.py:511: DataConversionWarning: Data with input dtype int64, float64 were all converted to float64 by StandardScaler.\n",
      "  Xt = transform.transform(Xt)\n",
      "C:\\Users\\DELL\\Anaconda32a\\lib\\site-packages\\sklearn\\pipeline.py:511: DataConversionWarning: Data with input dtype int64, float64 were all converted to float64 by StandardScaler.\n",
      "  Xt = transform.transform(Xt)\n",
      "C:\\Users\\DELL\\Anaconda32a\\lib\\site-packages\\sklearn\\preprocessing\\data.py:645: DataConversionWarning: Data with input dtype int64, float64 were all converted to float64 by StandardScaler.\n",
      "  return self.partial_fit(X, y)\n",
      "C:\\Users\\DELL\\Anaconda32a\\lib\\site-packages\\sklearn\\base.py:467: DataConversionWarning: Data with input dtype int64, float64 were all converted to float64 by StandardScaler.\n",
      "  return self.fit(X, y, **fit_params).transform(X)\n",
      "C:\\Users\\DELL\\Anaconda32a\\lib\\site-packages\\sklearn\\pipeline.py:511: DataConversionWarning: Data with input dtype int64, float64 were all converted to float64 by StandardScaler.\n",
      "  Xt = transform.transform(Xt)\n",
      "C:\\Users\\DELL\\Anaconda32a\\lib\\site-packages\\sklearn\\pipeline.py:511: DataConversionWarning: Data with input dtype int64, float64 were all converted to float64 by StandardScaler.\n",
      "  Xt = transform.transform(Xt)\n",
      "C:\\Users\\DELL\\Anaconda32a\\lib\\site-packages\\sklearn\\preprocessing\\data.py:645: DataConversionWarning: Data with input dtype int64, float64 were all converted to float64 by StandardScaler.\n",
      "  return self.partial_fit(X, y)\n",
      "C:\\Users\\DELL\\Anaconda32a\\lib\\site-packages\\sklearn\\base.py:467: DataConversionWarning: Data with input dtype int64, float64 were all converted to float64 by StandardScaler.\n",
      "  return self.fit(X, y, **fit_params).transform(X)\n",
      "C:\\Users\\DELL\\Anaconda32a\\lib\\site-packages\\sklearn\\pipeline.py:511: DataConversionWarning: Data with input dtype int64, float64 were all converted to float64 by StandardScaler.\n",
      "  Xt = transform.transform(Xt)\n",
      "C:\\Users\\DELL\\Anaconda32a\\lib\\site-packages\\sklearn\\pipeline.py:511: DataConversionWarning: Data with input dtype int64, float64 were all converted to float64 by StandardScaler.\n",
      "  Xt = transform.transform(Xt)\n",
      "C:\\Users\\DELL\\Anaconda32a\\lib\\site-packages\\sklearn\\preprocessing\\data.py:645: DataConversionWarning: Data with input dtype int64, float64 were all converted to float64 by StandardScaler.\n",
      "  return self.partial_fit(X, y)\n",
      "C:\\Users\\DELL\\Anaconda32a\\lib\\site-packages\\sklearn\\base.py:467: DataConversionWarning: Data with input dtype int64, float64 were all converted to float64 by StandardScaler.\n",
      "  return self.fit(X, y, **fit_params).transform(X)\n",
      "C:\\Users\\DELL\\Anaconda32a\\lib\\site-packages\\sklearn\\pipeline.py:511: DataConversionWarning: Data with input dtype int64, float64 were all converted to float64 by StandardScaler.\n",
      "  Xt = transform.transform(Xt)\n",
      "C:\\Users\\DELL\\Anaconda32a\\lib\\site-packages\\sklearn\\pipeline.py:511: DataConversionWarning: Data with input dtype int64, float64 were all converted to float64 by StandardScaler.\n",
      "  Xt = transform.transform(Xt)\n",
      "C:\\Users\\DELL\\Anaconda32a\\lib\\site-packages\\sklearn\\preprocessing\\data.py:645: DataConversionWarning: Data with input dtype int64, float64 were all converted to float64 by StandardScaler.\n",
      "  return self.partial_fit(X, y)\n",
      "C:\\Users\\DELL\\Anaconda32a\\lib\\site-packages\\sklearn\\base.py:467: DataConversionWarning: Data with input dtype int64, float64 were all converted to float64 by StandardScaler.\n",
      "  return self.fit(X, y, **fit_params).transform(X)\n",
      "C:\\Users\\DELL\\Anaconda32a\\lib\\site-packages\\sklearn\\pipeline.py:511: DataConversionWarning: Data with input dtype int64, float64 were all converted to float64 by StandardScaler.\n",
      "  Xt = transform.transform(Xt)\n",
      "C:\\Users\\DELL\\Anaconda32a\\lib\\site-packages\\sklearn\\pipeline.py:511: DataConversionWarning: Data with input dtype int64, float64 were all converted to float64 by StandardScaler.\n",
      "  Xt = transform.transform(Xt)\n",
      "C:\\Users\\DELL\\Anaconda32a\\lib\\site-packages\\sklearn\\preprocessing\\data.py:645: DataConversionWarning: Data with input dtype int64, float64 were all converted to float64 by StandardScaler.\n",
      "  return self.partial_fit(X, y)\n",
      "C:\\Users\\DELL\\Anaconda32a\\lib\\site-packages\\sklearn\\base.py:467: DataConversionWarning: Data with input dtype int64, float64 were all converted to float64 by StandardScaler.\n",
      "  return self.fit(X, y, **fit_params).transform(X)\n",
      "C:\\Users\\DELL\\Anaconda32a\\lib\\site-packages\\sklearn\\pipeline.py:511: DataConversionWarning: Data with input dtype int64, float64 were all converted to float64 by StandardScaler.\n",
      "  Xt = transform.transform(Xt)\n",
      "C:\\Users\\DELL\\Anaconda32a\\lib\\site-packages\\sklearn\\pipeline.py:511: DataConversionWarning: Data with input dtype int64, float64 were all converted to float64 by StandardScaler.\n",
      "  Xt = transform.transform(Xt)\n",
      "C:\\Users\\DELL\\Anaconda32a\\lib\\site-packages\\sklearn\\preprocessing\\data.py:645: DataConversionWarning: Data with input dtype int64, float64 were all converted to float64 by StandardScaler.\n",
      "  return self.partial_fit(X, y)\n",
      "C:\\Users\\DELL\\Anaconda32a\\lib\\site-packages\\sklearn\\base.py:467: DataConversionWarning: Data with input dtype int64, float64 were all converted to float64 by StandardScaler.\n",
      "  return self.fit(X, y, **fit_params).transform(X)\n",
      "C:\\Users\\DELL\\Anaconda32a\\lib\\site-packages\\sklearn\\pipeline.py:511: DataConversionWarning: Data with input dtype int64, float64 were all converted to float64 by StandardScaler.\n",
      "  Xt = transform.transform(Xt)\n",
      "C:\\Users\\DELL\\Anaconda32a\\lib\\site-packages\\sklearn\\pipeline.py:511: DataConversionWarning: Data with input dtype int64, float64 were all converted to float64 by StandardScaler.\n",
      "  Xt = transform.transform(Xt)\n",
      "C:\\Users\\DELL\\Anaconda32a\\lib\\site-packages\\sklearn\\preprocessing\\data.py:645: DataConversionWarning: Data with input dtype int64, float64 were all converted to float64 by StandardScaler.\n",
      "  return self.partial_fit(X, y)\n",
      "C:\\Users\\DELL\\Anaconda32a\\lib\\site-packages\\sklearn\\base.py:467: DataConversionWarning: Data with input dtype int64, float64 were all converted to float64 by StandardScaler.\n",
      "  return self.fit(X, y, **fit_params).transform(X)\n",
      "C:\\Users\\DELL\\Anaconda32a\\lib\\site-packages\\sklearn\\pipeline.py:511: DataConversionWarning: Data with input dtype int64, float64 were all converted to float64 by StandardScaler.\n",
      "  Xt = transform.transform(Xt)\n",
      "C:\\Users\\DELL\\Anaconda32a\\lib\\site-packages\\sklearn\\pipeline.py:511: DataConversionWarning: Data with input dtype int64, float64 were all converted to float64 by StandardScaler.\n",
      "  Xt = transform.transform(Xt)\n",
      "C:\\Users\\DELL\\Anaconda32a\\lib\\site-packages\\sklearn\\preprocessing\\data.py:645: DataConversionWarning: Data with input dtype int64, float64 were all converted to float64 by StandardScaler.\n",
      "  return self.partial_fit(X, y)\n",
      "C:\\Users\\DELL\\Anaconda32a\\lib\\site-packages\\sklearn\\base.py:467: DataConversionWarning: Data with input dtype int64, float64 were all converted to float64 by StandardScaler.\n",
      "  return self.fit(X, y, **fit_params).transform(X)\n",
      "C:\\Users\\DELL\\Anaconda32a\\lib\\site-packages\\sklearn\\pipeline.py:511: DataConversionWarning: Data with input dtype int64, float64 were all converted to float64 by StandardScaler.\n",
      "  Xt = transform.transform(Xt)\n",
      "C:\\Users\\DELL\\Anaconda32a\\lib\\site-packages\\sklearn\\pipeline.py:511: DataConversionWarning: Data with input dtype int64, float64 were all converted to float64 by StandardScaler.\n",
      "  Xt = transform.transform(Xt)\n",
      "C:\\Users\\DELL\\Anaconda32a\\lib\\site-packages\\sklearn\\preprocessing\\data.py:645: DataConversionWarning: Data with input dtype int64, float64 were all converted to float64 by StandardScaler.\n",
      "  return self.partial_fit(X, y)\n",
      "C:\\Users\\DELL\\Anaconda32a\\lib\\site-packages\\sklearn\\base.py:467: DataConversionWarning: Data with input dtype int64, float64 were all converted to float64 by StandardScaler.\n",
      "  return self.fit(X, y, **fit_params).transform(X)\n",
      "C:\\Users\\DELL\\Anaconda32a\\lib\\site-packages\\sklearn\\pipeline.py:511: DataConversionWarning: Data with input dtype int64, float64 were all converted to float64 by StandardScaler.\n",
      "  Xt = transform.transform(Xt)\n",
      "C:\\Users\\DELL\\Anaconda32a\\lib\\site-packages\\sklearn\\pipeline.py:511: DataConversionWarning: Data with input dtype int64, float64 were all converted to float64 by StandardScaler.\n",
      "  Xt = transform.transform(Xt)\n",
      "C:\\Users\\DELL\\Anaconda32a\\lib\\site-packages\\sklearn\\preprocessing\\data.py:645: DataConversionWarning: Data with input dtype int64, float64 were all converted to float64 by StandardScaler.\n",
      "  return self.partial_fit(X, y)\n",
      "C:\\Users\\DELL\\Anaconda32a\\lib\\site-packages\\sklearn\\base.py:467: DataConversionWarning: Data with input dtype int64, float64 were all converted to float64 by StandardScaler.\n",
      "  return self.fit(X, y, **fit_params).transform(X)\n",
      "C:\\Users\\DELL\\Anaconda32a\\lib\\site-packages\\sklearn\\pipeline.py:511: DataConversionWarning: Data with input dtype int64, float64 were all converted to float64 by StandardScaler.\n",
      "  Xt = transform.transform(Xt)\n",
      "C:\\Users\\DELL\\Anaconda32a\\lib\\site-packages\\sklearn\\pipeline.py:511: DataConversionWarning: Data with input dtype int64, float64 were all converted to float64 by StandardScaler.\n",
      "  Xt = transform.transform(Xt)\n",
      "C:\\Users\\DELL\\Anaconda32a\\lib\\site-packages\\sklearn\\preprocessing\\data.py:645: DataConversionWarning: Data with input dtype int64, float64 were all converted to float64 by StandardScaler.\n",
      "  return self.partial_fit(X, y)\n",
      "C:\\Users\\DELL\\Anaconda32a\\lib\\site-packages\\sklearn\\base.py:467: DataConversionWarning: Data with input dtype int64, float64 were all converted to float64 by StandardScaler.\n",
      "  return self.fit(X, y, **fit_params).transform(X)\n",
      "C:\\Users\\DELL\\Anaconda32a\\lib\\site-packages\\sklearn\\pipeline.py:511: DataConversionWarning: Data with input dtype int64, float64 were all converted to float64 by StandardScaler.\n",
      "  Xt = transform.transform(Xt)\n",
      "C:\\Users\\DELL\\Anaconda32a\\lib\\site-packages\\sklearn\\pipeline.py:511: DataConversionWarning: Data with input dtype int64, float64 were all converted to float64 by StandardScaler.\n",
      "  Xt = transform.transform(Xt)\n",
      "C:\\Users\\DELL\\Anaconda32a\\lib\\site-packages\\sklearn\\preprocessing\\data.py:645: DataConversionWarning: Data with input dtype int64, float64 were all converted to float64 by StandardScaler.\n",
      "  return self.partial_fit(X, y)\n",
      "C:\\Users\\DELL\\Anaconda32a\\lib\\site-packages\\sklearn\\base.py:467: DataConversionWarning: Data with input dtype int64, float64 were all converted to float64 by StandardScaler.\n",
      "  return self.fit(X, y, **fit_params).transform(X)\n",
      "C:\\Users\\DELL\\Anaconda32a\\lib\\site-packages\\sklearn\\pipeline.py:511: DataConversionWarning: Data with input dtype int64, float64 were all converted to float64 by StandardScaler.\n",
      "  Xt = transform.transform(Xt)\n",
      "C:\\Users\\DELL\\Anaconda32a\\lib\\site-packages\\sklearn\\pipeline.py:511: DataConversionWarning: Data with input dtype int64, float64 were all converted to float64 by StandardScaler.\n",
      "  Xt = transform.transform(Xt)\n",
      "C:\\Users\\DELL\\Anaconda32a\\lib\\site-packages\\sklearn\\preprocessing\\data.py:645: DataConversionWarning: Data with input dtype int64, float64 were all converted to float64 by StandardScaler.\n",
      "  return self.partial_fit(X, y)\n",
      "C:\\Users\\DELL\\Anaconda32a\\lib\\site-packages\\sklearn\\base.py:467: DataConversionWarning: Data with input dtype int64, float64 were all converted to float64 by StandardScaler.\n",
      "  return self.fit(X, y, **fit_params).transform(X)\n",
      "C:\\Users\\DELL\\Anaconda32a\\lib\\site-packages\\sklearn\\pipeline.py:511: DataConversionWarning: Data with input dtype int64, float64 were all converted to float64 by StandardScaler.\n",
      "  Xt = transform.transform(Xt)\n",
      "C:\\Users\\DELL\\Anaconda32a\\lib\\site-packages\\sklearn\\pipeline.py:511: DataConversionWarning: Data with input dtype int64, float64 were all converted to float64 by StandardScaler.\n",
      "  Xt = transform.transform(Xt)\n",
      "C:\\Users\\DELL\\Anaconda32a\\lib\\site-packages\\sklearn\\preprocessing\\data.py:645: DataConversionWarning: Data with input dtype int64, float64 were all converted to float64 by StandardScaler.\n",
      "  return self.partial_fit(X, y)\n",
      "C:\\Users\\DELL\\Anaconda32a\\lib\\site-packages\\sklearn\\base.py:467: DataConversionWarning: Data with input dtype int64, float64 were all converted to float64 by StandardScaler.\n",
      "  return self.fit(X, y, **fit_params).transform(X)\n",
      "C:\\Users\\DELL\\Anaconda32a\\lib\\site-packages\\sklearn\\pipeline.py:511: DataConversionWarning: Data with input dtype int64, float64 were all converted to float64 by StandardScaler.\n",
      "  Xt = transform.transform(Xt)\n",
      "C:\\Users\\DELL\\Anaconda32a\\lib\\site-packages\\sklearn\\pipeline.py:511: DataConversionWarning: Data with input dtype int64, float64 were all converted to float64 by StandardScaler.\n",
      "  Xt = transform.transform(Xt)\n",
      "C:\\Users\\DELL\\Anaconda32a\\lib\\site-packages\\sklearn\\preprocessing\\data.py:645: DataConversionWarning: Data with input dtype int64, float64 were all converted to float64 by StandardScaler.\n",
      "  return self.partial_fit(X, y)\n",
      "C:\\Users\\DELL\\Anaconda32a\\lib\\site-packages\\sklearn\\base.py:467: DataConversionWarning: Data with input dtype int64, float64 were all converted to float64 by StandardScaler.\n",
      "  return self.fit(X, y, **fit_params).transform(X)\n",
      "C:\\Users\\DELL\\Anaconda32a\\lib\\site-packages\\sklearn\\pipeline.py:511: DataConversionWarning: Data with input dtype int64, float64 were all converted to float64 by StandardScaler.\n",
      "  Xt = transform.transform(Xt)\n",
      "C:\\Users\\DELL\\Anaconda32a\\lib\\site-packages\\sklearn\\pipeline.py:511: DataConversionWarning: Data with input dtype int64, float64 were all converted to float64 by StandardScaler.\n",
      "  Xt = transform.transform(Xt)\n",
      "C:\\Users\\DELL\\Anaconda32a\\lib\\site-packages\\sklearn\\preprocessing\\data.py:645: DataConversionWarning: Data with input dtype int64, float64 were all converted to float64 by StandardScaler.\n",
      "  return self.partial_fit(X, y)\n",
      "C:\\Users\\DELL\\Anaconda32a\\lib\\site-packages\\sklearn\\base.py:467: DataConversionWarning: Data with input dtype int64, float64 were all converted to float64 by StandardScaler.\n",
      "  return self.fit(X, y, **fit_params).transform(X)\n",
      "C:\\Users\\DELL\\Anaconda32a\\lib\\site-packages\\sklearn\\pipeline.py:511: DataConversionWarning: Data with input dtype int64, float64 were all converted to float64 by StandardScaler.\n",
      "  Xt = transform.transform(Xt)\n",
      "C:\\Users\\DELL\\Anaconda32a\\lib\\site-packages\\sklearn\\pipeline.py:511: DataConversionWarning: Data with input dtype int64, float64 were all converted to float64 by StandardScaler.\n",
      "  Xt = transform.transform(Xt)\n",
      "C:\\Users\\DELL\\Anaconda32a\\lib\\site-packages\\sklearn\\preprocessing\\data.py:645: DataConversionWarning: Data with input dtype int64, float64 were all converted to float64 by StandardScaler.\n",
      "  return self.partial_fit(X, y)\n",
      "C:\\Users\\DELL\\Anaconda32a\\lib\\site-packages\\sklearn\\base.py:467: DataConversionWarning: Data with input dtype int64, float64 were all converted to float64 by StandardScaler.\n",
      "  return self.fit(X, y, **fit_params).transform(X)\n",
      "C:\\Users\\DELL\\Anaconda32a\\lib\\site-packages\\sklearn\\pipeline.py:511: DataConversionWarning: Data with input dtype int64, float64 were all converted to float64 by StandardScaler.\n",
      "  Xt = transform.transform(Xt)\n",
      "C:\\Users\\DELL\\Anaconda32a\\lib\\site-packages\\sklearn\\pipeline.py:511: DataConversionWarning: Data with input dtype int64, float64 were all converted to float64 by StandardScaler.\n",
      "  Xt = transform.transform(Xt)\n",
      "C:\\Users\\DELL\\Anaconda32a\\lib\\site-packages\\sklearn\\preprocessing\\data.py:645: DataConversionWarning: Data with input dtype int64, float64 were all converted to float64 by StandardScaler.\n",
      "  return self.partial_fit(X, y)\n",
      "C:\\Users\\DELL\\Anaconda32a\\lib\\site-packages\\sklearn\\base.py:467: DataConversionWarning: Data with input dtype int64, float64 were all converted to float64 by StandardScaler.\n",
      "  return self.fit(X, y, **fit_params).transform(X)\n",
      "C:\\Users\\DELL\\Anaconda32a\\lib\\site-packages\\sklearn\\pipeline.py:511: DataConversionWarning: Data with input dtype int64, float64 were all converted to float64 by StandardScaler.\n",
      "  Xt = transform.transform(Xt)\n",
      "C:\\Users\\DELL\\Anaconda32a\\lib\\site-packages\\sklearn\\pipeline.py:511: DataConversionWarning: Data with input dtype int64, float64 were all converted to float64 by StandardScaler.\n",
      "  Xt = transform.transform(Xt)\n",
      "C:\\Users\\DELL\\Anaconda32a\\lib\\site-packages\\sklearn\\preprocessing\\data.py:645: DataConversionWarning: Data with input dtype int64, float64 were all converted to float64 by StandardScaler.\n",
      "  return self.partial_fit(X, y)\n",
      "C:\\Users\\DELL\\Anaconda32a\\lib\\site-packages\\sklearn\\base.py:467: DataConversionWarning: Data with input dtype int64, float64 were all converted to float64 by StandardScaler.\n",
      "  return self.fit(X, y, **fit_params).transform(X)\n",
      "C:\\Users\\DELL\\Anaconda32a\\lib\\site-packages\\sklearn\\pipeline.py:511: DataConversionWarning: Data with input dtype int64, float64 were all converted to float64 by StandardScaler.\n",
      "  Xt = transform.transform(Xt)\n",
      "C:\\Users\\DELL\\Anaconda32a\\lib\\site-packages\\sklearn\\pipeline.py:511: DataConversionWarning: Data with input dtype int64, float64 were all converted to float64 by StandardScaler.\n",
      "  Xt = transform.transform(Xt)\n",
      "C:\\Users\\DELL\\Anaconda32a\\lib\\site-packages\\sklearn\\preprocessing\\data.py:645: DataConversionWarning: Data with input dtype int64, float64 were all converted to float64 by StandardScaler.\n",
      "  return self.partial_fit(X, y)\n",
      "C:\\Users\\DELL\\Anaconda32a\\lib\\site-packages\\sklearn\\base.py:467: DataConversionWarning: Data with input dtype int64, float64 were all converted to float64 by StandardScaler.\n",
      "  return self.fit(X, y, **fit_params).transform(X)\n",
      "C:\\Users\\DELL\\Anaconda32a\\lib\\site-packages\\sklearn\\pipeline.py:511: DataConversionWarning: Data with input dtype int64, float64 were all converted to float64 by StandardScaler.\n",
      "  Xt = transform.transform(Xt)\n",
      "C:\\Users\\DELL\\Anaconda32a\\lib\\site-packages\\sklearn\\pipeline.py:511: DataConversionWarning: Data with input dtype int64, float64 were all converted to float64 by StandardScaler.\n",
      "  Xt = transform.transform(Xt)\n",
      "C:\\Users\\DELL\\Anaconda32a\\lib\\site-packages\\sklearn\\preprocessing\\data.py:645: DataConversionWarning: Data with input dtype int64, float64 were all converted to float64 by StandardScaler.\n",
      "  return self.partial_fit(X, y)\n",
      "C:\\Users\\DELL\\Anaconda32a\\lib\\site-packages\\sklearn\\base.py:467: DataConversionWarning: Data with input dtype int64, float64 were all converted to float64 by StandardScaler.\n",
      "  return self.fit(X, y, **fit_params).transform(X)\n",
      "C:\\Users\\DELL\\Anaconda32a\\lib\\site-packages\\sklearn\\pipeline.py:511: DataConversionWarning: Data with input dtype int64, float64 were all converted to float64 by StandardScaler.\n",
      "  Xt = transform.transform(Xt)\n",
      "C:\\Users\\DELL\\Anaconda32a\\lib\\site-packages\\sklearn\\pipeline.py:511: DataConversionWarning: Data with input dtype int64, float64 were all converted to float64 by StandardScaler.\n",
      "  Xt = transform.transform(Xt)\n",
      "C:\\Users\\DELL\\Anaconda32a\\lib\\site-packages\\sklearn\\preprocessing\\data.py:645: DataConversionWarning: Data with input dtype int64, float64 were all converted to float64 by StandardScaler.\n",
      "  return self.partial_fit(X, y)\n",
      "C:\\Users\\DELL\\Anaconda32a\\lib\\site-packages\\sklearn\\base.py:467: DataConversionWarning: Data with input dtype int64, float64 were all converted to float64 by StandardScaler.\n",
      "  return self.fit(X, y, **fit_params).transform(X)\n",
      "C:\\Users\\DELL\\Anaconda32a\\lib\\site-packages\\sklearn\\pipeline.py:511: DataConversionWarning: Data with input dtype int64, float64 were all converted to float64 by StandardScaler.\n",
      "  Xt = transform.transform(Xt)\n",
      "C:\\Users\\DELL\\Anaconda32a\\lib\\site-packages\\sklearn\\pipeline.py:511: DataConversionWarning: Data with input dtype int64, float64 were all converted to float64 by StandardScaler.\n",
      "  Xt = transform.transform(Xt)\n",
      "C:\\Users\\DELL\\Anaconda32a\\lib\\site-packages\\sklearn\\preprocessing\\data.py:645: DataConversionWarning: Data with input dtype int64, float64 were all converted to float64 by StandardScaler.\n",
      "  return self.partial_fit(X, y)\n",
      "C:\\Users\\DELL\\Anaconda32a\\lib\\site-packages\\sklearn\\base.py:467: DataConversionWarning: Data with input dtype int64, float64 were all converted to float64 by StandardScaler.\n",
      "  return self.fit(X, y, **fit_params).transform(X)\n",
      "C:\\Users\\DELL\\Anaconda32a\\lib\\site-packages\\sklearn\\pipeline.py:511: DataConversionWarning: Data with input dtype int64, float64 were all converted to float64 by StandardScaler.\n",
      "  Xt = transform.transform(Xt)\n",
      "C:\\Users\\DELL\\Anaconda32a\\lib\\site-packages\\sklearn\\pipeline.py:511: DataConversionWarning: Data with input dtype int64, float64 were all converted to float64 by StandardScaler.\n",
      "  Xt = transform.transform(Xt)\n",
      "C:\\Users\\DELL\\Anaconda32a\\lib\\site-packages\\sklearn\\preprocessing\\data.py:645: DataConversionWarning: Data with input dtype int64, float64 were all converted to float64 by StandardScaler.\n",
      "  return self.partial_fit(X, y)\n",
      "C:\\Users\\DELL\\Anaconda32a\\lib\\site-packages\\sklearn\\base.py:467: DataConversionWarning: Data with input dtype int64, float64 were all converted to float64 by StandardScaler.\n",
      "  return self.fit(X, y, **fit_params).transform(X)\n",
      "C:\\Users\\DELL\\Anaconda32a\\lib\\site-packages\\sklearn\\pipeline.py:511: DataConversionWarning: Data with input dtype int64, float64 were all converted to float64 by StandardScaler.\n",
      "  Xt = transform.transform(Xt)\n",
      "C:\\Users\\DELL\\Anaconda32a\\lib\\site-packages\\sklearn\\pipeline.py:511: DataConversionWarning: Data with input dtype int64, float64 were all converted to float64 by StandardScaler.\n",
      "  Xt = transform.transform(Xt)\n",
      "[Parallel(n_jobs=1)]: Done  50 out of  50 | elapsed:    6.1s finished\n",
      "C:\\Users\\DELL\\Anaconda32a\\lib\\site-packages\\sklearn\\model_selection\\_search.py:841: DeprecationWarning: The default of the `iid` parameter will change from True to False in version 0.22 and will be removed in 0.24. This will change numeric results when test-set sizes are unequal.\n",
      "  DeprecationWarning)\n",
      "C:\\Users\\DELL\\Anaconda32a\\lib\\site-packages\\sklearn\\preprocessing\\data.py:645: DataConversionWarning: Data with input dtype int64, float64 were all converted to float64 by StandardScaler.\n",
      "  return self.partial_fit(X, y)\n",
      "C:\\Users\\DELL\\Anaconda32a\\lib\\site-packages\\sklearn\\base.py:467: DataConversionWarning: Data with input dtype int64, float64 were all converted to float64 by StandardScaler.\n",
      "  return self.fit(X, y, **fit_params).transform(X)\n"
     ]
    }
   ],
   "source": [
    "# search over possible values of k\n",
    "# create grid search gridsearchcv implements a \"fit\" and a \"score\" method\n",
    "# the parameters of the estimator used to apply these methods are optimised by cross-validated grid\n",
    "clf=GridSearchCV(pipe,search_space,cv=5,verbose=1).fit(train[features],y)"
   ]
  },
  {
   "cell_type": "code",
   "execution_count": 116,
   "metadata": {},
   "outputs": [
    {
     "data": {
      "text/plain": [
       "7"
      ]
     },
     "execution_count": 116,
     "metadata": {},
     "output_type": "execute_result"
    }
   ],
   "source": [
    "# view the best performing model \n",
    "# best neighborhood size (k)\n",
    "clf.best_estimator_.get_params()['knn__n_neighbors']"
   ]
  },
  {
   "cell_type": "raw",
   "metadata": {},
   "source": [
    "k-nearest neighbors classification\n",
    "k-nearest neighbors classifier (knn) is a simple  and powerful classification learner.\n",
    "KNN has three basic parts:\n",
    "1) yi : the class of anobservation (what we are trying to predict in the test data)\n",
    "2) Xi : the predictor /IVs/attributes of an observation\n",
    "3) k: a positive no. specified by the researcher k denotes the no. of observations closest to a particular\n",
    "observation that defines its neighbourhood ."
   ]
  },
  {
   "cell_type": "code",
   "execution_count": 117,
   "metadata": {},
   "outputs": [],
   "source": [
    "# importing modules\n",
    "import pandas as pd\n",
    "from sklearn import neighbors\n",
    "import numpy as np\n",
    "%matplotlib inline\n",
    "import seaborn"
   ]
  },
  {
   "cell_type": "code",
   "execution_count": 118,
   "metadata": {},
   "outputs": [
    {
     "name": "stdout",
     "output_type": "stream",
     "text": [
      "[[ 5849.           134.22105263]\n",
      " [ 4583.           128.        ]\n",
      " [ 3000.            66.        ]\n",
      " [ 2583.           120.        ]\n",
      " [ 6000.           141.        ]\n",
      " [ 5417.           267.        ]\n",
      " [ 2333.            95.        ]\n",
      " [ 3036.           158.        ]\n",
      " [ 4006.           168.        ]\n",
      " [12841.           349.        ]\n",
      " [ 3200.            70.        ]\n",
      " [ 2500.           109.        ]\n",
      " [ 3073.           200.        ]\n",
      " [ 1853.           114.        ]\n",
      " [ 1299.            17.        ]\n",
      " [ 4950.           125.        ]\n",
      " [ 3596.           100.        ]\n",
      " [ 3510.            76.        ]\n",
      " [ 4887.           133.        ]\n",
      " [ 2600.           115.        ]\n",
      " [ 7660.           104.        ]\n",
      " [ 5955.           315.        ]\n",
      " [ 2600.           116.        ]\n",
      " [ 3365.           112.        ]\n",
      " [ 3717.           151.        ]\n",
      " [ 9560.           191.        ]\n",
      " [ 2799.           122.        ]\n",
      " [ 4226.           110.        ]\n",
      " [ 1442.            35.        ]\n",
      " [ 3750.           120.        ]\n",
      " [ 4166.           201.        ]\n",
      " [ 3167.            74.        ]\n",
      " [ 4692.           106.        ]\n",
      " [ 3500.           114.        ]\n",
      " [12500.           320.        ]\n",
      " [ 2275.           134.22105263]\n",
      " [ 1828.           100.        ]\n",
      " [ 3667.           144.        ]\n",
      " [ 4166.           184.        ]\n",
      " [ 3748.           110.        ]\n",
      " [ 3600.            80.        ]\n",
      " [ 1800.            47.        ]\n",
      " [ 2400.            75.        ]\n",
      " [ 3941.           134.        ]\n",
      " [ 4695.            96.        ]\n",
      " [ 3410.            88.        ]\n",
      " [ 5649.            44.        ]\n",
      " [ 5821.           144.        ]\n",
      " [ 2645.           120.        ]\n",
      " [ 4000.           144.        ]\n",
      " [ 1928.           100.        ]\n",
      " [ 3086.           120.        ]\n",
      " [ 4230.           112.        ]\n",
      " [ 4616.           134.        ]\n",
      " [11500.           286.        ]\n",
      " [ 2708.            97.        ]\n",
      " [ 2132.            96.        ]\n",
      " [ 3366.           135.        ]\n",
      " [ 8080.           180.        ]\n",
      " [ 3357.           144.        ]\n",
      " [ 2500.           120.        ]\n",
      " [ 3029.            99.        ]\n",
      " [ 2609.           165.        ]\n",
      " [ 4945.           134.22105263]\n",
      " [ 4166.           116.        ]\n",
      " [ 5726.           258.        ]\n",
      " [ 3200.           126.        ]\n",
      " [10750.           312.        ]\n",
      " [ 7100.           125.        ]\n",
      " [ 4300.           136.        ]\n",
      " [ 3208.           172.        ]\n",
      " [ 1875.            97.        ]\n",
      " [ 3500.            81.        ]\n",
      " [ 4755.            95.        ]\n",
      " [ 5266.           187.        ]\n",
      " [ 3750.           113.        ]\n",
      " [ 3750.           176.        ]\n",
      " [ 1000.           110.        ]\n",
      " [ 3167.           180.        ]\n",
      " [ 3333.           130.        ]\n",
      " [ 3846.           111.        ]\n",
      " [ 2395.           134.22105263]\n",
      " [ 1378.           167.        ]\n",
      " [ 6000.           265.        ]\n",
      " [ 3988.            50.        ]\n",
      " [ 2366.           136.        ]\n",
      " [ 3333.            99.        ]\n",
      " [ 2500.           104.        ]\n",
      " [ 8566.           210.        ]\n",
      " [ 5695.           175.        ]\n",
      " [ 2958.           131.        ]\n",
      " [ 6250.           188.        ]\n",
      " [ 3273.            81.        ]\n",
      " [ 4133.           122.        ]\n",
      " [ 3620.            25.        ]\n",
      " [ 6782.           134.22105263]\n",
      " [ 2484.           137.        ]\n",
      " [ 1977.            50.        ]\n",
      " [ 4188.           115.        ]\n",
      " [ 1759.           131.        ]]\n",
      "[1 0 1 1 1 1 1 0 1 0 1 1 1 0 1 1 1 0 0 1 0 1 0 0 0 1 1 1 0 1 0 0 0 1 0 1 0\n",
      " 1 1 1 0 1 1 1 1 1 1 1 0 1 1 1 0 0 0 1 1 0 1 1 1 1 0 0 0 0 0 1 1 0 1 1 1 0\n",
      " 1 0 0 0 0 1 1 1 0 0 1 1 1 1 1 1 1 1 1 1 1 0 1 1 1 1]\n"
     ]
    },
    {
     "name": "stderr",
     "output_type": "stream",
     "text": [
      "C:\\Users\\DELL\\Anaconda32a\\lib\\site-packages\\ipykernel_launcher.py:4: FutureWarning: Method .as_matrix will be removed in a future version. Use .values instead.\n",
      "  after removing the cwd from sys.path.\n"
     ]
    }
   ],
   "source": [
    "# convert data into np.arrays\n",
    "# the scikit-learn library requires the data be formatted\n",
    "# as a numpy array .Here we are doing that reformatting\n",
    "X= train.as_matrix(columns=['ApplicantIncome','LoanAmount'])\n",
    "y=np.array(train['Loan_Status'])\n",
    "print(X)\n",
    "print(y)"
   ]
  },
  {
   "cell_type": "code",
   "execution_count": 119,
   "metadata": {},
   "outputs": [],
   "source": [
    "# we shall train the knn learner using the parameter that an observation neifhbourhood\n",
    "# is its 3 closest neighbors, weights= uniform can be thought of as the voting system used\n",
    "clf=neighbors.KNeighborsClassifier(3,weights='uniform')"
   ]
  },
  {
   "cell_type": "code",
   "execution_count": 120,
   "metadata": {},
   "outputs": [
    {
     "name": "stdout",
     "output_type": "stream",
     "text": [
      "trained_model: KNeighborsClassifier(algorithm='auto', leaf_size=30, metric='minkowski',\n",
      "           metric_params=None, n_jobs=None, n_neighbors=3, p=2,\n",
      "           weights='uniform')\n"
     ]
    }
   ],
   "source": [
    "# to predict how well our model can predit the outcome\n",
    "trained_model= clf.fit(X,y)\n",
    "# print the trained model\n",
    "print(\"trained_model:\",trained_model)"
   ]
  },
  {
   "cell_type": "code",
   "execution_count": 121,
   "metadata": {},
   "outputs": [
    {
     "data": {
      "text/plain": [
       "array([1, 0, 1, 1, 1, 1, 1, 1, 1, 0, 0, 1, 1, 0, 0, 0, 1, 1, 0, 1, 1, 1,\n",
       "       1, 0, 0, 1, 1, 1, 0, 1, 0, 0, 0, 1, 0, 1, 0, 1, 0, 1, 1, 0, 1, 1,\n",
       "       0, 0, 1, 1, 0, 1, 1, 1, 1, 0, 0, 1, 1, 0, 1, 1, 1, 1, 0, 0, 1, 1,\n",
       "       1, 1, 0, 0, 0, 0, 1, 0, 1, 1, 0, 0, 0, 1, 1, 1, 0, 1, 1, 1, 1, 1,\n",
       "       1, 1, 1, 1, 1, 1, 1, 1, 1, 1, 1, 1], dtype=int64)"
      ]
     },
     "execution_count": 121,
     "metadata": {},
     "output_type": "execute_result"
    }
   ],
   "source": [
    "# apply the learner to the new, unclassified observation \n",
    "trained_model.predict(X)"
   ]
  },
  {
   "cell_type": "code",
   "execution_count": 122,
   "metadata": {},
   "outputs": [
    {
     "data": {
      "text/plain": [
       "array([[0.        , 1.        ],\n",
       "       [1.        , 0.        ],\n",
       "       [0.        , 1.        ],\n",
       "       [0.33333333, 0.66666667],\n",
       "       [0.33333333, 0.66666667],\n",
       "       [0.        , 1.        ],\n",
       "       [0.        , 1.        ],\n",
       "       [0.33333333, 0.66666667],\n",
       "       [0.        , 1.        ],\n",
       "       [1.        , 0.        ],\n",
       "       [0.66666667, 0.33333333],\n",
       "       [0.        , 1.        ],\n",
       "       [0.33333333, 0.66666667],\n",
       "       [0.66666667, 0.33333333],\n",
       "       [0.66666667, 0.33333333],\n",
       "       [0.66666667, 0.33333333],\n",
       "       [0.33333333, 0.66666667],\n",
       "       [0.33333333, 0.66666667],\n",
       "       [0.66666667, 0.33333333],\n",
       "       [0.33333333, 0.66666667],\n",
       "       [0.33333333, 0.66666667],\n",
       "       [0.33333333, 0.66666667],\n",
       "       [0.33333333, 0.66666667],\n",
       "       [0.66666667, 0.33333333],\n",
       "       [0.66666667, 0.33333333],\n",
       "       [0.        , 1.        ],\n",
       "       [0.33333333, 0.66666667],\n",
       "       [0.33333333, 0.66666667],\n",
       "       [0.66666667, 0.33333333],\n",
       "       [0.33333333, 0.66666667],\n",
       "       [0.66666667, 0.33333333],\n",
       "       [0.66666667, 0.33333333],\n",
       "       [0.66666667, 0.33333333],\n",
       "       [0.33333333, 0.66666667],\n",
       "       [1.        , 0.        ],\n",
       "       [0.        , 1.        ],\n",
       "       [0.66666667, 0.33333333],\n",
       "       [0.33333333, 0.66666667],\n",
       "       [0.66666667, 0.33333333],\n",
       "       [0.33333333, 0.66666667],\n",
       "       [0.33333333, 0.66666667],\n",
       "       [0.66666667, 0.33333333],\n",
       "       [0.        , 1.        ],\n",
       "       [0.        , 1.        ],\n",
       "       [0.66666667, 0.33333333],\n",
       "       [0.66666667, 0.33333333],\n",
       "       [0.        , 1.        ],\n",
       "       [0.        , 1.        ],\n",
       "       [0.66666667, 0.33333333],\n",
       "       [0.        , 1.        ],\n",
       "       [0.        , 1.        ],\n",
       "       [0.33333333, 0.66666667],\n",
       "       [0.33333333, 0.66666667],\n",
       "       [1.        , 0.        ],\n",
       "       [0.66666667, 0.33333333],\n",
       "       [0.33333333, 0.66666667],\n",
       "       [0.        , 1.        ],\n",
       "       [0.66666667, 0.33333333],\n",
       "       [0.33333333, 0.66666667],\n",
       "       [0.33333333, 0.66666667],\n",
       "       [0.        , 1.        ],\n",
       "       [0.33333333, 0.66666667],\n",
       "       [0.66666667, 0.33333333],\n",
       "       [0.66666667, 0.33333333],\n",
       "       [0.33333333, 0.66666667],\n",
       "       [0.33333333, 0.66666667],\n",
       "       [0.33333333, 0.66666667],\n",
       "       [0.33333333, 0.66666667],\n",
       "       [0.66666667, 0.33333333],\n",
       "       [0.66666667, 0.33333333],\n",
       "       [0.66666667, 0.33333333],\n",
       "       [0.66666667, 0.33333333],\n",
       "       [0.33333333, 0.66666667],\n",
       "       [0.66666667, 0.33333333],\n",
       "       [0.        , 1.        ],\n",
       "       [0.33333333, 0.66666667],\n",
       "       [0.66666667, 0.33333333],\n",
       "       [0.66666667, 0.33333333],\n",
       "       [0.66666667, 0.33333333],\n",
       "       [0.        , 1.        ],\n",
       "       [0.33333333, 0.66666667],\n",
       "       [0.        , 1.        ],\n",
       "       [0.66666667, 0.33333333],\n",
       "       [0.33333333, 0.66666667],\n",
       "       [0.        , 1.        ],\n",
       "       [0.        , 1.        ],\n",
       "       [0.33333333, 0.66666667],\n",
       "       [0.        , 1.        ],\n",
       "       [0.33333333, 0.66666667],\n",
       "       [0.33333333, 0.66666667],\n",
       "       [0.        , 1.        ],\n",
       "       [0.33333333, 0.66666667],\n",
       "       [0.        , 1.        ],\n",
       "       [0.33333333, 0.66666667],\n",
       "       [0.33333333, 0.66666667],\n",
       "       [0.33333333, 0.66666667],\n",
       "       [0.        , 1.        ],\n",
       "       [0.        , 1.        ],\n",
       "       [0.33333333, 0.66666667],\n",
       "       [0.33333333, 0.66666667]])"
      ]
     },
     "execution_count": 122,
     "metadata": {},
     "output_type": "execute_result"
    }
   ],
   "source": [
    "# we can even look at the possibilities the learner assigned to each class\n",
    "trained_model.predict_proba(X)"
   ]
  },
  {
   "cell_type": "code",
   "execution_count": 123,
   "metadata": {},
   "outputs": [
    {
     "data": {
      "text/plain": [
       "0.78"
      ]
     },
     "execution_count": 123,
     "metadata": {},
     "output_type": "execute_result"
    }
   ],
   "source": [
    "# view the model's score\n",
    "# how good is our trained model compared to our training model?\n",
    "k=trained_model.score(X,y)\n",
    "k"
   ]
  },
  {
   "cell_type": "markdown",
   "metadata": {},
   "source": [
    "### Logistic Regression"
   ]
  },
  {
   "cell_type": "code",
   "execution_count": 124,
   "metadata": {},
   "outputs": [],
   "source": [
    "# Logistic regression is a statistical method for analyzing a \n",
    "# dataset in which there are one or more independent variables\n",
    "# that determine an outcome. The outcome is measured with a \n",
    "# dichotomous variable (in which there are only two possible\n",
    "# outcomes)."
   ]
  },
  {
   "cell_type": "code",
   "execution_count": 125,
   "metadata": {},
   "outputs": [],
   "source": [
    "import numpy as np\n",
    "import pandas as pd\n",
    "import matplotlib.pyplot as plt\n",
    "%matplotlib inline\n",
    "import seaborn as sns"
   ]
  },
  {
   "cell_type": "code",
   "execution_count": 126,
   "metadata": {},
   "outputs": [],
   "source": [
    "# guasian curve means that the predictions are right for the data set"
   ]
  },
  {
   "cell_type": "code",
   "execution_count": 127,
   "metadata": {},
   "outputs": [],
   "source": [
    "# importing the module\n",
    "from sklearn.model_selection import train_test_split"
   ]
  },
  {
   "cell_type": "code",
   "execution_count": 128,
   "metadata": {},
   "outputs": [
    {
     "name": "stdout",
     "output_type": "stream",
     "text": [
      "70\n",
      "30\n"
     ]
    }
   ],
   "source": [
    "# droping the outcome column\n",
    "X=train.drop(['Loan_Status'],axis=1)\n",
    "y=train['Loan_Status']\n",
    "\n",
    "# splitting the dataset\n",
    "x_train,x_test,y_train,y_test=train_test_split(X,y,test_size=0.30,random_state=101)\n",
    " \n",
    "# print the value\n",
    "print(len(y_train))\n",
    "print(len(y_test))"
   ]
  },
  {
   "cell_type": "code",
   "execution_count": 129,
   "metadata": {},
   "outputs": [],
   "source": [
    "# impoet module\n",
    "from sklearn.linear_model import LogisticRegression"
   ]
  },
  {
   "cell_type": "code",
   "execution_count": 130,
   "metadata": {},
   "outputs": [
    {
     "name": "stderr",
     "output_type": "stream",
     "text": [
      "C:\\Users\\DELL\\Anaconda32a\\lib\\site-packages\\sklearn\\linear_model\\logistic.py:433: FutureWarning: Default solver will be changed to 'lbfgs' in 0.22. Specify a solver to silence this warning.\n",
      "  FutureWarning)\n"
     ]
    },
    {
     "data": {
      "text/plain": [
       "LogisticRegression(C=1.0, class_weight=None, dual=False, fit_intercept=True,\n",
       "          intercept_scaling=1, max_iter=100, multi_class='warn',\n",
       "          n_jobs=None, penalty='l2', random_state=None, solver='warn',\n",
       "          tol=0.0001, verbose=0, warm_start=False)"
      ]
     },
     "execution_count": 130,
     "metadata": {},
     "output_type": "execute_result"
    }
   ],
   "source": [
    "# how much our dataset is fit\n",
    "logmodel=LogisticRegression()\n",
    "logmodel.fit(x_train,y_train)"
   ]
  },
  {
   "cell_type": "code",
   "execution_count": 131,
   "metadata": {},
   "outputs": [
    {
     "data": {
      "text/plain": [
       "(array([1, 1, 1, 0, 1, 0, 1, 1, 1, 1, 1, 1, 1, 1, 1, 1, 1, 1, 1, 0, 1, 1,\n",
       "        0, 1, 1, 1, 0, 1, 1, 1], dtype=int64), 30)"
      ]
     },
     "execution_count": 131,
     "metadata": {},
     "output_type": "execute_result"
    }
   ],
   "source": [
    "# the possibilities of the accurate outcome\n",
    "predictions=logmodel.predict(x_test)\n",
    "predictions,len(predictions)"
   ]
  },
  {
   "cell_type": "code",
   "execution_count": 132,
   "metadata": {},
   "outputs": [],
   "source": [
    "# import moduke\n",
    "from sklearn.metrics import classification_report"
   ]
  },
  {
   "cell_type": "code",
   "execution_count": 133,
   "metadata": {},
   "outputs": [],
   "source": [
    "# Precision = TP/(TP + FP)\n",
    "# Precision measures how many of the samples \n",
    "# predicted as positive are actually positive\n",
    "# Precision is also known as positive predictive value (PPV)\n",
    "\n",
    "# Recall = TP/(TP + FN)\n",
    "# measures how many of the positive samples are captured\n",
    "# by the positive predictions:\n",
    "# Other names for recall are sensitivity, hit rate,\n",
    "# or true positive rate (TPR).\n",
    "\n",
    "# F1-score = 2 x (precision x recall)/(precision + recall)\n",
    "# f-score or f-measure, which is with the harmonic mean of\n",
    "# precision and recall"
   ]
  },
  {
   "cell_type": "code",
   "execution_count": 134,
   "metadata": {},
   "outputs": [
    {
     "name": "stdout",
     "output_type": "stream",
     "text": [
      "              precision    recall  f1-score   support\n",
      "\n",
      "           0       0.60      0.33      0.43         9\n",
      "           1       0.76      0.90      0.83        21\n",
      "\n",
      "   micro avg       0.73      0.73      0.73        30\n",
      "   macro avg       0.68      0.62      0.63        30\n",
      "weighted avg       0.71      0.73      0.71        30\n",
      "\n"
     ]
    }
   ],
   "source": [
    "# print the classification report\n",
    "print(classification_report(y_test,predictions))"
   ]
  },
  {
   "cell_type": "code",
   "execution_count": 135,
   "metadata": {},
   "outputs": [],
   "source": [
    "# import module\n",
    "from sklearn.metrics import confusion_matrix"
   ]
  },
  {
   "cell_type": "code",
   "execution_count": 136,
   "metadata": {},
   "outputs": [
    {
     "name": "stdout",
     "output_type": "stream",
     "text": [
      "1    21\n",
      "0     9\n",
      "Name: Loan_Status, dtype: int64\n",
      "[[ 3  6]\n",
      " [ 2 19]]\n"
     ]
    },
    {
     "data": {
      "text/html": [
       "<div>\n",
       "<style scoped>\n",
       "    .dataframe tbody tr th:only-of-type {\n",
       "        vertical-align: middle;\n",
       "    }\n",
       "\n",
       "    .dataframe tbody tr th {\n",
       "        vertical-align: top;\n",
       "    }\n",
       "\n",
       "    .dataframe thead th {\n",
       "        text-align: right;\n",
       "    }\n",
       "</style>\n",
       "<table border=\"1\" class=\"dataframe\">\n",
       "  <thead>\n",
       "    <tr style=\"text-align: right;\">\n",
       "      <th></th>\n",
       "      <th>Predicted Class0</th>\n",
       "      <th>Predicted Class1</th>\n",
       "    </tr>\n",
       "  </thead>\n",
       "  <tbody>\n",
       "    <tr>\n",
       "      <th>Class 0</th>\n",
       "      <td>3</td>\n",
       "      <td>6</td>\n",
       "    </tr>\n",
       "    <tr>\n",
       "      <th>Class 1</th>\n",
       "      <td>2</td>\n",
       "      <td>19</td>\n",
       "    </tr>\n",
       "  </tbody>\n",
       "</table>\n",
       "</div>"
      ],
      "text/plain": [
       "         Predicted Class0  Predicted Class1\n",
       "Class 0                 3                 6\n",
       "Class 1                 2                19"
      ]
     },
     "execution_count": 136,
     "metadata": {},
     "output_type": "execute_result"
    }
   ],
   "source": [
    "# print the value count\n",
    "print(y_test.value_counts())\n",
    "# print the cofusion matrix\n",
    "print(confusion_matrix(y_test,predictions))\n",
    "#confusion matrix(y_test,predictions)\n",
    "confusion_df=pd.DataFrame(confusion_matrix(y_test,predictions),\n",
    "                          columns=[\"Predicted Class\" + str(class_name) for class_name in [0,1]],\n",
    "                           index = [\"Class \" + str(class_name) for class_name in [0,1]])\n",
    "\n",
    "confusion_df"
   ]
  },
  {
   "cell_type": "code",
   "execution_count": 137,
   "metadata": {},
   "outputs": [],
   "source": [
    "#                 predicted     \n",
    "# actual    class-0      class-1\n",
    "# class-0      TN           FP   \n",
    "# class-1      FN           TP"
   ]
  },
  {
   "cell_type": "code",
   "execution_count": 138,
   "metadata": {},
   "outputs": [],
   "source": [
    "# Precision = TP/(TP + FP)\n",
    "# Recall = TP/(TP + FN)\n",
    "# F1-score = 2 x (precision x recall)/(precision + recall)\n",
    "#                 predicted     \n",
    "#           class-0      class-1\n",
    "# class-0   TN (3)      FP (6) \n",
    "# class-1   FN (2)      TP (19)"
   ]
  },
  {
   "cell_type": "code",
   "execution_count": 139,
   "metadata": {},
   "outputs": [
    {
     "name": "stdout",
     "output_type": "stream",
     "text": [
      "[[ 6.05701260e-04 -9.00587801e-02  3.45884419e-01  2.76523134e-01\n",
      "  -6.28674156e-05  1.42932356e-04 -1.22190686e-02 -3.30677384e-03\n",
      "   2.59980330e+00  1.92255361e-01]]\n"
     ]
    }
   ],
   "source": [
    "# print the coefficient\n",
    "print(logmodel.coef_)"
   ]
  },
  {
   "cell_type": "code",
   "execution_count": 140,
   "metadata": {},
   "outputs": [
    {
     "name": "stdout",
     "output_type": "stream",
     "text": [
      "[0.04045654]\n"
     ]
    }
   ],
   "source": [
    "# print the intercept\n",
    "print(logmodel.intercept_)"
   ]
  },
  {
   "cell_type": "code",
   "execution_count": 141,
   "metadata": {},
   "outputs": [
    {
     "name": "stderr",
     "output_type": "stream",
     "text": [
      "C:\\Users\\DELL\\Anaconda32a\\lib\\site-packages\\ipykernel_launcher.py:2: FutureWarning: Method .as_matrix will be removed in a future version. Use .values instead.\n",
      "  \n"
     ]
    }
   ],
   "source": [
    "# converting into as.matrix\n",
    "y_m=y_test.as_matrix()"
   ]
  },
  {
   "cell_type": "code",
   "execution_count": 142,
   "metadata": {},
   "outputs": [
    {
     "data": {
      "text/plain": [
       "0.7333333333333333"
      ]
     },
     "execution_count": 142,
     "metadata": {},
     "output_type": "execute_result"
    }
   ],
   "source": [
    "# to determine the score\n",
    "from sklearn.metrics import accuracy_score\n",
    "log_score=accuracy_score(y_test,predictions)\n",
    "log_score"
   ]
  },
  {
   "cell_type": "markdown",
   "metadata": {},
   "source": [
    "### Decision Tree"
   ]
  },
  {
   "cell_type": "markdown",
   "metadata": {},
   "source": [
    "#### Reading Data"
   ]
  },
  {
   "cell_type": "code",
   "execution_count": 143,
   "metadata": {},
   "outputs": [],
   "source": [
    "# Read data from \n",
    "import pandas as pd"
   ]
  },
  {
   "cell_type": "markdown",
   "metadata": {},
   "source": [
    "#### Explore the data"
   ]
  },
  {
   "cell_type": "code",
   "execution_count": 144,
   "metadata": {},
   "outputs": [
    {
     "data": {
      "text/html": [
       "<div>\n",
       "<style scoped>\n",
       "    .dataframe tbody tr th:only-of-type {\n",
       "        vertical-align: middle;\n",
       "    }\n",
       "\n",
       "    .dataframe tbody tr th {\n",
       "        vertical-align: top;\n",
       "    }\n",
       "\n",
       "    .dataframe thead th {\n",
       "        text-align: right;\n",
       "    }\n",
       "</style>\n",
       "<table border=\"1\" class=\"dataframe\">\n",
       "  <thead>\n",
       "    <tr style=\"text-align: right;\">\n",
       "      <th></th>\n",
       "      <th>Application_ID</th>\n",
       "      <th>Gender</th>\n",
       "      <th>Married</th>\n",
       "      <th>Self_Employed</th>\n",
       "      <th>ApplicantIncome</th>\n",
       "      <th>CoapplicantIncome</th>\n",
       "      <th>LoanAmount</th>\n",
       "      <th>Loan_Amount_Term</th>\n",
       "      <th>Credit_History</th>\n",
       "      <th>Property_Area</th>\n",
       "      <th>Loan_Status</th>\n",
       "    </tr>\n",
       "  </thead>\n",
       "  <tbody>\n",
       "    <tr>\n",
       "      <th>count</th>\n",
       "      <td>100.000000</td>\n",
       "      <td>100.000000</td>\n",
       "      <td>100.000000</td>\n",
       "      <td>100.000000</td>\n",
       "      <td>100.00000</td>\n",
       "      <td>100.000000</td>\n",
       "      <td>100.000000</td>\n",
       "      <td>100.000000</td>\n",
       "      <td>100.000000</td>\n",
       "      <td>100.000000</td>\n",
       "      <td>100.000000</td>\n",
       "    </tr>\n",
       "    <tr>\n",
       "      <th>mean</th>\n",
       "      <td>1160.470000</td>\n",
       "      <td>0.151515</td>\n",
       "      <td>0.690000</td>\n",
       "      <td>0.138298</td>\n",
       "      <td>4122.83000</td>\n",
       "      <td>1700.550000</td>\n",
       "      <td>134.221053</td>\n",
       "      <td>341.684211</td>\n",
       "      <td>0.836957</td>\n",
       "      <td>0.910000</td>\n",
       "      <td>0.640000</td>\n",
       "    </tr>\n",
       "    <tr>\n",
       "      <th>std</th>\n",
       "      <td>104.622212</td>\n",
       "      <td>0.358550</td>\n",
       "      <td>0.464823</td>\n",
       "      <td>0.336382</td>\n",
       "      <td>2258.89434</td>\n",
       "      <td>1947.668891</td>\n",
       "      <td>61.832975</td>\n",
       "      <td>59.741068</td>\n",
       "      <td>0.356106</td>\n",
       "      <td>0.954468</td>\n",
       "      <td>0.482418</td>\n",
       "    </tr>\n",
       "    <tr>\n",
       "      <th>min</th>\n",
       "      <td>1002.000000</td>\n",
       "      <td>0.000000</td>\n",
       "      <td>0.000000</td>\n",
       "      <td>0.000000</td>\n",
       "      <td>1000.00000</td>\n",
       "      <td>0.000000</td>\n",
       "      <td>17.000000</td>\n",
       "      <td>60.000000</td>\n",
       "      <td>0.000000</td>\n",
       "      <td>0.000000</td>\n",
       "      <td>0.000000</td>\n",
       "    </tr>\n",
       "    <tr>\n",
       "      <th>25%</th>\n",
       "      <td>1062.500000</td>\n",
       "      <td>0.000000</td>\n",
       "      <td>0.000000</td>\n",
       "      <td>0.000000</td>\n",
       "      <td>2636.00000</td>\n",
       "      <td>0.000000</td>\n",
       "      <td>100.000000</td>\n",
       "      <td>360.000000</td>\n",
       "      <td>1.000000</td>\n",
       "      <td>0.000000</td>\n",
       "      <td>0.000000</td>\n",
       "    </tr>\n",
       "    <tr>\n",
       "      <th>50%</th>\n",
       "      <td>1153.000000</td>\n",
       "      <td>0.000000</td>\n",
       "      <td>1.000000</td>\n",
       "      <td>0.000000</td>\n",
       "      <td>3598.00000</td>\n",
       "      <td>1558.500000</td>\n",
       "      <td>122.000000</td>\n",
       "      <td>360.000000</td>\n",
       "      <td>1.000000</td>\n",
       "      <td>0.500000</td>\n",
       "      <td>1.000000</td>\n",
       "    </tr>\n",
       "    <tr>\n",
       "      <th>75%</th>\n",
       "      <td>1253.500000</td>\n",
       "      <td>0.000000</td>\n",
       "      <td>1.000000</td>\n",
       "      <td>0.000000</td>\n",
       "      <td>4710.00000</td>\n",
       "      <td>2394.500000</td>\n",
       "      <td>145.750000</td>\n",
       "      <td>360.000000</td>\n",
       "      <td>1.000000</td>\n",
       "      <td>2.000000</td>\n",
       "      <td>1.000000</td>\n",
       "    </tr>\n",
       "    <tr>\n",
       "      <th>max</th>\n",
       "      <td>1343.000000</td>\n",
       "      <td>1.000000</td>\n",
       "      <td>1.000000</td>\n",
       "      <td>1.000000</td>\n",
       "      <td>12841.00000</td>\n",
       "      <td>10968.000000</td>\n",
       "      <td>349.000000</td>\n",
       "      <td>480.000000</td>\n",
       "      <td>1.000000</td>\n",
       "      <td>2.000000</td>\n",
       "      <td>1.000000</td>\n",
       "    </tr>\n",
       "  </tbody>\n",
       "</table>\n",
       "</div>"
      ],
      "text/plain": [
       "       Application_ID      Gender     Married  Self_Employed  ApplicantIncome  \\\n",
       "count      100.000000  100.000000  100.000000     100.000000        100.00000   \n",
       "mean      1160.470000    0.151515    0.690000       0.138298       4122.83000   \n",
       "std        104.622212    0.358550    0.464823       0.336382       2258.89434   \n",
       "min       1002.000000    0.000000    0.000000       0.000000       1000.00000   \n",
       "25%       1062.500000    0.000000    0.000000       0.000000       2636.00000   \n",
       "50%       1153.000000    0.000000    1.000000       0.000000       3598.00000   \n",
       "75%       1253.500000    0.000000    1.000000       0.000000       4710.00000   \n",
       "max       1343.000000    1.000000    1.000000       1.000000      12841.00000   \n",
       "\n",
       "       CoapplicantIncome  LoanAmount  Loan_Amount_Term  Credit_History  \\\n",
       "count         100.000000  100.000000        100.000000      100.000000   \n",
       "mean         1700.550000  134.221053        341.684211        0.836957   \n",
       "std          1947.668891   61.832975         59.741068        0.356106   \n",
       "min             0.000000   17.000000         60.000000        0.000000   \n",
       "25%             0.000000  100.000000        360.000000        1.000000   \n",
       "50%          1558.500000  122.000000        360.000000        1.000000   \n",
       "75%          2394.500000  145.750000        360.000000        1.000000   \n",
       "max         10968.000000  349.000000        480.000000        1.000000   \n",
       "\n",
       "       Property_Area  Loan_Status  \n",
       "count     100.000000   100.000000  \n",
       "mean        0.910000     0.640000  \n",
       "std         0.954468     0.482418  \n",
       "min         0.000000     0.000000  \n",
       "25%         0.000000     0.000000  \n",
       "50%         0.500000     1.000000  \n",
       "75%         2.000000     1.000000  \n",
       "max         2.000000     1.000000  "
      ]
     },
     "execution_count": 144,
     "metadata": {},
     "output_type": "execute_result"
    }
   ],
   "source": [
    "#Describe a data frame in Python - summary statistics of all the variables\n",
    "train.describe()"
   ]
  },
  {
   "cell_type": "code",
   "execution_count": 145,
   "metadata": {},
   "outputs": [
    {
     "data": {
      "text/plain": [
       "Index(['Application_ID', 'Gender', 'Married', 'Self_Employed',\n",
       "       'ApplicantIncome', 'CoapplicantIncome', 'LoanAmount',\n",
       "       'Loan_Amount_Term', 'Credit_History', 'Property_Area', 'Loan_Status'],\n",
       "      dtype='object')"
      ]
     },
     "execution_count": 145,
     "metadata": {},
     "output_type": "execute_result"
    }
   ],
   "source": [
    "# Columns\n",
    "train.dtypes.index"
   ]
  },
  {
   "cell_type": "code",
   "execution_count": 146,
   "metadata": {},
   "outputs": [
    {
     "data": {
      "text/plain": [
       "1    64\n",
       "0    36\n",
       "Name: Loan_Status, dtype: int64"
      ]
     },
     "execution_count": 146,
     "metadata": {},
     "output_type": "execute_result"
    }
   ],
   "source": [
    "# Count Target Variable Values\n",
    "train.Loan_Status.value_counts()"
   ]
  },
  {
   "cell_type": "code",
   "execution_count": 147,
   "metadata": {},
   "outputs": [
    {
     "data": {
      "text/plain": [
       "1    64.0\n",
       "0    36.0\n",
       "Name: Loan_Status, dtype: float64"
      ]
     },
     "execution_count": 147,
     "metadata": {},
     "output_type": "execute_result"
    }
   ],
   "source": [
    "# Find % Values of Target Variable Levels\n",
    "round(train.Loan_Status.value_counts()*100/len(train.axes[0]),2)"
   ]
  },
  {
   "cell_type": "markdown",
   "metadata": {},
   "source": [
    "#### Test and Train Sample"
   ]
  },
  {
   "cell_type": "raw",
   "metadata": {},
   "source": [
    "Now, we have a data sample, which can be considered for the modeling. We are splitting the data into Test Sample (which will be used for validating the model developed) and Train Sample (which will be used for Model development)."
   ]
  },
  {
   "cell_type": "code",
   "execution_count": 148,
   "metadata": {},
   "outputs": [],
   "source": [
    "# Split sample into Train and Test\n",
    "from sklearn.model_selection import train_test_split"
   ]
  },
  {
   "cell_type": "code",
   "execution_count": 149,
   "metadata": {},
   "outputs": [],
   "source": [
    "# Keep Target and Independent Variable into different array\n",
    "train_IndepentVars = train.values[:, 3:5]\n",
    "train_TargetVar = train.values[:,5]"
   ]
  },
  {
   "cell_type": "code",
   "execution_count": 150,
   "metadata": {},
   "outputs": [
    {
     "data": {
      "text/plain": [
       "(array([    0.,  1508.,     0.,  2358.,     0.,  4196.,  1516.,  2504.,\n",
       "         1526., 10968.,   700.,  1840.,  8106.,  2840.,  1086.,     0.,\n",
       "            0.,     0.,     0.,  3500.,     0.,  5625.,  1911.,  1917.,\n",
       "         2925.,     0.,  2253.,  1040.,     0.,  2083.,  3369.,     0.,\n",
       "            0.,  1667.,  3000.,  2067.,  1330.,  1459.,  7210.,  1668.,\n",
       "            0.,  1213.,     0.,  2336.,     0.,     0.,     0.,     0.,\n",
       "         3440.,  2275.,  1644.,     0.,     0.,     0.,     0.,  1167.,\n",
       "         1591.,  2200.,  2250.,  2859.,  3796.,     0.,  3449.,     0.,\n",
       "            0.,  4595.,  2254.,     0.,     0.,     0.,  3066.,  1875.,\n",
       "            0.,     0.,  1774.,     0.,  4750.,  3022.,  4000.,  2166.,\n",
       "            0.,     0.,  1881.,  2250.,     0.,  2531.,  2000.,  2118.,\n",
       "            0.,  4167.,  2900.,  5654.,  1820.,     0.,     0.,     0.,\n",
       "         2302.,   997.,     0.,  3541.]), 100)"
      ]
     },
     "execution_count": 150,
     "metadata": {},
     "output_type": "execute_result"
    }
   ],
   "source": [
    "train_TargetVar,len(train_TargetVar)"
   ]
  },
  {
   "cell_type": "markdown",
   "metadata": {},
   "source": [
    "#### Decision Tree"
   ]
  },
  {
   "cell_type": "raw",
   "metadata": {},
   "source": [
    "We have arrays for independent variables and the target variable. We can now build decision tree classifier. We are using DecisionTreeClassifier from sklearn library.\n",
    "\"gini\" option helps in leveraging CART - Classification and Regression Tree - algorithm for fitting the decision tree."
   ]
  },
  {
   "cell_type": "code",
   "execution_count": 151,
   "metadata": {},
   "outputs": [
    {
     "data": {
      "text/plain": [
       "DecisionTreeClassifier(class_weight=None, criterion='gini', max_depth=5,\n",
       "            max_features=None, max_leaf_nodes=None,\n",
       "            min_impurity_decrease=0.0, min_impurity_split=None,\n",
       "            min_samples_leaf=5, min_samples_split=2,\n",
       "            min_weight_fraction_leaf=0.0, presort=False, random_state=100,\n",
       "            splitter='best')"
      ]
     },
     "execution_count": 151,
     "metadata": {},
     "output_type": "execute_result"
    }
   ],
   "source": [
    "# Load library\n",
    "#from sklearn import tree\n",
    "from sklearn.tree import DecisionTreeClassifier\n",
    "# Building Decision Tree - CART Algorithm (gini criteria)\n",
    "dt_train_gini = DecisionTreeClassifier(criterion = \"gini\", \n",
    "                                       random_state = 100,\n",
    "                               max_depth=5, min_samples_leaf=5)\n",
    "# Train\n",
    "dt_train_gini.fit(train_IndepentVars, train_TargetVar)"
   ]
  },
  {
   "cell_type": "markdown",
   "metadata": {},
   "source": [
    "#### Decision Tree Visualization"
   ]
  },
  {
   "cell_type": "raw",
   "metadata": {},
   "source": [
    "To see the decision tree plot we'll use graphviz."
   ]
  },
  {
   "cell_type": "code",
   "execution_count": 152,
   "metadata": {},
   "outputs": [],
   "source": [
    "from sklearn import tree\n",
    "with open(\"dt_train_gini.txt\", \"w\") as f:\n",
    "    f = tree.export_graphviz(dt_train_gini, out_file=f)"
   ]
  },
  {
   "cell_type": "markdown",
   "metadata": {},
   "source": [
    "This step create a text file dt_train_gini.txt in the default folder. We can give full path as well. We can copy the context of this text file and put into the box on http://www.webgraphviz.com/"
   ]
  },
  {
   "cell_type": "code",
   "execution_count": 153,
   "metadata": {},
   "outputs": [
    {
     "name": "stdout",
     "output_type": "stream",
     "text": [
      "70 30 70 30\n"
     ]
    }
   ],
   "source": [
    "from sklearn.linear_model import LinearRegression\n",
    "# from sklearn.cross_validation import train_test_split\n",
    "from sklearn.model_selection import train_test_split\n",
    "\n",
    "X_train, X_test, y_train, y_test = train_test_split(X,\n",
    "                y, test_size=0.3, random_state=0)\n",
    "\n",
    "regressor = LinearRegression()\n",
    "regressor.fit(X_train, y_train)\n",
    "print (len(X_train), len(X_test), len(y_train), \n",
    "       len(y_test))"
   ]
  },
  {
   "cell_type": "code",
   "execution_count": 154,
   "metadata": {},
   "outputs": [
    {
     "name": "stdout",
     "output_type": "stream",
     "text": [
      "Estimated intercept: -0.6560423308906447\n"
     ]
    }
   ],
   "source": [
    "# result = regressor.fit(X, y)\n",
    "# print(result)\n",
    "print ('Estimated intercept:', regressor.intercept_)"
   ]
  },
  {
   "cell_type": "code",
   "execution_count": 155,
   "metadata": {},
   "outputs": [
    {
     "name": "stdout",
     "output_type": "stream",
     "text": [
      "Number of coefficients: 10\n",
      "Coefficients: [ 7.52004641e-04  2.26748341e-01  1.64471679e-01 -3.02288905e-03\n",
      " -7.79270485e-06  9.81322443e-07 -5.43362487e-04 -6.66420506e-04\n",
      "  8.43270711e-01 -7.85800945e-02]\n"
     ]
    }
   ],
   "source": [
    "print ('Number of coefficients:', len(regressor.coef_))\n",
    "print ('Coefficients:', regressor.coef_)"
   ]
  },
  {
   "cell_type": "code",
   "execution_count": 156,
   "metadata": {},
   "outputs": [
    {
     "name": "stdout",
     "output_type": "stream",
     "text": [
      "y_pred :  [ 0.67187836  0.70190131  0.80529041  0.77985843  0.72048976  0.68580947\n",
      "  0.58501165 -0.02510415  0.13910314  0.68078649  0.88962045  1.03595092\n",
      " -0.01743459  0.56895343 -0.23316221  0.6559437  -0.18270914  0.49968667\n",
      "  0.69274766  0.75632443  0.70391648  0.10793888  0.78528725  0.82237387\n",
      "  0.96691161  0.27462417  0.80525725  0.88315773  1.19169288  0.77164167]\n",
      "Linear Regression R squared: 0.2113\n"
     ]
    }
   ],
   "source": [
    "# Calculate R-squared:\n",
    "# R-squared is a statistical measure of how close the\n",
    "# data are to the fitted regression line. It is also\n",
    "# known as the coefficient of determination\n",
    "\n",
    "y_pred = regressor.predict(X_test)\n",
    "print (\"y_pred : \",y_pred)\n",
    "print('Linear Regression R squared: %.4f' \\\n",
    "      % regressor.score(X_test, y_test))"
   ]
  },
  {
   "cell_type": "code",
   "execution_count": 157,
   "metadata": {},
   "outputs": [
    {
     "name": "stdout",
     "output_type": "stream",
     "text": [
      "Linear Regression RMSE: 0.4440\n"
     ]
    }
   ],
   "source": [
    "# Calculate root-mean-square error (RMSE):\n",
    "# Root Mean Square Error (RMSE) is the standard\n",
    "# deviation of the residuals (prediction errors).\n",
    "# Residuals are a measure of how far from the \n",
    "# regression line data points are\n",
    "\n",
    "import numpy as np\n",
    "from sklearn.metrics import mean_squared_error\n",
    "lin_mse = mean_squared_error(y_pred, y_test)\n",
    "lin_rmse = np.sqrt(lin_mse)\n",
    "print('Linear Regression RMSE: %.4f' % lin_rmse)"
   ]
  },
  {
   "cell_type": "code",
   "execution_count": 158,
   "metadata": {},
   "outputs": [
    {
     "name": "stdout",
     "output_type": "stream",
     "text": [
      "Linear Regression MAE: 0.3450\n"
     ]
    }
   ],
   "source": [
    "# Calculate mean absolute error (MAE):\n",
    "# In statistics, mean absolute error (MAE) is a \n",
    "# measure of difference between two continuous \n",
    "# variables\n",
    "\n",
    "from sklearn.metrics import mean_absolute_error\n",
    "\n",
    "lin_mae = mean_absolute_error(y_pred, y_test)\n",
    "print('Linear Regression MAE: %.4f' % lin_mae)"
   ]
  },
  {
   "cell_type": "code",
   "execution_count": 159,
   "metadata": {},
   "outputs": [],
   "source": [
    "# Preliminaries\n",
    "# Load libraries\n",
    "from sklearn.datasets import make_classification\n",
    "from sklearn.linear_model import LogisticRegression\n",
    "from sklearn.metrics import roc_curve, roc_auc_score,auc\n",
    "from sklearn.model_selection import train_test_split\n",
    "from sklearn.model_selection import cross_val_score\n",
    "import matplotlib.pyplot as plt"
   ]
  },
  {
   "cell_type": "code",
   "execution_count": 160,
   "metadata": {},
   "outputs": [
    {
     "name": "stdout",
     "output_type": "stream",
     "text": [
      "len(X) = 100, X = \n",
      " [[-2.34127284e-01  1.09618874e+00 -9.06787899e-01  2.33396619e+00\n",
      "   3.18386743e-01  8.32347364e-01 -2.18844222e+00  1.35889168e+00\n",
      "  -6.37937284e-01  2.54511529e+00]\n",
      " [ 1.01783944e+00 -8.97220960e-01  1.72807940e-02 -6.97228247e-01\n",
      "   2.35294958e-01  9.20815720e-01 -1.18606030e+00 -2.00768764e+00\n",
      "  -6.83455812e-01  1.29927297e-01]\n",
      " [ 2.55841693e+00 -1.40682652e+00  9.38952565e-01  1.15727829e+00\n",
      "  -6.35036038e-02 -2.12545123e+00 -9.02987014e-01  6.70421787e-01\n",
      "  -1.25536545e+00 -1.17513913e+00]\n",
      " [ 8.07437262e-01  2.73418308e+00 -1.48152739e+00 -8.16755215e-01\n",
      "   5.74490097e-01  6.00401335e-01 -6.39193800e-01 -5.48344270e-01\n",
      "  -1.06322777e+00 -2.12169368e-01]\n",
      " [ 1.92342570e+00  1.21007090e+00 -8.55206660e-02 -3.26061500e+00\n",
      "  -1.14680613e+00 -1.20162037e+00  1.80735439e+00 -9.55306712e-03\n",
      "   1.51134286e-01 -3.75885936e+00]\n",
      " [ 7.24889279e-01  1.27815373e+00  1.81356088e+00 -2.23336452e+00\n",
      "   1.50702004e+00  7.32548520e-01  2.83403635e-01 -8.85824833e-01\n",
      "  -1.89566085e+00 -1.19266378e+00]\n",
      " [ 1.14355762e+00 -3.97754439e-01 -9.80947379e-01  2.15199859e-01\n",
      "   1.01462373e+00  7.31327681e-01 -1.74266346e+00  6.59637219e-01\n",
      "  -2.21923960e-01  6.65233804e-01]\n",
      " [ 4.88409378e-01  2.02739734e+00 -1.95141811e-02  1.85652160e-01\n",
      "  -8.59419420e-01 -5.06013122e-01 -5.57568065e-02  7.02125063e-01\n",
      "  -1.18171893e+00 -3.36754515e-01]\n",
      " [ 2.47551141e+00 -1.17148456e+00 -1.19664325e+00 -1.58232179e+00\n",
      "  -1.12603566e+00 -3.31072774e+00  2.14559895e+00  6.75375679e-02\n",
      "  -9.07580217e-01 -4.30096629e+00]\n",
      " [-4.32286616e-01  5.65888544e-01 -1.66470024e+00 -2.45310926e+00\n",
      "   7.51928248e-02 -4.43993123e-01  2.44995213e+00  7.64574065e-01\n",
      "  -2.12482775e-01 -2.23740035e+00]\n",
      " [ 2.14541839e+00 -3.46832385e-01  1.82796775e+00 -4.58603921e-01\n",
      "  -1.25291896e+00  2.44002206e+00 -3.65719500e+00  1.77390180e+00\n",
      "   7.27690147e-01  1.48298859e+00]\n",
      " [ 5.57195324e-01  1.26033323e+00 -1.11591571e+00 -2.11929209e+00\n",
      "   1.17862366e+00  5.60276773e-01  4.98290803e-01 -8.99987095e-01\n",
      "   2.07842875e+00 -1.23212320e+00]\n",
      " [ 9.32858846e-01  6.35276041e-02 -1.80204696e-01  2.56840287e+00\n",
      "  -6.19441371e-01 -6.14707792e-01 -1.95824299e+00 -1.57256171e-01\n",
      "  -2.89704064e-01  1.37611629e+00]\n",
      " [ 2.32909395e+00  3.01818748e-01  8.39122080e-01 -1.30351631e+00\n",
      "   3.17837249e-01 -2.86844355e+00  1.66400700e+00 -5.54740419e-01\n",
      "   1.51476184e-01 -3.69364659e+00]\n",
      " [ 1.55758319e+00 -9.85071309e-02 -1.67061996e+00 -2.59627380e+00\n",
      "   2.96043194e+00 -2.16827247e+00  2.53318983e+00  4.20266006e-02\n",
      "   1.95758506e-01 -4.02279354e+00]\n",
      " [ 8.11424370e-01  2.40817312e-01  9.10078399e-01  1.89311464e+00\n",
      "  -7.38874618e-01 -8.19922982e-01 -1.20547438e+00 -2.46814408e-01\n",
      "   1.05389791e-01  6.90111665e-01]\n",
      " [ 1.40630534e+00 -2.39219650e-01 -1.68989204e+00 -2.22576355e+00\n",
      "   1.05170295e+00 -1.35338623e+00  1.64927046e+00 -3.22215088e-01\n",
      "  -8.90946069e-01 -3.02779289e+00]\n",
      " [ 5.12752541e-01  5.84067628e-01  2.20627271e+00  1.22558102e+00\n",
      "  -1.04455058e+00 -8.69234663e-01 -4.58808226e-01  4.41864515e-01\n",
      "   3.40478169e-01  1.61215460e-01]\n",
      " [ 1.20223777e+00  3.09845329e-01  7.79183965e-01  1.19967908e+00\n",
      "  -1.41591539e+00  2.32883263e+00 -3.93977379e+00 -1.67498854e+00\n",
      "  -4.46822801e-01  2.77860388e+00]\n",
      " [ 1.73960956e+00  7.59966742e-01 -5.70217901e-02  1.99235678e+00\n",
      "  -1.75584733e+00 -1.67312794e+00 -1.23622262e+00 -1.29401104e+00\n",
      "  -4.82084825e-01 -5.50812008e-02]\n",
      " [ 1.03076283e+00 -1.43686486e-02 -5.71396207e-01 -8.76854650e-01\n",
      "  -8.08188221e-01  1.02098318e+00 -1.16468581e+00  5.52809308e-04\n",
      "  -6.19208027e-02  7.38145334e-02]\n",
      " [ 1.25832987e+00 -2.54583213e-01  2.26696503e-01  1.78411829e+00\n",
      "  -5.86309890e-02 -1.17385049e+00 -1.16441932e+00  5.71267036e-01\n",
      "   9.43400402e-02  2.57642843e-01]\n",
      " [ 1.37156151e+00  1.09547565e+00  5.16110064e-01  1.21183466e+00\n",
      "   2.42182395e+00  1.82382634e+00 -3.61972153e+00  6.67150924e-01\n",
      "  -6.29536439e-02  2.34187292e+00]\n",
      " [ 6.59171147e-01  3.99538932e-01 -2.68187136e-02 -2.48472920e-01\n",
      "  -1.44995644e-01 -9.20100062e-01  4.87477011e-01  2.00018284e-01\n",
      "   8.61093138e-01 -1.04352030e+00]\n",
      " [ 8.98064490e-01 -4.07575679e-01 -1.38804793e+00  5.96706014e-01\n",
      "   8.57949508e-01 -5.37511299e-01 -6.40407093e-01  6.63402292e-01\n",
      "   8.93437247e-02 -8.76056299e-02]\n",
      " [ 1.10623139e+00 -7.12735752e-01  6.53268067e-01 -1.62780743e+00\n",
      "   2.79497878e-01 -2.21581679e+00  2.27202882e+00 -2.31064621e+00\n",
      "   9.66160601e-02 -3.26200437e+00]\n",
      " [ 1.19631054e+00  2.24587079e-01  5.39465005e-02  1.28865533e+00\n",
      "  -7.32768532e-01  1.11722736e+00 -2.88123581e+00 -8.88681104e-01\n",
      "  -7.20785018e-01  1.82129190e+00]\n",
      " [ 1.10801309e+00  9.15394825e-02  1.39821736e+00 -1.35727649e+00\n",
      "   9.46101501e-01 -1.13353253e+00  1.08772627e+00  6.85954706e-01\n",
      "  -1.77642884e+00 -2.13438421e+00]\n",
      " [ 7.18578893e-02  1.09339928e+00 -1.78708949e+00 -7.95347598e-01\n",
      "   4.13343258e-01 -2.33415216e+00  2.63945633e+00  5.87735692e-01\n",
      "  -5.76502069e-01 -2.60474317e+00]\n",
      " [ 1.31784869e+00 -6.01392378e-01  4.31047793e-01  6.38766962e-01\n",
      "   7.72147145e-01  1.17234099e+00 -2.58129563e+00  2.38233560e+00\n",
      "   1.46099106e+00  1.34979320e+00]\n",
      " [ 1.48330317e+00 -2.04629947e+00  2.41956355e-01 -7.98845888e-01\n",
      "   2.73068388e-03  1.58465066e+00 -2.10180509e+00  6.04457904e-01\n",
      "  -1.11069062e+00  5.64005678e-01]\n",
      " [ 1.67554491e+00 -7.46420043e-01  1.81009250e+00 -7.35961401e-01\n",
      "   2.85029884e-01 -2.69123186e+00  1.63553472e+00 -1.84456208e+00\n",
      "  -4.72443429e-01 -3.03243029e+00]\n",
      " [ 1.30155714e+00 -2.30861687e-01  1.20514960e+00  1.51809443e+00\n",
      "  -3.30035462e-01 -1.33819594e+00 -8.64358955e-01  9.82308245e-01\n",
      "   1.16359854e+00 -9.31093335e-02]\n",
      " [ 1.26887849e+00 -2.06863448e-01 -1.39703335e+00 -1.93913747e+00\n",
      "   5.73319760e-01 -1.59927060e+00  1.78843818e+00  5.95244958e-01\n",
      "  -8.69496614e-01 -2.99873613e+00]\n",
      " [ 3.93845609e-01  4.52625491e-01  2.53843955e-01 -1.95941600e+00\n",
      "   1.59878180e+00 -3.32524396e+00  4.09578326e+00  1.04185094e+00\n",
      "   2.02015216e+00 -4.38428194e+00]\n",
      " [ 1.51388142e+00 -8.41252981e-01  2.18206986e-01 -1.68205965e+00\n",
      "  -1.43619269e+00 -1.20517494e+00  1.05094986e+00  1.52956525e+00\n",
      "   2.46763055e-01 -2.49093241e+00]\n",
      " [ 2.49812300e-01 -6.46739484e-01  1.74075351e+00 -1.71318923e-02\n",
      "  -7.84569871e-02 -7.18932456e-01  4.72341932e-01  4.74431646e-01\n",
      "   1.70367096e+00 -6.49442468e-01]\n",
      " [ 4.17455999e-01  1.06395541e+00 -4.97080442e-01  1.87851042e+00\n",
      "   9.14184654e-01  1.40983040e+00 -2.93038743e+00  1.19001576e+00\n",
      "  -3.05025716e+00  2.61103917e+00]\n",
      " [-1.71362851e+00 -2.88600326e+00 -1.36578723e-01  1.24638732e+00\n",
      "   1.21966302e+00  9.29606115e-01 -3.35737660e-01 -1.02349892e+00\n",
      "   9.89390729e-01  1.93993144e+00]\n",
      " [ 1.34589710e+00  5.35324405e-01 -8.22535968e-01  5.49015178e-02\n",
      "   1.85862729e-03 -1.17333790e+00 -4.19112540e-02  8.88662072e-01\n",
      "   6.20256517e-01 -1.09563132e+00]\n",
      " [ 1.05246865e+00  9.67142696e-01 -1.65787369e-01  7.45000544e-01\n",
      "  -2.50094216e-01  7.99463626e-01 -2.09768293e+00  9.18252843e-02\n",
      "   3.00161917e-02  1.14460466e+00]\n",
      " [ 9.54060586e-01  1.39283124e-01  5.12538061e-01  5.11224863e-01\n",
      "  -1.20828588e+00 -2.68795103e+00  1.35278319e+00  1.39460905e+00\n",
      "   7.90214223e-03 -1.98303781e+00]\n",
      " [ 8.58484073e-01  4.57578413e-02  5.56790166e-01  1.85823154e+00\n",
      "   5.38530827e-02  9.85119227e-01 -2.88068144e+00 -1.68630857e+00\n",
      "  -1.70114854e+00  2.18816448e+00]\n",
      " [ 1.26618313e+00  9.58189424e-02  4.48503583e-01  4.68918187e-01\n",
      "  -1.16576180e+00  6.09230323e-01 -1.90416141e+00  7.85933245e-01\n",
      "   5.19623560e-01  7.45891945e-01]\n",
      " [-1.77636543e-01  4.37094560e-01 -2.53371689e-01 -2.16528873e+00\n",
      "   3.03634820e-01 -3.09604987e-01  1.92251331e+00  2.57440019e-01\n",
      "   6.88706336e-01 -1.92688832e+00]\n",
      " [ 1.23429733e+00  8.43776885e-02  2.65676651e-02  1.35038310e+00\n",
      "  -7.46285940e-01 -6.35497025e-01 -1.34120649e+00 -7.11917948e-01\n",
      "  -9.32313514e-01  3.79384504e-01]\n",
      " [ 4.31160968e-02  4.30895506e-01  1.24753284e+00 -1.18574097e+00\n",
      "  -4.53820976e-01 -2.58790789e+00  3.16561398e+00 -3.91767266e-01\n",
      "   3.43426856e-01 -3.12030069e+00]\n",
      " [ 1.86876522e+00  2.02207685e+00 -9.96467785e-01 -2.82708128e-01\n",
      "   7.04659678e-01  1.80990948e+00 -2.97582160e+00 -3.71931536e-01\n",
      "  -1.41709495e+00  1.11509447e+00]\n",
      " [ 2.03204588e+00 -9.51448765e-01 -5.90858653e-01 -6.52386548e-01\n",
      "   8.62071140e-01  2.33987643e+00 -3.33996191e+00 -8.36254564e-01\n",
      "  -3.02831440e-01  1.25953659e+00]\n",
      " [ 5.01272921e-01 -1.25249358e+00 -1.06609222e+00 -1.40372542e+00\n",
      "   1.69366706e+00 -1.92579275e+00  2.33765340e+00  7.78984162e-01\n",
      "  -1.54076504e+00 -2.77736872e+00]\n",
      " [ 7.81057923e-01 -6.78191820e-02 -2.33582284e+00 -1.35491631e+00\n",
      "  -1.52695818e+00 -1.63306418e+00  1.80919849e+00  7.44867223e-01\n",
      "  -6.90516987e-01 -2.52112583e+00]\n",
      " [ 1.33384998e+00  5.42644002e-01 -2.26375959e-03  9.13073861e-01\n",
      "  -1.42121865e-02  2.24856746e-01 -1.91143399e+00 -2.05441391e-01\n",
      "   6.59028185e-02  7.58128773e-01]\n",
      " [ 1.57821768e+00  8.90948863e-01  3.72472745e-02  2.53981560e+00\n",
      "   7.38356064e-01 -8.28814202e-01 -2.26121159e+00  1.72807292e+00\n",
      "  -6.02484113e-01  1.10351252e+00]\n",
      " [ 1.45994275e+00 -6.32886443e-01  3.16857723e-01 -1.90881202e+00\n",
      "  -1.06253341e+00 -6.57197259e-01  7.46530971e-01  6.28091782e-01\n",
      "  -1.40084041e+00 -2.19692349e+00]\n",
      " [ 8.43929996e-01 -1.54782356e-01  4.65386063e-02 -1.05056461e+00\n",
      "   1.70000387e-01 -1.65413895e+00  1.56789584e+00 -1.07501816e+00\n",
      "   1.10798067e+00 -2.30908605e+00]\n",
      " [ 3.75517307e+00 -1.55036174e+00  6.31665288e-01  1.73538082e-01\n",
      "  -9.13012224e-01  3.98842271e+00 -6.81514597e+00  4.79085397e-01\n",
      "   7.67645211e-01  3.11527696e+00]\n",
      " [ 1.52521669e+00 -6.28858753e-01  3.36350151e-01  1.69542926e+00\n",
      "   3.75625523e-01  1.60206627e+00 -3.87314038e+00 -6.92280499e-01\n",
      "   9.12847263e-01  2.51344727e+00]\n",
      " [ 1.43340367e+00  1.08889995e+00 -4.89071772e-01 -8.75369024e-01\n",
      "   7.77321205e-01 -1.55900543e+00  8.84657574e-01 -1.52767385e-01\n",
      "   1.81914832e+00 -2.15514355e+00]\n",
      " [ 9.92639158e-01  1.95639578e-01 -4.43113095e-01 -1.25681797e+00\n",
      "  -8.99801708e-01  1.08349527e+00 -9.29267504e-01 -1.47218763e+00\n",
      "  -4.68931621e-01 -1.64522189e-01]\n",
      " [ 1.06011127e+00 -1.16419466e+00  2.75397891e-01  1.89452469e+00\n",
      "   9.76539206e-01 -9.24183365e-01 -1.31077509e+00 -3.24886407e-01\n",
      "  -7.64196955e-01  5.76282634e-01]\n",
      " [ 1.14980940e+00 -5.85765707e-01  1.14284426e+00 -7.94384259e-01\n",
      "  -1.08248475e+00  1.05119386e+00 -1.34529207e+00  7.60447697e-01\n",
      "   1.96524248e+00  1.50836136e-01]\n",
      " [ 8.80931035e-01  6.60103654e-01 -2.13782166e+00  3.21613504e-01\n",
      "  -1.06829430e+00  1.54538589e+00 -2.35386203e+00  1.92822786e+00\n",
      "  -3.06127514e-02  1.46609638e+00]\n",
      " [ 2.24810597e+00 -3.27700262e-01  6.62201661e-01 -1.64084366e+00\n",
      "   4.22790248e-01 -2.85521136e+00  1.94987823e+00 -3.59002985e-01\n",
      "  -6.15114324e-01 -3.93603805e+00]\n",
      " [ 5.35140457e-01 -1.79891340e+00 -1.06515233e+00  1.32448663e+00\n",
      "  -3.50165160e-01  1.65901511e+00 -2.87213455e+00 -1.92028068e+00\n",
      "   1.60483265e+00  2.37900130e+00]\n",
      " [ 8.18384412e-01  1.24203584e+00  4.89259428e-01  8.07660466e-01\n",
      "   5.32361604e-01 -1.11809597e+00 -1.87457418e-01 -1.50996265e+00\n",
      "  -1.06505725e+00 -4.07278523e-01]\n",
      " [ 1.47518926e+00 -7.98517546e-01 -3.93126750e-01 -8.93317273e-01\n",
      "   6.79077520e-01 -2.21141039e+00  1.46387292e+00  4.00599240e-01\n",
      "  -5.09806756e-02 -2.72662217e+00]\n",
      " [ 1.06749429e+00 -2.29937717e-01 -3.44271032e+00 -1.01020183e+00\n",
      "   5.13346637e-01 -6.60580723e-01  4.45498365e-01  8.55371232e-01\n",
      "   1.79050973e+00 -1.45929297e+00]\n",
      " [ 2.72558070e+00 -7.07050713e-01  5.51390605e-01  1.31183864e+00\n",
      "  -8.15902596e-01  2.86688449e+00 -5.73930080e+00  8.84787694e-01\n",
      "   7.73428837e-01  3.15935232e+00]\n",
      " [ 3.16234398e-01  1.08006988e-01  3.52498724e-01 -3.41082319e-01\n",
      "   8.92054095e-01 -6.60524569e-01  5.88677558e-01  4.56118226e-01\n",
      "   3.10602766e-01 -8.58869047e-01]\n",
      " [ 3.44849363e-01 -1.41326124e+00 -8.93113769e-01 -1.01019928e+00\n",
      "   3.74540471e-03  1.65405583e-01  2.67260194e-01  5.56375212e-02\n",
      "  -1.18874655e+00 -6.81952996e-01]\n",
      " [ 3.91978028e-01  8.56465636e-01 -3.80230042e-01  1.27140128e+00\n",
      "  -9.62314699e-01 -1.29087707e-01 -1.07440269e+00  2.18691117e+00\n",
      "   5.50316922e-01  8.37174556e-01]\n",
      " [ 1.46330298e+00  3.93331494e-01  8.90442909e-01 -7.06356587e-01\n",
      "   1.17921921e+00 -2.34272454e+00  1.46526880e+00 -1.41644249e+00\n",
      "   2.04249244e-01 -2.69132222e+00]\n",
      " [ 9.71401370e-01  1.39845718e+00 -2.60332865e+00  5.22781121e-01\n",
      "   1.44399108e+00 -3.37916204e-01 -8.32158576e-01 -1.40538766e+00\n",
      "  -3.22038850e-01  1.62989646e-02]\n",
      " [ 7.28333898e-01 -5.63096616e-03 -1.52867773e+00  3.33330336e-01\n",
      "   1.63907811e+00 -1.54649380e+00  6.06753456e-01 -2.45614139e-01\n",
      "  -6.63841668e-02 -1.12959888e+00]\n",
      " [ 3.68442636e-01  6.80383445e-01  3.99461570e-01 -3.08184990e-01\n",
      "  -1.14544153e+00 -1.90898816e+00  1.67302431e+00 -5.84322815e-01\n",
      "  -1.80970731e+00 -1.89722940e+00]\n",
      " [ 9.41276490e-01 -4.23831849e-01  2.60917025e-02  1.75528017e+00\n",
      "  -1.78165031e-01  2.54846979e+00 -4.31523072e+00 -1.13624203e+00\n",
      "   8.75384482e-01  3.42459471e+00]\n",
      " [ 9.51272695e-01 -1.25506149e+00  8.65857290e-01  1.36839411e+00\n",
      "  -3.35372511e-01 -6.55805054e-01 -1.10700072e+00  1.99976841e+00\n",
      "  -8.67529691e-01  4.06376024e-01]\n",
      " [ 2.38954698e-01 -1.13099456e+00  7.99132553e-02 -1.73258105e+00\n",
      "  -6.26426422e-01  5.38100063e-02  9.53848564e-01  2.41628651e-01\n",
      "  -1.57798284e-01 -1.32686400e+00]\n",
      " [ 2.01313263e+00 -2.21839903e-02  9.04643996e-01 -7.42653561e-02\n",
      "   8.35798297e-01 -5.07289514e-01 -1.10318385e+00 -7.27332191e-01\n",
      "  -9.81601326e-01 -7.02627827e-01]\n",
      " [-3.78060995e-01 -2.01267279e+00 -2.86114835e-01  2.59444591e+00\n",
      "  -9.61151170e-01  1.09304394e+00 -2.49225075e+00  7.63963512e-01\n",
      "  -2.24859853e+00  2.98398484e+00]\n",
      " [ 1.13355664e+00  8.24151477e-01 -8.95377420e-01  8.11546322e-02\n",
      "   1.71750335e+00  4.31676755e-01 -1.36628852e+00  7.16750950e-01\n",
      "  -4.97940448e-01  3.08064807e-01]\n",
      " [ 7.59568797e-01  1.42344756e+00  5.55205185e-01 -8.16301896e-01\n",
      "  -6.52953102e-01 -1.16743969e+00  1.02618766e+00  6.86659528e-01\n",
      "   5.39990800e-01 -1.70536630e+00]\n",
      " [ 7.48247312e-01 -1.26531959e+00 -8.87437511e-01  1.46502177e+00\n",
      "   1.00201964e-01  1.96496249e+00 -3.42236361e+00 -1.73109458e+00\n",
      "   7.00927145e-01  2.72487776e+00]\n",
      " [-4.69031648e-01  5.64238304e-01 -1.74177681e+00 -1.48711668e+00\n",
      "   7.70273924e-01 -7.70845819e-01  2.11365706e+00  7.88382291e-01\n",
      "  -1.08228358e+00 -1.75956094e+00]\n",
      " [ 7.64489989e-01  5.10338040e-01 -2.27538568e-01  6.05134900e-01\n",
      "  -7.49179651e-01 -3.95566656e-01 -6.69292645e-01  7.89049444e-02\n",
      "  -2.07270097e+00  5.35338263e-02]\n",
      " [ 2.08483014e+00  3.73524045e-01  1.44953487e-01  6.39373273e-01\n",
      "  -1.43890675e+00  1.99168876e+00 -3.95357061e+00  5.84218875e-01\n",
      "  -3.08453258e-01  1.96299962e+00]\n",
      " [ 1.19903126e+00  9.98953232e-02 -9.12339606e-01  1.49411840e+00\n",
      "  -2.30778603e+00  1.49563533e+00 -3.37352882e+00  3.34572614e-01\n",
      "   1.27006828e+00  2.30152598e+00]\n",
      " [ 1.03616437e+00 -1.28187003e+00  1.01229242e+00 -1.20046509e+00\n",
      "  -3.88314929e-02 -1.84655288e+00  1.69363354e+00 -4.71943879e-01\n",
      "  -7.80703843e-01 -2.60925604e+00]\n",
      " [ 1.52314025e+00  5.43036528e-01  1.83195089e-01 -8.71717145e-01\n",
      "  -1.33192718e-01 -3.46343361e-01 -3.06284253e-01  1.34494488e+00\n",
      "  -3.70224621e-01 -1.13386708e+00]\n",
      " [ 7.98611928e-01  1.29097435e+00 -9.02154088e-01 -4.46055080e-01\n",
      "  -1.56884197e+00  7.87481540e-01 -1.06013405e+00 -5.58801377e-02\n",
      "   1.35528783e+00  2.35563982e-01]\n",
      " [ 2.27940484e+00 -3.25110225e-01 -4.55789986e-01 -1.51429872e+00\n",
      "  -9.81209005e-01 -2.79916352e+00  1.78574201e+00  1.29970590e+00\n",
      "  -8.51316888e-01 -3.79348351e+00]\n",
      " [ 1.62068572e+00 -7.38415025e-01  2.90055276e-01  2.14544406e-01\n",
      "  -7.08851545e-01  1.48738554e+00 -2.82236979e+00  6.23319340e-01\n",
      "   4.08488436e-01  1.25473990e+00]\n",
      " [-1.26690514e+00  4.56271103e-01  2.21068119e-01 -6.24695115e-01\n",
      "  -2.06979085e+00 -1.83063396e+00  3.13645436e+00  9.43689140e-01\n",
      "  -1.03988262e+00 -1.90234691e+00]\n",
      " [ 1.72710422e+00 -1.06592180e+00  7.25286624e-01 -2.44330051e+00\n",
      "   8.81148672e-02  2.08272461e+00 -1.62159033e+00 -1.07987996e+00\n",
      "   7.00948486e-01 -3.18245064e-01]\n",
      " [-1.65240707e-01  1.35675786e+00  4.48528160e-01  2.20156294e-01\n",
      "  -3.25798324e-01 -1.63674386e+00  1.48760951e+00  1.88400706e+00\n",
      "   5.23463441e-01 -1.19872930e+00]\n",
      " [ 7.10348538e-01 -5.18639649e-01 -8.97756577e-01 -1.13117122e+00\n",
      "  -4.94016437e-01  6.29998542e-01 -3.71231154e-01 -1.55703793e+00\n",
      "   6.60697651e-02 -4.21157150e-01]\n",
      " [ 1.44841119e+00  2.15623951e+00 -8.28049698e-01 -2.90621272e-01\n",
      "  -4.45713384e-01 -5.26861689e-01 -4.81019475e-01 -4.01087960e-01\n",
      "  -9.51376997e-02 -8.27155749e-01]\n",
      " [ 1.15287451e+00  6.68916432e-01  9.51650272e-01 -3.06059333e-03\n",
      "   1.86777389e-01 -1.87747290e+00  8.01646770e-01 -7.13754686e-01\n",
      "  -2.28288145e+00 -1.71701254e+00]\n",
      " [ 1.06896807e+00 -1.48091180e-01  1.82514355e+00  2.90216210e-01\n",
      "   1.13069856e+00 -7.96361600e-01 -3.28262993e-01 -8.01628069e-01\n",
      "  -1.09420250e+00 -5.63558411e-01]\n",
      " [ 1.08647148e+00  5.73358106e-01  7.69151116e-01  3.06192922e-01\n",
      "   1.99959817e-01  7.59531732e-01 -1.78544961e+00 -1.16928364e+00\n",
      "  -4.94511217e-01  7.65977348e-01]]\n",
      "len(y) = 100, y = \n",
      " [0 1 0 1 0 1 0 0 0 1 1 1 0 0 0 0 0 0 0 0 1 0 1 0 1 0 1 0 0 1 1 0 0 0 0 0 0\n",
      " 1 0 0 1 1 1 1 1 0 0 1 1 0 0 1 0 0 0 1 1 0 1 0 1 1 0 1 1 0 0 1 1 1 0 1 1 0\n",
      " 0 1 0 1 1 0 0 0 1 1 1 1 1 0 0 1 0 1 1 1 0 1 1 1 1 1]\n"
     ]
    }
   ],
   "source": [
    "# Generate Features And Target\n",
    "# Create feature matrix and target vector\n",
    "X, y = make_classification(n_samples=100, \n",
    "                           n_features=10, \n",
    "                           n_classes=2, \n",
    "                           n_informative=3,\n",
    "                           random_state=3)\n",
    "print(\"len(X) = {}, X = \\n {}\".format(len(X),X))\n",
    "print(\"len(y) = {}, y = \\n {}\".format(len(y),y))"
   ]
  },
  {
   "cell_type": "code",
   "execution_count": 161,
   "metadata": {},
   "outputs": [],
   "source": [
    "# Split Data Intro Training And Test Sets\n",
    "# Split into training and test sets\n",
    "X_train, X_test, y_train, y_test = train_test_split(X, y, test_size=0.1, random_state=1)"
   ]
  },
  {
   "cell_type": "code",
   "execution_count": 162,
   "metadata": {},
   "outputs": [
    {
     "name": "stderr",
     "output_type": "stream",
     "text": [
      "C:\\Users\\DELL\\Anaconda32a\\lib\\site-packages\\sklearn\\linear_model\\logistic.py:433: FutureWarning: Default solver will be changed to 'lbfgs' in 0.22. Specify a solver to silence this warning.\n",
      "  FutureWarning)\n"
     ]
    },
    {
     "data": {
      "text/plain": [
       "LogisticRegression(C=1.0, class_weight=None, dual=False, fit_intercept=True,\n",
       "          intercept_scaling=1, max_iter=100, multi_class='warn',\n",
       "          n_jobs=None, penalty='l2', random_state=None, solver='warn',\n",
       "          tol=0.0001, verbose=0, warm_start=False)"
      ]
     },
     "execution_count": 162,
     "metadata": {},
     "output_type": "execute_result"
    }
   ],
   "source": [
    "# Training Binary Classifier\n",
    "# Create classifier\n",
    "clf = LogisticRegression()\n",
    "\n",
    "# Train model\n",
    "clf.fit(X_train, y_train)"
   ]
  },
  {
   "cell_type": "code",
   "execution_count": 163,
   "metadata": {},
   "outputs": [
    {
     "data": {
      "text/plain": [
       "array([0.77887083, 0.46602181, 0.17374928, 0.48952749, 0.98138659,\n",
       "       0.38639416, 0.36807161, 0.88513778, 0.49472555, 0.05647594])"
      ]
     },
     "execution_count": 163,
     "metadata": {},
     "output_type": "execute_result"
    }
   ],
   "source": [
    "# Create Predicted Probabilities\n",
    "# Get predicted probabilities\n",
    "y_score = clf.predict_proba(X_test)[:,1]\n",
    "y_score"
   ]
  },
  {
   "cell_type": "raw",
   "metadata": {},
   "source": [
    "'''\n",
    "no. of actually Positive samples (P)\n",
    "no. of actually Negative samples (N)\n",
    "no. of True Positives (TP)\n",
    "   hit; correctly classified as Positive\n",
    "no. of True Negatives (TN)\n",
    "   correct rejection; correctly classified as Negative\n",
    "no. of False Positives (FP)\n",
    "   false alarm, Type I error; wrongly classified as Positive\n",
    "no. of False Negatives (FN)\n",
    "   miss, Type II error; wrongly classified as Negative\n",
    "\n",
    "Sensitivity or True Positive Rate (TPR)\n",
    "   also called Hit Rate, Recall\n",
    "   TPR=TP/P=TP/(TP+FN)\n",
    "\n",
    "Fall-Out or False Positive Rate (FPR)\n",
    "   FPR=FP/N=FP/(FP+TN)=1-SPC \n",
    "\n",
    "Specificity (SPC) or True Negative Rate\n",
    "   SPC=TN/N=TN/(TN+FP)\n",
    "\n",
    "Precision or Positive Predictive Value (PPV)\n",
    "   PPV=TP/(TP+FP)\n",
    "\n",
    "Accuracy (ACC)\n",
    "   ACC=(TP+TN)/(TP+FP+FN+TN)\n",
    "\n",
    "F1 Score\n",
    "   is the harmonic mean of Precision and Sensitivity\n",
    "   F1 Score = 2*Precision*Recall/(Precision+Recall)"
   ]
  },
  {
   "cell_type": "code",
   "execution_count": 164,
   "metadata": {},
   "outputs": [
    {
     "data": {
      "image/png": "[encoded data removed]",
      "text/plain": [
       "<Figure size 432x288 with 1 Axes>"
      ]
     },
     "metadata": {
      "needs_background": "light"
     },
     "output_type": "display_data"
    }
   ],
   "source": [
    "# Plot Receiving Operating Characteristic Curve\n",
    "# Create true and false positive rates\n",
    "\n",
    "false_positive_rate, true_positive_rate, threshold = roc_curve(y_test, y_score)\n",
    "\n",
    "# Plot ROC curve\n",
    "plt.title('Receiver Operating Characteristic (ROC)')\n",
    "roc_auc=auc(false_positive_rate,true_positive_rate)\n",
    "plt.plot(false_positive_rate, true_positive_rate,'b',label=\"AUC=%f\"%roc_auc)\n",
    "plt.legend(loc='lower right')\n",
    "plt.plot([0, 1], ls=\"--\")\n",
    "plt.plot([0, 0], [1, 0] , c=\".7\")\n",
    "plt.plot([1, 1] , c=\".7\")\n",
    "plt.ylabel('True Positive Rate (TPR=TP/P=TP/(TP+FN))')\n",
    "plt.xlabel('False Positive Rate (FPR=FP/N=FP/(FP+TN))')\n",
    "plt.show()"
   ]
  },
  {
   "cell_type": "code",
   "execution_count": 165,
   "metadata": {},
   "outputs": [
    {
     "name": "stderr",
     "output_type": "stream",
     "text": [
      "C:\\Users\\DELL\\Anaconda32a\\lib\\site-packages\\sklearn\\model_selection\\_split.py:2053: FutureWarning: You should specify a value for 'cv' instead of relying on the default value. The default value will change from 3 to 5 in version 0.22.\n",
      "  warnings.warn(CV_WARNING, FutureWarning)\n",
      "C:\\Users\\DELL\\Anaconda32a\\lib\\site-packages\\sklearn\\linear_model\\logistic.py:433: FutureWarning: Default solver will be changed to 'lbfgs' in 0.22. Specify a solver to silence this warning.\n",
      "  FutureWarning)\n",
      "C:\\Users\\DELL\\Anaconda32a\\lib\\site-packages\\sklearn\\linear_model\\logistic.py:433: FutureWarning: Default solver will be changed to 'lbfgs' in 0.22. Specify a solver to silence this warning.\n",
      "  FutureWarning)\n",
      "C:\\Users\\DELL\\Anaconda32a\\lib\\site-packages\\sklearn\\linear_model\\logistic.py:433: FutureWarning: Default solver will be changed to 'lbfgs' in 0.22. Specify a solver to silence this warning.\n",
      "  FutureWarning)\n"
     ]
    },
    {
     "data": {
      "text/plain": [
       "array([0.82352941, 0.76470588, 0.625     ])"
      ]
     },
     "execution_count": 165,
     "metadata": {},
     "output_type": "execute_result"
    }
   ],
   "source": [
    "# Precision = TP/(TP + FP)\n",
    "# Recall = TP/(TP + FN)\n",
    "# F1-score = 2 x (precision x recall)/(precision + recall)\n",
    "\n",
    "# Cross-Validate Model Using Recall\n",
    "cross_val_score(clf, X, y, scoring=\"recall\")"
   ]
  },
  {
   "cell_type": "code",
   "execution_count": 166,
   "metadata": {},
   "outputs": [
    {
     "name": "stderr",
     "output_type": "stream",
     "text": [
      "C:\\Users\\DELL\\Anaconda32a\\lib\\site-packages\\sklearn\\model_selection\\_split.py:2053: FutureWarning: You should specify a value for 'cv' instead of relying on the default value. The default value will change from 3 to 5 in version 0.22.\n",
      "  warnings.warn(CV_WARNING, FutureWarning)\n",
      "C:\\Users\\DELL\\Anaconda32a\\lib\\site-packages\\sklearn\\linear_model\\logistic.py:433: FutureWarning: Default solver will be changed to 'lbfgs' in 0.22. Specify a solver to silence this warning.\n",
      "  FutureWarning)\n",
      "C:\\Users\\DELL\\Anaconda32a\\lib\\site-packages\\sklearn\\linear_model\\logistic.py:433: FutureWarning: Default solver will be changed to 'lbfgs' in 0.22. Specify a solver to silence this warning.\n",
      "  FutureWarning)\n",
      "C:\\Users\\DELL\\Anaconda32a\\lib\\site-packages\\sklearn\\linear_model\\logistic.py:433: FutureWarning: Default solver will be changed to 'lbfgs' in 0.22. Specify a solver to silence this warning.\n",
      "  FutureWarning)\n"
     ]
    },
    {
     "data": {
      "text/plain": [
       "array([0.73684211, 0.8125    , 0.83333333])"
      ]
     },
     "execution_count": 166,
     "metadata": {},
     "output_type": "execute_result"
    }
   ],
   "source": [
    "# Precision = TP/(TP + FP)\n",
    "# Recall = TP/(TP + FN)\n",
    "# F1-score = 2 x (precision x recall)/(precision + recall)\n",
    "\n",
    "# Cross-validate model using precision\n",
    "cross_val_score(clf, X, y, scoring=\"precision\")"
   ]
  },
  {
   "cell_type": "code",
   "execution_count": 167,
   "metadata": {},
   "outputs": [
    {
     "data": {
      "text/plain": [
       "0.8444444444444444"
      ]
     },
     "execution_count": 167,
     "metadata": {},
     "output_type": "execute_result"
    }
   ],
   "source": [
    "dec_score=clf.score(X_train, y_train)\n",
    "dec_score"
   ]
  },
  {
   "cell_type": "code",
   "execution_count": 168,
   "metadata": {},
   "outputs": [],
   "source": [
    "accuracy=[naive,k,log_score,dec_score]\n",
    "col=[\"Model_Name\",\"accuracy\"]"
   ]
  },
  {
   "cell_type": "code",
   "execution_count": 169,
   "metadata": {},
   "outputs": [
    {
     "data": {
      "text/plain": [
       "[['naive_score', 1.0],\n",
       " ['knn_score', 0.78],\n",
       " ['logistic_score', 0.7333333333333333],\n",
       " ['decision_score', 0.8444444444444444]]"
      ]
     },
     "execution_count": 169,
     "metadata": {},
     "output_type": "execute_result"
    }
   ],
   "source": [
    "df=[[\"naive_score\",naive],[\"knn_score\",k],[\"logistic_score\",log_score],[\"decision_score\",dec_score]]\n",
    "df"
   ]
  },
  {
   "cell_type": "code",
   "execution_count": 170,
   "metadata": {},
   "outputs": [
    {
     "data": {
      "text/html": [
       "<div>\n",
       "<style scoped>\n",
       "    .dataframe tbody tr th:only-of-type {\n",
       "        vertical-align: middle;\n",
       "    }\n",
       "\n",
       "    .dataframe tbody tr th {\n",
       "        vertical-align: top;\n",
       "    }\n",
       "\n",
       "    .dataframe thead th {\n",
       "        text-align: right;\n",
       "    }\n",
       "</style>\n",
       "<table border=\"1\" class=\"dataframe\">\n",
       "  <thead>\n",
       "    <tr style=\"text-align: right;\">\n",
       "      <th></th>\n",
       "      <th>Model_Name</th>\n",
       "      <th>accuracy</th>\n",
       "    </tr>\n",
       "  </thead>\n",
       "  <tbody>\n",
       "    <tr>\n",
       "      <th>0</th>\n",
       "      <td>naive_score</td>\n",
       "      <td>1.000000</td>\n",
       "    </tr>\n",
       "    <tr>\n",
       "      <th>1</th>\n",
       "      <td>knn_score</td>\n",
       "      <td>0.780000</td>\n",
       "    </tr>\n",
       "    <tr>\n",
       "      <th>2</th>\n",
       "      <td>logistic_score</td>\n",
       "      <td>0.733333</td>\n",
       "    </tr>\n",
       "    <tr>\n",
       "      <th>3</th>\n",
       "      <td>decision_score</td>\n",
       "      <td>0.844444</td>\n",
       "    </tr>\n",
       "  </tbody>\n",
       "</table>\n",
       "</div>"
      ],
      "text/plain": [
       "       Model_Name  accuracy\n",
       "0     naive_score  1.000000\n",
       "1       knn_score  0.780000\n",
       "2  logistic_score  0.733333\n",
       "3  decision_score  0.844444"
      ]
     },
     "execution_count": 170,
     "metadata": {},
     "output_type": "execute_result"
    }
   ],
   "source": [
    "acc=pd.DataFrame(df,columns=col)\n",
    "acc"
   ]
  },
  {
   "cell_type": "code",
   "execution_count": 171,
   "metadata": {},
   "outputs": [
    {
     "data": {
      "image/png": "[encoded data removed]",
      "text/plain": [
       "<Figure size 360x360 with 1 Axes>"
      ]
     },
     "metadata": {
      "needs_background": "light"
     },
     "output_type": "display_data"
    }
   ],
   "source": [
    "import matplotlib.pyplot as plt\n",
    "\n",
    "plt.figure(figsize=(5,5))\n",
    "plt.scatter(acc['Model_Name'],acc['accuracy'])\n",
    "plt.xlabel('Models Used')\n",
    "plt.title('Accuracy of Prediction Models')\n",
    "plt.show()"
   ]
  },
  {
   "cell_type": "code",
   "execution_count": 172,
   "metadata": {},
   "outputs": [
    {
     "data": {
      "image/png": "[encoded data removed]",
      "text/plain": [
       "<Figure size 360x360 with 1 Axes>"
      ]
     },
     "metadata": {
      "needs_background": "light"
     },
     "output_type": "display_data"
    }
   ],
   "source": [
    "import matplotlib.pyplot as plt\n",
    "\n",
    "plt.figure(figsize=(5,5))\n",
    "plt.bar(acc['Model_Name'],acc['accuracy'])\n",
    "plt.xlabel('Models Used')\n",
    "plt.title('Accuracy of Prediction Models')\n",
    "plt.show()"
   ]
  },
  {
   "cell_type": "code",
   "execution_count": null,
   "metadata": {},
   "outputs": [],
   "source": []
  },
  {
   "cell_type": "code",
   "execution_count": null,
   "metadata": {},
   "outputs": [],
   "source": []
  },
  {
   "cell_type": "code",
   "execution_count": null,
   "metadata": {},
   "outputs": [],
   "source": []
  }
 ],
 "metadata": {
  "kernelspec": {
   "display_name": "Python 3",
   "language": "python",
   "name": "python3"
  },
  "language_info": {
   "codemirror_mode": {
    "name": "ipython",
    "version": 3
   },
   "file_extension": ".py",
   "mimetype": "text/x-python",
   "name": "python",
   "nbconvert_exporter": "python",
   "pygments_lexer": "ipython3",
   "version": "3.7.3"
  }
 },
 "nbformat": 4,
 "nbformat_minor": 2
}
